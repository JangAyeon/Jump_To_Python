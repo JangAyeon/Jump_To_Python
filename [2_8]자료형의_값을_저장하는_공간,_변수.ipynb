{
  "nbformat": 4,
  "nbformat_minor": 0,
  "metadata": {
    "colab": {
      "name": "[2-8]자료형의 값을 저장하는 공간, 변수.ipynb",
      "provenance": []
    },
    "kernelspec": {
      "name": "python3",
      "display_name": "Python 3"
    }
  },
  "cells": [
    {
      "cell_type": "markdown",
      "metadata": {
        "id": "G2Hp3XRN7fYB"
      },
      "source": [
        "**변수=변수에 저장할 값**"
      ]
    },
    {
      "cell_type": "code",
      "metadata": {
        "id": "0E3aqNgh7DlR"
      },
      "source": [
        "a=[1,2,3]\r\n",
        "id(a) #변수 a가 가르키는 메모리 주소"
      ],
      "execution_count": null,
      "outputs": []
    },
    {
      "cell_type": "markdown",
      "metadata": {
        "id": "R5Gg4q9M7qYp"
      },
      "source": [
        "**리스트 복사**"
      ]
    },
    {
      "cell_type": "code",
      "metadata": {
        "id": "gkraX_kS7rxF"
      },
      "source": [
        "a=[1,2,3]\r\n",
        "b=a #a와 b는 완전히 동일"
      ],
      "execution_count": 1,
      "outputs": []
    },
    {
      "cell_type": "code",
      "metadata": {
        "colab": {
          "base_uri": "https://localhost:8080/"
        },
        "id": "ZeVN37UO7vWl",
        "outputId": "955d3bb4-414f-49f5-8a56-e073ef3fc6ae"
      },
      "source": [
        "print(id(a))\r\n",
        "print(id(b)) #[1,2,3] 리스트를 참조하는 변수는 a와 b\r\n",
        "a is b #a와 b가 가르키는 객체는 동일한가?"
      ],
      "execution_count": 6,
      "outputs": [
        {
          "output_type": "stream",
          "text": [
            "140572466015496\n",
            "140572466015496\n"
          ],
          "name": "stdout"
        },
        {
          "output_type": "execute_result",
          "data": {
            "text/plain": [
              "True"
            ]
          },
          "metadata": {
            "tags": []
          },
          "execution_count": 6
        }
      ]
    },
    {
      "cell_type": "code",
      "metadata": {
        "colab": {
          "base_uri": "https://localhost:8080/"
        },
        "id": "E0wi5pOq7xiD",
        "outputId": "d03d85dc-97bc-4a94-c025-cd682be22deb"
      },
      "source": [
        "a[1]=4 #a의 두번째 요소 4로 변경\r\n",
        "print(a)\r\n",
        "print(b) #b의 두번째 요소도 4로 변경됨 -> a와 b 모두 동일한 리스트를 가리키고 있기 때문"
      ],
      "execution_count": 8,
      "outputs": [
        {
          "output_type": "stream",
          "text": [
            "[1, 4, 3]\n",
            "[1, 4, 3]\n"
          ],
          "name": "stdout"
        }
      ]
    },
    {
      "cell_type": "markdown",
      "metadata": {
        "id": "KY88uxl78eDY"
      },
      "source": [
        "**변수의 값을 가져오면서 다른 주소를 가리키도록 만들기**<br>\r\n",
        "\r\n",
        "\r\n",
        "*   [:] 사용\r\n",
        "*   copy 모듈 사용\r\n",
        "\r\n"
      ]
    },
    {
      "cell_type": "code",
      "metadata": {
        "colab": {
          "base_uri": "https://localhost:8080/"
        },
        "id": "X7VumNLj8L5V",
        "outputId": "3b33c07e-70be-4eda-d663-ebb54ff60c33"
      },
      "source": [
        "a=[1,2,3]\r\n",
        "b=a[:]\r\n",
        "a[1]=4\r\n",
        "\r\n",
        "print(a)\r\n",
        "print(b) #a 리스트의 값을 변경하더라도 b 리스트에 영향을 미치지 x"
      ],
      "execution_count": 9,
      "outputs": [
        {
          "output_type": "stream",
          "text": [
            "[1, 4, 3]\n",
            "[1, 2, 3]\n"
          ],
          "name": "stdout"
        }
      ]
    },
    {
      "cell_type": "code",
      "metadata": {
        "colab": {
          "base_uri": "https://localhost:8080/"
        },
        "id": "t8WKHfll8x0W",
        "outputId": "ede88ff8-c28d-46d7-814d-4ec72afe79f8"
      },
      "source": [
        "from copy import copy\r\n",
        "a=[1,2,3]\r\n",
        "b=copy(b)\r\n",
        "\r\n",
        "print(a)\r\n",
        "print(b)\r\n",
        "a is b"
      ],
      "execution_count": 12,
      "outputs": [
        {
          "output_type": "stream",
          "text": [
            "[1, 2, 3]\n",
            "[1, 2, 3]\n"
          ],
          "name": "stdout"
        },
        {
          "output_type": "execute_result",
          "data": {
            "text/plain": [
              "False"
            ]
          },
          "metadata": {
            "tags": []
          },
          "execution_count": 12
        }
      ]
    },
    {
      "cell_type": "markdown",
      "metadata": {
        "id": "f7g2Ztbe9IKW"
      },
      "source": [
        "**변수를 만드는 여러가지 방법**"
      ]
    },
    {
      "cell_type": "code",
      "metadata": {
        "id": "aSP6Lt3o87Pi"
      },
      "source": [
        "a,b=('Python','life') #튜플 이용해 a와 b에 값 대입"
      ],
      "execution_count": 13,
      "outputs": []
    },
    {
      "cell_type": "code",
      "metadata": {
        "id": "i9vchIM_9VAG"
      },
      "source": [
        "(a,b)='python','life' #튜플은 괄호 생략 가능"
      ],
      "execution_count": 14,
      "outputs": []
    },
    {
      "cell_type": "code",
      "metadata": {
        "id": "KU1LH2s59bCw"
      },
      "source": [
        "[a,b]=['Python','life']"
      ],
      "execution_count": 15,
      "outputs": []
    },
    {
      "cell_type": "code",
      "metadata": {
        "id": "M2aNWwVt9fhE"
      },
      "source": [
        "a=b='python'"
      ],
      "execution_count": 16,
      "outputs": []
    },
    {
      "cell_type": "code",
      "metadata": {
        "colab": {
          "base_uri": "https://localhost:8080/"
        },
        "id": "DMxdUc-y9hiB",
        "outputId": "a9ae31d9-709c-4dc1-d365-ce4ccbc11253"
      },
      "source": [
        "a=3\r\n",
        "b=5\r\n",
        "a,b=b,a #a와 b 값 바꾸기\r\n",
        "print(a)\r\n",
        "print(b)"
      ],
      "execution_count": 17,
      "outputs": [
        {
          "output_type": "stream",
          "text": [
            "5\n",
            "3\n"
          ],
          "name": "stdout"
        }
      ]
    },
    {
      "cell_type": "code",
      "metadata": {
        "colab": {
          "base_uri": "https://localhost:8080/"
        },
        "id": "0VHlI9VT9q1u",
        "outputId": "14dd0881-d565-4700-d315-2cfe96aaf11f"
      },
      "source": [
        "a=[1,2,3]\r\n",
        "b=[1,2,3]\r\n",
        "a is b"
      ],
      "execution_count": 18,
      "outputs": [
        {
          "output_type": "execute_result",
          "data": {
            "text/plain": [
              "False"
            ]
          },
          "metadata": {
            "tags": []
          },
          "execution_count": 18
        }
      ]
    },
    {
      "cell_type": "code",
      "metadata": {
        "id": "gSIp1kYb9v5i"
      },
      "source": [
        ""
      ],
      "execution_count": null,
      "outputs": []
    }
  ]
}