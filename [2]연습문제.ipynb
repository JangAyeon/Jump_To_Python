{
  "nbformat": 4,
  "nbformat_minor": 0,
  "metadata": {
    "colab": {
      "name": "연습문제-2.ipynb",
      "provenance": []
    },
    "kernelspec": {
      "name": "python3",
      "display_name": "Python 3"
    }
  },
  "cells": [
    {
      "cell_type": "code",
      "metadata": {
        "colab": {
          "base_uri": "https://localhost:8080/"
        },
        "id": "8JAsSgoovrLj",
        "outputId": "2171a130-8381-4f6d-d3e7-cac2ed6fd41c"
      },
      "source": [
        "#1번\r\n",
        "\r\n",
        "국어=80\r\n",
        "영어=75\r\n",
        "수학=55\r\n",
        "\r\n",
        "score=[국어, 영어,수학]\r\n",
        "avg=sum(score)/len(score)\r\n",
        "print(avg)"
      ],
      "execution_count": 1,
      "outputs": [
        {
          "output_type": "stream",
          "text": [
            "70.0\n"
          ],
          "name": "stdout"
        }
      ]
    },
    {
      "cell_type": "code",
      "metadata": {
        "colab": {
          "base_uri": "https://localhost:8080/"
        },
        "id": "pmTGJV5dwi6U",
        "outputId": "2abc45bc-251e-4ac5-ccd4-4e992ccdb51f"
      },
      "source": [
        "#2번\r\n",
        "\r\n",
        "num=int(input(\"정수를 입력하시오: \"))\r\n",
        "if num%2==0:\r\n",
        "  print(\"짝수\")\r\n",
        "else:\r\n",
        "  print(\"홀수\")"
      ],
      "execution_count": 2,
      "outputs": [
        {
          "output_type": "stream",
          "text": [
            "정수를 입력하시오: 13\n",
            "홀수\n"
          ],
          "name": "stdout"
        }
      ]
    },
    {
      "cell_type": "code",
      "metadata": {
        "colab": {
          "base_uri": "https://localhost:8080/"
        },
        "id": "PEGIXSItw5t0",
        "outputId": "d06a13a0-f7bd-4772-ddfd-c1f5c67d612d"
      },
      "source": [
        "#3번/4번\r\n",
        "\r\n",
        "pin=\"881120-1068234\"\r\n",
        "yyyymmdd=pin[:5]\r\n",
        "num=pin[7:]\r\n",
        "print(yyyymmdd)\r\n",
        "print(num)\r\n",
        "print(pin[7])"
      ],
      "execution_count": 6,
      "outputs": [
        {
          "output_type": "stream",
          "text": [
            "88112\n",
            "1068234\n",
            "1\n"
          ],
          "name": "stdout"
        }
      ]
    },
    {
      "cell_type": "code",
      "metadata": {
        "colab": {
          "base_uri": "https://localhost:8080/"
        },
        "id": "Tvt5uYKdxPIy",
        "outputId": "77e1bd62-0978-4487-c5ec-cb59219a4ba8"
      },
      "source": [
        "#5번\r\n",
        "\r\n",
        "a=\"a:b:c:d\"\r\n",
        "b=a.replace(\":\",\"#\")\r\n",
        "print(b)"
      ],
      "execution_count": 7,
      "outputs": [
        {
          "output_type": "stream",
          "text": [
            "a#b#c#d\n"
          ],
          "name": "stdout"
        }
      ]
    },
    {
      "cell_type": "code",
      "metadata": {
        "colab": {
          "base_uri": "https://localhost:8080/"
        },
        "id": "yhaj0Fflx0df",
        "outputId": "8dec98e8-3982-41fd-834a-33265d6007ea"
      },
      "source": [
        "#6번\r\n",
        "a=[1,3,5,4,2]\r\n",
        "a.sort()\r\n",
        "a.reverse()\r\n",
        "print(a)"
      ],
      "execution_count": 8,
      "outputs": [
        {
          "output_type": "stream",
          "text": [
            "[5, 4, 3, 2, 1]\n"
          ],
          "name": "stdout"
        }
      ]
    },
    {
      "cell_type": "code",
      "metadata": {
        "colab": {
          "base_uri": "https://localhost:8080/"
        },
        "id": "46K7uISux9x7",
        "outputId": "1b7067ac-db79-420f-f324-fa15f9936c26"
      },
      "source": [
        "#7번\r\n",
        "a=[\"Life\",\"is\",\"too\",\"short\"]\r\n",
        "result=\" \".join(a)\r\n",
        "print(result)"
      ],
      "execution_count": 12,
      "outputs": [
        {
          "output_type": "stream",
          "text": [
            "Life is too short\n"
          ],
          "name": "stdout"
        }
      ]
    },
    {
      "cell_type": "code",
      "metadata": {
        "colab": {
          "base_uri": "https://localhost:8080/"
        },
        "id": "0iZwjkg9yMVs",
        "outputId": "b1a2d4c5-2349-4a52-9dfa-d8822c6f1337"
      },
      "source": [
        "#8번\r\n",
        "a=(1,2,3)\r\n",
        "a=a+(4,)\r\n",
        "print(a)"
      ],
      "execution_count": 15,
      "outputs": [
        {
          "output_type": "stream",
          "text": [
            "(1, 2, 3, 4)\n"
          ],
          "name": "stdout"
        }
      ]
    },
    {
      "cell_type": "code",
      "metadata": {
        "id": "1s_inyipz_es"
      },
      "source": [
        ""
      ],
      "execution_count": null,
      "outputs": []
    }
  ]
}