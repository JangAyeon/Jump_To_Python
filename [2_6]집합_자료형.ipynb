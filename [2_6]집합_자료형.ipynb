{
  "nbformat": 4,
  "nbformat_minor": 0,
  "metadata": {
    "colab": {
      "name": "[2-6]집합 자료형.ipynb",
      "provenance": []
    },
    "kernelspec": {
      "name": "python3",
      "display_name": "Python 3"
    }
  },
  "cells": [
    {
      "cell_type": "markdown",
      "metadata": {
        "id": "sLiSlRyJ0LI8"
      },
      "source": [
        "**집합 생성**"
      ]
    },
    {
      "cell_type": "code",
      "metadata": {
        "colab": {
          "base_uri": "https://localhost:8080/"
        },
        "id": "dDHVUSHHzUdw",
        "outputId": "621a9a14-9273-4d69-d1aa-1ac7eca699d3"
      },
      "source": [
        "s1=set([1,2,3,3])\r\n",
        "s1"
      ],
      "execution_count": 1,
      "outputs": [
        {
          "output_type": "execute_result",
          "data": {
            "text/plain": [
              "{1, 2, 3}"
            ]
          },
          "metadata": {
            "tags": []
          },
          "execution_count": 1
        }
      ]
    },
    {
      "cell_type": "code",
      "metadata": {
        "colab": {
          "base_uri": "https://localhost:8080/"
        },
        "id": "ldDVzr3p0ROo",
        "outputId": "d0d6525e-8ba9-4290-c112-0437c41503e2"
      },
      "source": [
        "s2=set(\"hello\")\r\n",
        "s2"
      ],
      "execution_count": 2,
      "outputs": [
        {
          "output_type": "execute_result",
          "data": {
            "text/plain": [
              "{'e', 'h', 'l', 'o'}"
            ]
          },
          "metadata": {
            "tags": []
          },
          "execution_count": 2
        }
      ]
    },
    {
      "cell_type": "code",
      "metadata": {
        "colab": {
          "base_uri": "https://localhost:8080/"
        },
        "id": "X9IwuA8n0V34",
        "outputId": "f84c5914-9f26-4df6-b327-62e516c8e986"
      },
      "source": [
        "s3=set()\r\n",
        "s3"
      ],
      "execution_count": 3,
      "outputs": [
        {
          "output_type": "execute_result",
          "data": {
            "text/plain": [
              "set()"
            ]
          },
          "metadata": {
            "tags": []
          },
          "execution_count": 3
        }
      ]
    },
    {
      "cell_type": "markdown",
      "metadata": {
        "id": "dF5p6vjM0bs9"
      },
      "source": [
        "**집합 자료형 특징**<br>\r\n",
        "\r\n",
        "\r\n",
        "*   중복 허용 x\r\n",
        "*   순서가 없음 -> 인덱스 없음 -> 인덱싱 x, 슬라이싱 x\r\n",
        "\r\n"
      ]
    },
    {
      "cell_type": "code",
      "metadata": {
        "colab": {
          "base_uri": "https://localhost:8080/"
        },
        "id": "4Qvi4ocE0ZAw",
        "outputId": "3664c56b-1edb-4a95-d4c5-48a61080de46"
      },
      "source": [
        "s1=set([1,2,4])\r\n",
        "l1=list(s1)\r\n",
        "l1[0] #인덱싱으로 접근하기 위해 리스트로 변형"
      ],
      "execution_count": 6,
      "outputs": [
        {
          "output_type": "execute_result",
          "data": {
            "text/plain": [
              "1"
            ]
          },
          "metadata": {
            "tags": []
          },
          "execution_count": 6
        }
      ]
    },
    {
      "cell_type": "code",
      "metadata": {
        "colab": {
          "base_uri": "https://localhost:8080/"
        },
        "id": "sRB2LdGf0yi7",
        "outputId": "13566ed3-e936-4d3b-c891-6764c5bf5c2d"
      },
      "source": [
        "s1=set([1,2,4])\r\n",
        "t1=tuple(s1)\r\n",
        "t1[0] #인덱싱으로 접근하기 위해 튜플로 변형"
      ],
      "execution_count": 5,
      "outputs": [
        {
          "output_type": "execute_result",
          "data": {
            "text/plain": [
              "1"
            ]
          },
          "metadata": {
            "tags": []
          },
          "execution_count": 5
        }
      ]
    },
    {
      "cell_type": "markdown",
      "metadata": {
        "id": "XpEmKH-A1GZp"
      },
      "source": [
        "**교집합 / 합집합 / 차집합**"
      ]
    },
    {
      "cell_type": "code",
      "metadata": {
        "id": "ndiCgikK06fr"
      },
      "source": [
        "s1=set([1,2,3,4,5,6])\r\n",
        "s2=set([4,5,6,7,8,9])"
      ],
      "execution_count": 8,
      "outputs": []
    },
    {
      "cell_type": "code",
      "metadata": {
        "colab": {
          "base_uri": "https://localhost:8080/"
        },
        "id": "hcENF6Nw1aoO",
        "outputId": "ec7fc4c2-2074-4a9b-8ef4-7de5451bb689"
      },
      "source": [
        "s1 & s2"
      ],
      "execution_count": 10,
      "outputs": [
        {
          "output_type": "execute_result",
          "data": {
            "text/plain": [
              "{4, 5, 6}"
            ]
          },
          "metadata": {
            "tags": []
          },
          "execution_count": 10
        }
      ]
    },
    {
      "cell_type": "code",
      "metadata": {
        "colab": {
          "base_uri": "https://localhost:8080/"
        },
        "id": "pJwolEVz1dlL",
        "outputId": "35828e1b-3560-4966-cd82-afbfc25bc89f"
      },
      "source": [
        "s1.intersection(s2)"
      ],
      "execution_count": 12,
      "outputs": [
        {
          "output_type": "execute_result",
          "data": {
            "text/plain": [
              "{4, 5, 6}"
            ]
          },
          "metadata": {
            "tags": []
          },
          "execution_count": 12
        }
      ]
    },
    {
      "cell_type": "code",
      "metadata": {
        "colab": {
          "base_uri": "https://localhost:8080/"
        },
        "id": "AlfWJOzc1iNp",
        "outputId": "67703e3b-f1ea-4c1d-bf87-bfbf8f7520b4"
      },
      "source": [
        "s2.intersection(s1)"
      ],
      "execution_count": 15,
      "outputs": [
        {
          "output_type": "execute_result",
          "data": {
            "text/plain": [
              "{4, 5, 6}"
            ]
          },
          "metadata": {
            "tags": []
          },
          "execution_count": 15
        }
      ]
    },
    {
      "cell_type": "code",
      "metadata": {
        "colab": {
          "base_uri": "https://localhost:8080/"
        },
        "id": "cNbqswn31mMq",
        "outputId": "e9b1c2fd-9976-4cd2-e21b-a23b71b58100"
      },
      "source": [
        "s1 | s2"
      ],
      "execution_count": 17,
      "outputs": [
        {
          "output_type": "execute_result",
          "data": {
            "text/plain": [
              "{1, 2, 3, 4, 5, 6, 7, 8, 9}"
            ]
          },
          "metadata": {
            "tags": []
          },
          "execution_count": 17
        }
      ]
    },
    {
      "cell_type": "code",
      "metadata": {
        "colab": {
          "base_uri": "https://localhost:8080/"
        },
        "id": "ynvg-wSN1oSI",
        "outputId": "01866e50-54c7-4dca-ed83-6d3cb6968e54"
      },
      "source": [
        "s1.union(s2)"
      ],
      "execution_count": 19,
      "outputs": [
        {
          "output_type": "execute_result",
          "data": {
            "text/plain": [
              "{1, 2, 3, 4, 5, 6, 7, 8, 9}"
            ]
          },
          "metadata": {
            "tags": []
          },
          "execution_count": 19
        }
      ]
    },
    {
      "cell_type": "code",
      "metadata": {
        "colab": {
          "base_uri": "https://localhost:8080/"
        },
        "id": "ym6Ps86Q1q0v",
        "outputId": "d039a1ff-934b-479d-ff0f-c096a195b3cb"
      },
      "source": [
        "s2.union(s1)"
      ],
      "execution_count": 21,
      "outputs": [
        {
          "output_type": "execute_result",
          "data": {
            "text/plain": [
              "{1, 2, 3, 4, 5, 6, 7, 8, 9}"
            ]
          },
          "metadata": {
            "tags": []
          },
          "execution_count": 21
        }
      ]
    },
    {
      "cell_type": "code",
      "metadata": {
        "colab": {
          "base_uri": "https://localhost:8080/"
        },
        "id": "3fv6e_8w1uIZ",
        "outputId": "da573425-ecb0-4f0d-c964-69eabbd6054f"
      },
      "source": [
        "s1-s2"
      ],
      "execution_count": 24,
      "outputs": [
        {
          "output_type": "execute_result",
          "data": {
            "text/plain": [
              "{1, 2, 3}"
            ]
          },
          "metadata": {
            "tags": []
          },
          "execution_count": 24
        }
      ]
    },
    {
      "cell_type": "code",
      "metadata": {
        "colab": {
          "base_uri": "https://localhost:8080/"
        },
        "id": "GI1eH41B1xRx",
        "outputId": "eaf90b40-3160-41e5-d8d3-b7617a597939"
      },
      "source": [
        "s1.difference(s2)"
      ],
      "execution_count": 26,
      "outputs": [
        {
          "output_type": "execute_result",
          "data": {
            "text/plain": [
              "{1, 2, 3}"
            ]
          },
          "metadata": {
            "tags": []
          },
          "execution_count": 26
        }
      ]
    },
    {
      "cell_type": "code",
      "metadata": {
        "colab": {
          "base_uri": "https://localhost:8080/"
        },
        "id": "w2iJ2oLc13Pg",
        "outputId": "b9a675e1-e6cc-44a8-d0d5-d39412e41254"
      },
      "source": [
        "s2-s1"
      ],
      "execution_count": 27,
      "outputs": [
        {
          "output_type": "execute_result",
          "data": {
            "text/plain": [
              "{7, 8, 9}"
            ]
          },
          "metadata": {
            "tags": []
          },
          "execution_count": 27
        }
      ]
    },
    {
      "cell_type": "code",
      "metadata": {
        "colab": {
          "base_uri": "https://localhost:8080/"
        },
        "id": "oxU2aor510Ec",
        "outputId": "7e52d028-d352-47a4-90fe-b53d0dd42263"
      },
      "source": [
        "s2.difference(s1)"
      ],
      "execution_count": 28,
      "outputs": [
        {
          "output_type": "execute_result",
          "data": {
            "text/plain": [
              "{7, 8, 9}"
            ]
          },
          "metadata": {
            "tags": []
          },
          "execution_count": 28
        }
      ]
    },
    {
      "cell_type": "markdown",
      "metadata": {
        "id": "raSnbtwK1NWg"
      },
      "source": [
        "**add / update / remove**"
      ]
    },
    {
      "cell_type": "code",
      "metadata": {
        "colab": {
          "base_uri": "https://localhost:8080/"
        },
        "id": "N2LqlfuL1ROf",
        "outputId": "b417d068-ec10-435d-b3fe-6a83f47d22aa"
      },
      "source": [
        "s1=set([1,2,3])\r\n",
        "s1.add(4) # 값 1개 추가하기\r\n",
        "s1"
      ],
      "execution_count": 30,
      "outputs": [
        {
          "output_type": "execute_result",
          "data": {
            "text/plain": [
              "{1, 2, 3, 4}"
            ]
          },
          "metadata": {
            "tags": []
          },
          "execution_count": 30
        }
      ]
    },
    {
      "cell_type": "code",
      "metadata": {
        "colab": {
          "base_uri": "https://localhost:8080/"
        },
        "id": "kGEBRQ9O2Fz6",
        "outputId": "be5773f4-e1f8-4cfa-bbee-67feb0a87683"
      },
      "source": [
        "s1=set([1,2,3])\r\n",
        "s1.update([4,5,6]) # 값 여러 개 추가\r\n",
        "s1"
      ],
      "execution_count": 31,
      "outputs": [
        {
          "output_type": "execute_result",
          "data": {
            "text/plain": [
              "{1, 2, 3, 4, 5, 6}"
            ]
          },
          "metadata": {
            "tags": []
          },
          "execution_count": 31
        }
      ]
    },
    {
      "cell_type": "code",
      "metadata": {
        "colab": {
          "base_uri": "https://localhost:8080/"
        },
        "id": "NYaK2S0I2L6L",
        "outputId": "2e29bb29-e1c2-4a50-db90-30afceb1ccf1"
      },
      "source": [
        "s1=set([1,2,3])\r\n",
        "s1.remove(3) # 특정 값 제거\r\n",
        "s1"
      ],
      "execution_count": 32,
      "outputs": [
        {
          "output_type": "execute_result",
          "data": {
            "text/plain": [
              "{1, 2}"
            ]
          },
          "metadata": {
            "tags": []
          },
          "execution_count": 32
        }
      ]
    },
    {
      "cell_type": "code",
      "metadata": {
        "id": "mParkfoY2Pun"
      },
      "source": [
        ""
      ],
      "execution_count": null,
      "outputs": []
    }
  ]
}