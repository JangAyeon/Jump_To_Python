{
  "nbformat": 4,
  "nbformat_minor": 0,
  "metadata": {
    "colab": {
      "name": "[5-5]내장 함수.ipynb",
      "provenance": []
    },
    "kernelspec": {
      "name": "python3",
      "display_name": "Python 3"
    }
  },
  "cells": [
    {
      "cell_type": "markdown",
      "metadata": {
        "id": "k9hJ6J3vwseP"
      },
      "source": [
        "##내장 함수<br>\r\n"
      ]
    },
    {
      "cell_type": "markdown",
      "metadata": {
        "id": "IrobSjP5D3uy"
      },
      "source": [
        "\r\n",
        "\r\n",
        "> type(객체)\r\n",
        "\r\n"
      ]
    },
    {
      "cell_type": "code",
      "metadata": {
        "colab": {
          "base_uri": "https://localhost:8080/"
        },
        "id": "yuUd7JzuEX8N",
        "outputId": "eece743e-1030-4fdd-b0e9-581ebfb849f9"
      },
      "source": [
        "type(\"abc\")"
      ],
      "execution_count": 88,
      "outputs": [
        {
          "output_type": "execute_result",
          "data": {
            "text/plain": [
              "str"
            ]
          },
          "metadata": {
            "tags": []
          },
          "execution_count": 88
        }
      ]
    },
    {
      "cell_type": "code",
      "metadata": {
        "colab": {
          "base_uri": "https://localhost:8080/"
        },
        "id": "9wNeA1nDEai6",
        "outputId": "812dad42-8884-44ba-9d13-69e1d8e9a610"
      },
      "source": [
        "type([1,2,3])"
      ],
      "execution_count": 89,
      "outputs": [
        {
          "output_type": "execute_result",
          "data": {
            "text/plain": [
              "list"
            ]
          },
          "metadata": {
            "tags": []
          },
          "execution_count": 89
        }
      ]
    },
    {
      "cell_type": "markdown",
      "metadata": {
        "id": "Lwa6_0NAxC1a"
      },
      "source": [
        "\r\n",
        "\r\n",
        "\r\n",
        "\r\n",
        "> abs(x)<br>\r\n",
        "\r\n",
        "절댓값을 돌려주는 함수\r\n",
        "\r\n",
        "\r\n",
        "\r\n"
      ]
    },
    {
      "cell_type": "code",
      "metadata": {
        "colab": {
          "base_uri": "https://localhost:8080/"
        },
        "id": "kbyxHZqXwqLq",
        "outputId": "de2aad7b-6500-4d3e-a21d-75a5b3121939"
      },
      "source": [
        "abs(3)"
      ],
      "execution_count": 1,
      "outputs": [
        {
          "output_type": "execute_result",
          "data": {
            "text/plain": [
              "3"
            ]
          },
          "metadata": {
            "tags": []
          },
          "execution_count": 1
        }
      ]
    },
    {
      "cell_type": "code",
      "metadata": {
        "colab": {
          "base_uri": "https://localhost:8080/"
        },
        "id": "KvMyAIHpxRS6",
        "outputId": "85701a0a-2210-4e59-9b84-4df171d63d16"
      },
      "source": [
        "abs(-3)"
      ],
      "execution_count": 2,
      "outputs": [
        {
          "output_type": "execute_result",
          "data": {
            "text/plain": [
              "3"
            ]
          },
          "metadata": {
            "tags": []
          },
          "execution_count": 2
        }
      ]
    },
    {
      "cell_type": "code",
      "metadata": {
        "colab": {
          "base_uri": "https://localhost:8080/"
        },
        "id": "FCyouTr_xSY1",
        "outputId": "b0d67999-dc74-4858-ce4f-4c59f078d33a"
      },
      "source": [
        "abs(-1.2)"
      ],
      "execution_count": 3,
      "outputs": [
        {
          "output_type": "execute_result",
          "data": {
            "text/plain": [
              "1.2"
            ]
          },
          "metadata": {
            "tags": []
          },
          "execution_count": 3
        }
      ]
    },
    {
      "cell_type": "markdown",
      "metadata": {
        "id": "BKFoFV56zGdK"
      },
      "source": [
        "\r\n",
        "\r\n",
        "> divmod(a,b)<br>\r\n",
        "\r\n",
        "\r\n",
        "a랑 b를 나눈 몫과 나머지를 튜플 형태로 돌려주는 함수  \r\n",
        "\r\n"
      ]
    },
    {
      "cell_type": "code",
      "metadata": {
        "colab": {
          "base_uri": "https://localhost:8080/"
        },
        "id": "ou5uAnnRy6yM",
        "outputId": "6dd64ce3-8438-415a-e78c-acb4f5dc1f10"
      },
      "source": [
        "divmod(7,3)"
      ],
      "execution_count": 16,
      "outputs": [
        {
          "output_type": "execute_result",
          "data": {
            "text/plain": [
              "(2, 1)"
            ]
          },
          "metadata": {
            "tags": []
          },
          "execution_count": 16
        }
      ]
    },
    {
      "cell_type": "markdown",
      "metadata": {
        "id": "NfClBirO_afK"
      },
      "source": [
        "\r\n",
        "\r\n",
        "> pow(x,y)<br>\r\n",
        "x**y\r\n",
        "\r\n"
      ]
    },
    {
      "cell_type": "code",
      "metadata": {
        "colab": {
          "base_uri": "https://localhost:8080/"
        },
        "id": "qXx3A4kd_fgX",
        "outputId": "66112043-6d8a-48b2-fd4b-60ec928b52e5"
      },
      "source": [
        "pow(2,3)"
      ],
      "execution_count": 60,
      "outputs": [
        {
          "output_type": "execute_result",
          "data": {
            "text/plain": [
              "8"
            ]
          },
          "metadata": {
            "tags": []
          },
          "execution_count": 60
        }
      ]
    },
    {
      "cell_type": "markdown",
      "metadata": {
        "id": "lb2xtpipAHcH"
      },
      "source": [
        "\r\n",
        "\r\n",
        "> round(숫자, 자리수)<br>\r\n",
        "\r\n",
        "\r\n",
        "\r\n"
      ]
    },
    {
      "cell_type": "code",
      "metadata": {
        "colab": {
          "base_uri": "https://localhost:8080/"
        },
        "id": "8teVGMrcAS3R",
        "outputId": "2922cc6f-2ddc-4f7f-d4f9-c7cfeb48258b"
      },
      "source": [
        "round(4.2)"
      ],
      "execution_count": 68,
      "outputs": [
        {
          "output_type": "execute_result",
          "data": {
            "text/plain": [
              "4"
            ]
          },
          "metadata": {
            "tags": []
          },
          "execution_count": 68
        }
      ]
    },
    {
      "cell_type": "code",
      "metadata": {
        "colab": {
          "base_uri": "https://localhost:8080/"
        },
        "id": "9jdpXE5qASmG",
        "outputId": "d5744120-850a-4800-e234-3cd7c30b0dd8"
      },
      "source": [
        "round(4.5)"
      ],
      "execution_count": 69,
      "outputs": [
        {
          "output_type": "execute_result",
          "data": {
            "text/plain": [
              "4"
            ]
          },
          "metadata": {
            "tags": []
          },
          "execution_count": 69
        }
      ]
    },
    {
      "cell_type": "code",
      "metadata": {
        "colab": {
          "base_uri": "https://localhost:8080/"
        },
        "id": "zzPmvwRjASJO",
        "outputId": "1c93ca23-0df5-49c4-94a0-1a06228a28a2"
      },
      "source": [
        "round(3.41345,3)"
      ],
      "execution_count": 70,
      "outputs": [
        {
          "output_type": "execute_result",
          "data": {
            "text/plain": [
              "3.413"
            ]
          },
          "metadata": {
            "tags": []
          },
          "execution_count": 70
        }
      ]
    },
    {
      "cell_type": "markdown",
      "metadata": {
        "id": "r4RhWNSc_j3M"
      },
      "source": [
        "\r\n",
        "\r\n",
        "> range(시작 : 끝)<br>\r\n",
        "시작 이상 끝 미만으로 객체 행성\r\n",
        "\r\n"
      ]
    },
    {
      "cell_type": "code",
      "metadata": {
        "colab": {
          "base_uri": "https://localhost:8080/"
        },
        "id": "OWVJg1B5_rHo",
        "outputId": "08b5d539-487d-49a9-9c4f-3afe6413c9fa"
      },
      "source": [
        "list(range(6))"
      ],
      "execution_count": 61,
      "outputs": [
        {
          "output_type": "execute_result",
          "data": {
            "text/plain": [
              "[0, 1, 2, 3, 4, 5]"
            ]
          },
          "metadata": {
            "tags": []
          },
          "execution_count": 61
        }
      ]
    },
    {
      "cell_type": "code",
      "metadata": {
        "colab": {
          "base_uri": "https://localhost:8080/"
        },
        "id": "NubRyuhT_ymv",
        "outputId": "56cebbdf-2ff5-44ab-9a79-66057a5c0363"
      },
      "source": [
        "list(range(0,6))"
      ],
      "execution_count": 63,
      "outputs": [
        {
          "output_type": "execute_result",
          "data": {
            "text/plain": [
              "[0, 1, 2, 3, 4, 5]"
            ]
          },
          "metadata": {
            "tags": []
          },
          "execution_count": 63
        }
      ]
    },
    {
      "cell_type": "code",
      "metadata": {
        "colab": {
          "base_uri": "https://localhost:8080/"
        },
        "id": "Qg3ro5zd_2jp",
        "outputId": "050ac006-72bb-42b9-abbd-5dcd8f3e249c"
      },
      "source": [
        "list(range(0,10,3))"
      ],
      "execution_count": 65,
      "outputs": [
        {
          "output_type": "execute_result",
          "data": {
            "text/plain": [
              "[0, 3, 6, 9]"
            ]
          },
          "metadata": {
            "tags": []
          },
          "execution_count": 65
        }
      ]
    },
    {
      "cell_type": "code",
      "metadata": {
        "colab": {
          "base_uri": "https://localhost:8080/"
        },
        "id": "8VCR0HFy_7OV",
        "outputId": "afde17db-2b3e-46c2-ae27-f5b03d64eb8b"
      },
      "source": [
        "list(range(0,-10,-1))"
      ],
      "execution_count": 67,
      "outputs": [
        {
          "output_type": "execute_result",
          "data": {
            "text/plain": [
              "[0, -1, -2, -3, -4, -5, -6, -7, -8, -9]"
            ]
          },
          "metadata": {
            "tags": []
          },
          "execution_count": 67
        }
      ]
    },
    {
      "cell_type": "markdown",
      "metadata": {
        "id": "f-1SK5uh5Us0"
      },
      "source": [
        "\r\n",
        "\r\n",
        "> len(x)\r\n",
        "\r\n"
      ]
    },
    {
      "cell_type": "code",
      "metadata": {
        "colab": {
          "base_uri": "https://localhost:8080/"
        },
        "id": "yJ6wqp4I5Yf3",
        "outputId": "6557c4c9-285f-44f1-ea82-2101baaef8f1"
      },
      "source": [
        "len((1,'a'))"
      ],
      "execution_count": 44,
      "outputs": [
        {
          "output_type": "execute_result",
          "data": {
            "text/plain": [
              "2"
            ]
          },
          "metadata": {
            "tags": []
          },
          "execution_count": 44
        }
      ]
    },
    {
      "cell_type": "code",
      "metadata": {
        "colab": {
          "base_uri": "https://localhost:8080/"
        },
        "id": "kinjQ5P35aEX",
        "outputId": "8f4eeae3-21e2-485c-e1aa-ee5eb70e8e96"
      },
      "source": [
        "len([1,2,3])"
      ],
      "execution_count": 45,
      "outputs": [
        {
          "output_type": "execute_result",
          "data": {
            "text/plain": [
              "3"
            ]
          },
          "metadata": {
            "tags": []
          },
          "execution_count": 45
        }
      ]
    },
    {
      "cell_type": "code",
      "metadata": {
        "colab": {
          "base_uri": "https://localhost:8080/"
        },
        "id": "NL9xmsHz5P7C",
        "outputId": "2050ebf7-9a92-4098-9455-966c74c7ca03"
      },
      "source": [
        "len([1,2,3])"
      ],
      "execution_count": 42,
      "outputs": [
        {
          "output_type": "execute_result",
          "data": {
            "text/plain": [
              "3"
            ]
          },
          "metadata": {
            "tags": []
          },
          "execution_count": 42
        }
      ]
    },
    {
      "cell_type": "markdown",
      "metadata": {
        "id": "5uEhgT6axZ3m"
      },
      "source": [
        "\r\n",
        "\r\n",
        "> all(x)<br>\r\n",
        "\r\n",
        "\r\n",
        "반복 가능한 자료형(리스트, 튜플, 문자열, 딕셔너리)를 인수로 받음<br>\r\n",
        "모두 참이면 True, 하나라도 거짓이면 False<br>\r\n",
        "\r\n",
        "\r\n"
      ]
    },
    {
      "cell_type": "code",
      "metadata": {
        "colab": {
          "base_uri": "https://localhost:8080/"
        },
        "id": "MVCl35vdxUU8",
        "outputId": "0a30b705-1c36-4c6f-ab1d-f5b57606d1ad"
      },
      "source": [
        "all([1,2,3]) #1 2 3 모두 True"
      ],
      "execution_count": 6,
      "outputs": [
        {
          "output_type": "execute_result",
          "data": {
            "text/plain": [
              "True"
            ]
          },
          "metadata": {
            "tags": []
          },
          "execution_count": 6
        }
      ]
    },
    {
      "cell_type": "code",
      "metadata": {
        "colab": {
          "base_uri": "https://localhost:8080/"
        },
        "id": "kc9KhjBXxy2c",
        "outputId": "1a9de54a-daf9-4621-f449-045f0af3db79"
      },
      "source": [
        "all([1,2,3,0]) #1 2 3 0 중 0이 False임"
      ],
      "execution_count": 8,
      "outputs": [
        {
          "output_type": "execute_result",
          "data": {
            "text/plain": [
              "False"
            ]
          },
          "metadata": {
            "tags": []
          },
          "execution_count": 8
        }
      ]
    },
    {
      "cell_type": "markdown",
      "metadata": {
        "id": "0LGafEuyx_-U"
      },
      "source": [
        "\r\n",
        "\r\n",
        "> any(x)<br>\r\n",
        "\r\n",
        "하나라도 참이면 True, 모두 거짓이면 False\r\n",
        "\r\n"
      ]
    },
    {
      "cell_type": "code",
      "metadata": {
        "colab": {
          "base_uri": "https://localhost:8080/"
        },
        "id": "ADiLMrlLx5TP",
        "outputId": "a6fb5322-fbd0-49b1-d05c-c680bb070e9d"
      },
      "source": [
        "any([1,2,3,0])"
      ],
      "execution_count": 9,
      "outputs": [
        {
          "output_type": "execute_result",
          "data": {
            "text/plain": [
              "True"
            ]
          },
          "metadata": {
            "tags": []
          },
          "execution_count": 9
        }
      ]
    },
    {
      "cell_type": "code",
      "metadata": {
        "colab": {
          "base_uri": "https://localhost:8080/"
        },
        "id": "lCifVSB6yNsv",
        "outputId": "b5f01c69-08b7-4cee-9968-5379323934d3"
      },
      "source": [
        "any([0,\"\"])"
      ],
      "execution_count": 10,
      "outputs": [
        {
          "output_type": "execute_result",
          "data": {
            "text/plain": [
              "False"
            ]
          },
          "metadata": {
            "tags": []
          },
          "execution_count": 10
        }
      ]
    },
    {
      "cell_type": "markdown",
      "metadata": {
        "id": "-QRhCa9OySR1"
      },
      "source": [
        "\r\n",
        "\r\n",
        "> chr(x)<br>\r\n",
        "\r\n",
        "아스키코드 -> 문자\r\n",
        "\r\n"
      ]
    },
    {
      "cell_type": "code",
      "metadata": {
        "colab": {
          "base_uri": "https://localhost:8080/",
          "height": 34
        },
        "id": "6gCSqB99yQG2",
        "outputId": "d6a669a2-a45a-46c5-edc4-e2d32367f30f"
      },
      "source": [
        "chr(97)"
      ],
      "execution_count": 12,
      "outputs": [
        {
          "output_type": "execute_result",
          "data": {
            "application/vnd.google.colaboratory.intrinsic+json": {
              "type": "string"
            },
            "text/plain": [
              "'a'"
            ]
          },
          "metadata": {
            "tags": []
          },
          "execution_count": 12
        }
      ]
    },
    {
      "cell_type": "code",
      "metadata": {
        "colab": {
          "base_uri": "https://localhost:8080/",
          "height": 34
        },
        "id": "xtCN65ZAyceE",
        "outputId": "cfd9ec22-f9fd-47e7-af14-3f8fabb6217d"
      },
      "source": [
        "chr(48)"
      ],
      "execution_count": 13,
      "outputs": [
        {
          "output_type": "execute_result",
          "data": {
            "application/vnd.google.colaboratory.intrinsic+json": {
              "type": "string"
            },
            "text/plain": [
              "'0'"
            ]
          },
          "metadata": {
            "tags": []
          },
          "execution_count": 13
        }
      ]
    },
    {
      "cell_type": "markdown",
      "metadata": {
        "id": "miOsjhgl80xZ"
      },
      "source": [
        "\r\n",
        "\r\n",
        "> ord(x)<br>\r\n",
        "\r\n",
        "\r\n",
        "문자 -> 아스키코드\r\n",
        "\r\n"
      ]
    },
    {
      "cell_type": "code",
      "metadata": {
        "colab": {
          "base_uri": "https://localhost:8080/"
        },
        "id": "rqUrLTWx8_FL",
        "outputId": "8b74d028-7eb3-4483-d065-fc1271526aef"
      },
      "source": [
        "ord(\"a\")"
      ],
      "execution_count": 57,
      "outputs": [
        {
          "output_type": "execute_result",
          "data": {
            "text/plain": [
              "97"
            ]
          },
          "metadata": {
            "tags": []
          },
          "execution_count": 57
        }
      ]
    },
    {
      "cell_type": "code",
      "metadata": {
        "colab": {
          "base_uri": "https://localhost:8080/"
        },
        "id": "zcaZp6Qf9CKa",
        "outputId": "7bebc613-70de-44e6-e0f4-604bb81dc2e4"
      },
      "source": [
        "ord(\"0\")"
      ],
      "execution_count": 58,
      "outputs": [
        {
          "output_type": "execute_result",
          "data": {
            "text/plain": [
              "48"
            ]
          },
          "metadata": {
            "tags": []
          },
          "execution_count": 58
        }
      ]
    },
    {
      "cell_type": "markdown",
      "metadata": {
        "id": "BeneVqN0ysyG"
      },
      "source": [
        "\r\n",
        "\r\n",
        "> dir()<br>\r\n",
        "\r\n",
        "객체 자체가 가지고 있는 변수나 함수 보여줌\r\n"
      ]
    },
    {
      "cell_type": "code",
      "metadata": {
        "colab": {
          "base_uri": "https://localhost:8080/"
        },
        "id": "5ZhnFvXYyj3r",
        "outputId": "b69265a6-6e5c-43c7-8b41-5d452d169ff1"
      },
      "source": [
        "dir([1,2,3])"
      ],
      "execution_count": 14,
      "outputs": [
        {
          "output_type": "execute_result",
          "data": {
            "text/plain": [
              "['__add__',\n",
              " '__class__',\n",
              " '__contains__',\n",
              " '__delattr__',\n",
              " '__delitem__',\n",
              " '__dir__',\n",
              " '__doc__',\n",
              " '__eq__',\n",
              " '__format__',\n",
              " '__ge__',\n",
              " '__getattribute__',\n",
              " '__getitem__',\n",
              " '__gt__',\n",
              " '__hash__',\n",
              " '__iadd__',\n",
              " '__imul__',\n",
              " '__init__',\n",
              " '__init_subclass__',\n",
              " '__iter__',\n",
              " '__le__',\n",
              " '__len__',\n",
              " '__lt__',\n",
              " '__mul__',\n",
              " '__ne__',\n",
              " '__new__',\n",
              " '__reduce__',\n",
              " '__reduce_ex__',\n",
              " '__repr__',\n",
              " '__reversed__',\n",
              " '__rmul__',\n",
              " '__setattr__',\n",
              " '__setitem__',\n",
              " '__sizeof__',\n",
              " '__str__',\n",
              " '__subclasshook__',\n",
              " 'append',\n",
              " 'clear',\n",
              " 'copy',\n",
              " 'count',\n",
              " 'extend',\n",
              " 'index',\n",
              " 'insert',\n",
              " 'pop',\n",
              " 'remove',\n",
              " 'reverse',\n",
              " 'sort']"
            ]
          },
          "metadata": {
            "tags": []
          },
          "execution_count": 14
        }
      ]
    },
    {
      "cell_type": "code",
      "metadata": {
        "colab": {
          "base_uri": "https://localhost:8080/"
        },
        "id": "7FboKBKxy2sU",
        "outputId": "14c97a76-cd4a-420f-f76d-4ca2321d6f43"
      },
      "source": [
        "dir({'1':'a'})"
      ],
      "execution_count": 15,
      "outputs": [
        {
          "output_type": "execute_result",
          "data": {
            "text/plain": [
              "['__class__',\n",
              " '__contains__',\n",
              " '__delattr__',\n",
              " '__delitem__',\n",
              " '__dir__',\n",
              " '__doc__',\n",
              " '__eq__',\n",
              " '__format__',\n",
              " '__ge__',\n",
              " '__getattribute__',\n",
              " '__getitem__',\n",
              " '__gt__',\n",
              " '__hash__',\n",
              " '__init__',\n",
              " '__init_subclass__',\n",
              " '__iter__',\n",
              " '__le__',\n",
              " '__len__',\n",
              " '__lt__',\n",
              " '__ne__',\n",
              " '__new__',\n",
              " '__reduce__',\n",
              " '__reduce_ex__',\n",
              " '__repr__',\n",
              " '__setattr__',\n",
              " '__setitem__',\n",
              " '__sizeof__',\n",
              " '__str__',\n",
              " '__subclasshook__',\n",
              " 'clear',\n",
              " 'copy',\n",
              " 'fromkeys',\n",
              " 'get',\n",
              " 'items',\n",
              " 'keys',\n",
              " 'pop',\n",
              " 'popitem',\n",
              " 'setdefault',\n",
              " 'update',\n",
              " 'values']"
            ]
          },
          "metadata": {
            "tags": []
          },
          "execution_count": 15
        }
      ]
    },
    {
      "cell_type": "markdown",
      "metadata": {
        "id": "M5hcHM7Rzcy-"
      },
      "source": [
        "\r\n",
        "\r\n",
        "> enumerate<br>\r\n",
        "\r\n",
        "순서가 있는 자료형을 입력받아 인덱스 값을 포함하는 enumerate객체로 돌려줌\r\n",
        "\r\n"
      ]
    },
    {
      "cell_type": "code",
      "metadata": {
        "colab": {
          "base_uri": "https://localhost:8080/"
        },
        "id": "KCVAyvUqzVnl",
        "outputId": "fb0cea6b-9b46-4202-d87b-7c72626eaea8"
      },
      "source": [
        "for i, name in enumerate(['boby','foo','bar']):\r\n",
        "  print(i,name)"
      ],
      "execution_count": 17,
      "outputs": [
        {
          "output_type": "stream",
          "text": [
            "0 boby\n",
            "1 foo\n",
            "2 bar\n"
          ],
          "name": "stdout"
        }
      ]
    },
    {
      "cell_type": "markdown",
      "metadata": {
        "id": "adfHefbRz5C8"
      },
      "source": [
        "\r\n",
        "\r\n",
        ">eval(실행 가능한 표현식)<br>\r\n",
        "\r\n",
        "문자열을 실행한 결과값을 돌려주는 함수\r\n",
        "\r\n"
      ]
    },
    {
      "cell_type": "code",
      "metadata": {
        "colab": {
          "base_uri": "https://localhost:8080/"
        },
        "id": "J1e5j19FzwWl",
        "outputId": "8e57451c-7c49-4fb7-db75-557c6ce72ac5"
      },
      "source": [
        "eval(\"1+3\")"
      ],
      "execution_count": 18,
      "outputs": [
        {
          "output_type": "execute_result",
          "data": {
            "text/plain": [
              "4"
            ]
          },
          "metadata": {
            "tags": []
          },
          "execution_count": 18
        }
      ]
    },
    {
      "cell_type": "code",
      "metadata": {
        "colab": {
          "base_uri": "https://localhost:8080/",
          "height": 34
        },
        "id": "0XEaTc_j0F3p",
        "outputId": "ca86aa54-8d37-41cd-effd-7b9f670cd600"
      },
      "source": [
        "eval(\"'hi'+'a'\")"
      ],
      "execution_count": 19,
      "outputs": [
        {
          "output_type": "execute_result",
          "data": {
            "application/vnd.google.colaboratory.intrinsic+json": {
              "type": "string"
            },
            "text/plain": [
              "'hia'"
            ]
          },
          "metadata": {
            "tags": []
          },
          "execution_count": 19
        }
      ]
    },
    {
      "cell_type": "code",
      "metadata": {
        "colab": {
          "base_uri": "https://localhost:8080/"
        },
        "id": "fh7dNuZL0KWA",
        "outputId": "fb044895-183e-4188-9be9-740adbe52190"
      },
      "source": [
        "eval('divmod(4,3)')"
      ],
      "execution_count": 20,
      "outputs": [
        {
          "output_type": "execute_result",
          "data": {
            "text/plain": [
              "(1, 1)"
            ]
          },
          "metadata": {
            "tags": []
          },
          "execution_count": 20
        }
      ]
    },
    {
      "cell_type": "markdown",
      "metadata": {
        "id": "i1FP3CKq0YkO"
      },
      "source": [
        "\r\n",
        "\r\n",
        "> filter(함수이름,반복 가능한 자료형)<br>\r\n",
        "\r\n",
        "반복 가능한 자료형 요소가 첫 번째 인수인 함수에 입력되었을 때 반환값이 참인 것만 걸러서 반환\r\n",
        "\r\n",
        "\r\n"
      ]
    },
    {
      "cell_type": "code",
      "metadata": {
        "colab": {
          "base_uri": "https://localhost:8080/"
        },
        "id": "WVjVuZ2G0Npl",
        "outputId": "8ad1cd5e-e0a3-42d2-e3b3-c9dc6f29f517"
      },
      "source": [
        "def pos(x):\r\n",
        "  result=[]\r\n",
        "  for i in x:\r\n",
        "    if i>0:\r\n",
        "      result.append(i)\r\n",
        "  return result\r\n",
        "\r\n",
        "\r\n",
        "print(pos([-3,-1,0,1,3,4]))"
      ],
      "execution_count": 21,
      "outputs": [
        {
          "output_type": "stream",
          "text": [
            "[1, 3, 4]\n"
          ],
          "name": "stdout"
        }
      ]
    },
    {
      "cell_type": "code",
      "metadata": {
        "colab": {
          "base_uri": "https://localhost:8080/"
        },
        "id": "UNpT1Fcd1ABh",
        "outputId": "dbfbeb4e-5ae6-44e9-f834-1e71ceae8d52"
      },
      "source": [
        "def positive(x):\r\n",
        "  return x>0  #1 3 4만 양수여서 x>0 문장이 참이 됨으로\r\n",
        "\r\n",
        "print(list(filter(positive,[-3,-1,0,1,3,4]))) "
      ],
      "execution_count": 22,
      "outputs": [
        {
          "output_type": "stream",
          "text": [
            "[1, 3, 4]\n"
          ],
          "name": "stdout"
        }
      ]
    },
    {
      "cell_type": "code",
      "metadata": {
        "colab": {
          "base_uri": "https://localhost:8080/"
        },
        "id": "kkXP8Bsq1KwH",
        "outputId": "0e7b9b3e-f916-48cf-ec80-aca549595448"
      },
      "source": [
        "list(filter(lambda x: x>0,[1,-3,2,0,-5,6])) #lambda이용하면 더 간단하게 작성 가능"
      ],
      "execution_count": 24,
      "outputs": [
        {
          "output_type": "execute_result",
          "data": {
            "text/plain": [
              "[1, 2, 6]"
            ]
          },
          "metadata": {
            "tags": []
          },
          "execution_count": 24
        }
      ]
    },
    {
      "cell_type": "markdown",
      "metadata": {
        "id": "KDJ-GAyU2mXf"
      },
      "source": [
        "\r\n",
        "\r\n",
        "> hex(x)<br>\r\n",
        "\r\n",
        "정수 -> 16진수 (문자열)\r\n",
        "\r\n"
      ]
    },
    {
      "cell_type": "code",
      "metadata": {
        "colab": {
          "base_uri": "https://localhost:8080/",
          "height": 34
        },
        "id": "LAVkXF961fRh",
        "outputId": "6f0e9a36-7235-4b78-ed1a-a8d10c01f2e1"
      },
      "source": [
        "hex(234)"
      ],
      "execution_count": 25,
      "outputs": [
        {
          "output_type": "execute_result",
          "data": {
            "application/vnd.google.colaboratory.intrinsic+json": {
              "type": "string"
            },
            "text/plain": [
              "'0xea'"
            ]
          },
          "metadata": {
            "tags": []
          },
          "execution_count": 25
        }
      ]
    },
    {
      "cell_type": "code",
      "metadata": {
        "colab": {
          "base_uri": "https://localhost:8080/",
          "height": 34
        },
        "id": "U9xl1EBe2vfn",
        "outputId": "4d0f6370-ee9f-4d06-d259-83ae75529261"
      },
      "source": [
        "hex(3)"
      ],
      "execution_count": 26,
      "outputs": [
        {
          "output_type": "execute_result",
          "data": {
            "application/vnd.google.colaboratory.intrinsic+json": {
              "type": "string"
            },
            "text/plain": [
              "'0x3'"
            ]
          },
          "metadata": {
            "tags": []
          },
          "execution_count": 26
        }
      ]
    },
    {
      "cell_type": "code",
      "metadata": {
        "colab": {
          "base_uri": "https://localhost:8080/"
        },
        "id": "idoGExad2wmv",
        "outputId": "171085c2-04a3-49ce-ec61-f59663970e1f"
      },
      "source": [
        "type(hex(4))"
      ],
      "execution_count": 27,
      "outputs": [
        {
          "output_type": "execute_result",
          "data": {
            "text/plain": [
              "str"
            ]
          },
          "metadata": {
            "tags": []
          },
          "execution_count": 27
        }
      ]
    },
    {
      "cell_type": "markdown",
      "metadata": {
        "id": "sO4rCDgM8VtQ"
      },
      "source": [
        "\r\n",
        "\r\n",
        "> oct(x)<br>\r\n",
        "정수 -> 8진수 (문자열)\r\n",
        "\r\n"
      ]
    },
    {
      "cell_type": "code",
      "metadata": {
        "colab": {
          "base_uri": "https://localhost:8080/",
          "height": 34
        },
        "id": "7qewFPiR8WA7",
        "outputId": "a21ee899-920d-4ecb-f5ee-432209d7ec6e"
      },
      "source": [
        "oct(34)"
      ],
      "execution_count": 55,
      "outputs": [
        {
          "output_type": "execute_result",
          "data": {
            "application/vnd.google.colaboratory.intrinsic+json": {
              "type": "string"
            },
            "text/plain": [
              "'0o42'"
            ]
          },
          "metadata": {
            "tags": []
          },
          "execution_count": 55
        }
      ]
    },
    {
      "cell_type": "code",
      "metadata": {
        "colab": {
          "base_uri": "https://localhost:8080/",
          "height": 34
        },
        "id": "aWd3iWiV8tjh",
        "outputId": "17675947-c20e-44ac-95fb-a712525f04f2"
      },
      "source": [
        "oct(12345)"
      ],
      "execution_count": 56,
      "outputs": [
        {
          "output_type": "execute_result",
          "data": {
            "application/vnd.google.colaboratory.intrinsic+json": {
              "type": "string"
            },
            "text/plain": [
              "'0o30071'"
            ]
          },
          "metadata": {
            "tags": []
          },
          "execution_count": 56
        }
      ]
    },
    {
      "cell_type": "markdown",
      "metadata": {
        "id": "XOup3mlp25SL"
      },
      "source": [
        "\r\n",
        "\r\n",
        "> id(object)<br>\r\n",
        "\r\n",
        "객체를 입력받아 객체의 고유 주소 값(레퍼런스) 반환\r\n",
        "\r\n"
      ]
    },
    {
      "cell_type": "code",
      "metadata": {
        "colab": {
          "base_uri": "https://localhost:8080/"
        },
        "id": "WoUm6MwT23Ez",
        "outputId": "6d2605e1-ae21-4bfe-9285-a39d63277b2f"
      },
      "source": [
        "a=3\r\n",
        "print(id(3))\r\n",
        "print(id(a))\r\n",
        "\r\n",
        "b=a\r\n",
        "print(id(b))\r\n",
        "\r\n",
        "#3, a, b 모두 같은 객체를 가르킴\r\n"
      ],
      "execution_count": 30,
      "outputs": [
        {
          "output_type": "stream",
          "text": [
            "10914560\n",
            "10914560\n",
            "10914560\n"
          ],
          "name": "stdout"
        }
      ]
    },
    {
      "cell_type": "code",
      "metadata": {
        "colab": {
          "base_uri": "https://localhost:8080/"
        },
        "id": "Juzdaw9b3F26",
        "outputId": "66f3b856-bdae-4a23-e0da-36cc4887470e"
      },
      "source": [
        "id(4) #4와 3, a, b는 다른 객체이므로 다른 고유 주소값을 출력"
      ],
      "execution_count": 31,
      "outputs": [
        {
          "output_type": "execute_result",
          "data": {
            "text/plain": [
              "10914592"
            ]
          },
          "metadata": {
            "tags": []
          },
          "execution_count": 31
        }
      ]
    },
    {
      "cell_type": "markdown",
      "metadata": {
        "id": "lZhtJoGH3gWL"
      },
      "source": [
        "\r\n",
        "\r\n",
        "> input(\"prompt\")<br>\r\n",
        "\r\n",
        "사용자 입력을 받는 함수\r\n",
        "\r\n"
      ]
    },
    {
      "cell_type": "code",
      "metadata": {
        "colab": {
          "base_uri": "https://localhost:8080/"
        },
        "id": "VfATZY4M3bml",
        "outputId": "f6e7ac8a-4458-45be-de7d-88344774c6bd"
      },
      "source": [
        "a=input()\r\n",
        "print(a)"
      ],
      "execution_count": 32,
      "outputs": [
        {
          "output_type": "stream",
          "text": [
            "hi\n",
            "hi\n"
          ],
          "name": "stdout"
        }
      ]
    },
    {
      "cell_type": "code",
      "metadata": {
        "colab": {
          "base_uri": "https://localhost:8080/"
        },
        "id": "QO6-HA4S3s6N",
        "outputId": "28c33e80-cbf5-49c6-ea68-9db8fdace862"
      },
      "source": [
        "b=input(\"Enter: \")\r\n",
        "print(b)"
      ],
      "execution_count": 33,
      "outputs": [
        {
          "output_type": "stream",
          "text": [
            "Enter: hi\n",
            "hi\n"
          ],
          "name": "stdout"
        }
      ]
    },
    {
      "cell_type": "markdown",
      "metadata": {
        "id": "mmp12Pi_37QG"
      },
      "source": [
        "\r\n",
        "\r\n",
        "> int(x)<br>\r\n",
        "\r\n",
        "숫자를 입력받고 정수 형태로 돌려주는 함수\r\n",
        "\r\n",
        "\r\n",
        "\r\n",
        "> int(x,radix)<br>\r\n",
        "\r\n",
        "radix진수로 표현된 문자열 x를 10진수 변환\r\n",
        "\r\n",
        "\r\n",
        "\r\n"
      ]
    },
    {
      "cell_type": "code",
      "metadata": {
        "colab": {
          "base_uri": "https://localhost:8080/"
        },
        "id": "Kf-koUBf3xu-",
        "outputId": "81c4f10b-3853-43c5-cd6a-fff21bd38419"
      },
      "source": [
        "int(2)"
      ],
      "execution_count": 34,
      "outputs": [
        {
          "output_type": "execute_result",
          "data": {
            "text/plain": [
              "2"
            ]
          },
          "metadata": {
            "tags": []
          },
          "execution_count": 34
        }
      ]
    },
    {
      "cell_type": "code",
      "metadata": {
        "colab": {
          "base_uri": "https://localhost:8080/"
        },
        "id": "9Z4X7ri04QqF",
        "outputId": "5cb722ea-8b07-41f4-e864-10efe541ced4"
      },
      "source": [
        "int(3.45)"
      ],
      "execution_count": 35,
      "outputs": [
        {
          "output_type": "execute_result",
          "data": {
            "text/plain": [
              "3"
            ]
          },
          "metadata": {
            "tags": []
          },
          "execution_count": 35
        }
      ]
    },
    {
      "cell_type": "code",
      "metadata": {
        "colab": {
          "base_uri": "https://localhost:8080/"
        },
        "id": "PfIv9f0p4R_4",
        "outputId": "50185eff-1cf5-4d9b-8d9c-93c6549b9d10"
      },
      "source": [
        "int(5.5)"
      ],
      "execution_count": 36,
      "outputs": [
        {
          "output_type": "execute_result",
          "data": {
            "text/plain": [
              "5"
            ]
          },
          "metadata": {
            "tags": []
          },
          "execution_count": 36
        }
      ]
    },
    {
      "cell_type": "code",
      "metadata": {
        "colab": {
          "base_uri": "https://localhost:8080/"
        },
        "id": "LxlsaR3i4TEp",
        "outputId": "e2e17fb4-9123-4989-9813-f68082418f5f"
      },
      "source": [
        "int(\"11\",2) #2진수 11을 10진수로 표현"
      ],
      "execution_count": 37,
      "outputs": [
        {
          "output_type": "execute_result",
          "data": {
            "text/plain": [
              "3"
            ]
          },
          "metadata": {
            "tags": []
          },
          "execution_count": 37
        }
      ]
    },
    {
      "cell_type": "code",
      "metadata": {
        "colab": {
          "base_uri": "https://localhost:8080/"
        },
        "id": "r1cB5UIV4YZU",
        "outputId": "7f45f91a-0b23-4f32-ca87-a232706bc64a"
      },
      "source": [
        "int(\"1A\",16) #16진수 1A를 10진수로 표현"
      ],
      "execution_count": 38,
      "outputs": [
        {
          "output_type": "execute_result",
          "data": {
            "text/plain": [
              "26"
            ]
          },
          "metadata": {
            "tags": []
          },
          "execution_count": 38
        }
      ]
    },
    {
      "cell_type": "markdown",
      "metadata": {
        "id": "x4o5ZCZPAfbp"
      },
      "source": [
        "\r\n",
        "\r\n",
        "> str(객체)<br>\r\n",
        "\r\n",
        "문자열 형태로 객체를 변환해 반\r\n",
        "\r\n"
      ]
    },
    {
      "cell_type": "code",
      "metadata": {
        "colab": {
          "base_uri": "https://localhost:8080/",
          "height": 34
        },
        "id": "9qd1hd6wAmUf",
        "outputId": "400d194d-2cf9-4d9b-993f-aa37ce38e505"
      },
      "source": [
        "str(3)"
      ],
      "execution_count": 72,
      "outputs": [
        {
          "output_type": "execute_result",
          "data": {
            "application/vnd.google.colaboratory.intrinsic+json": {
              "type": "string"
            },
            "text/plain": [
              "'3'"
            ]
          },
          "metadata": {
            "tags": []
          },
          "execution_count": 72
        }
      ]
    },
    {
      "cell_type": "code",
      "metadata": {
        "colab": {
          "base_uri": "https://localhost:8080/",
          "height": 34
        },
        "id": "XwgIbZRTAop0",
        "outputId": "08944574-463b-41cf-d328-4408c79d7e68"
      },
      "source": [
        "str(\"hi\")"
      ],
      "execution_count": 74,
      "outputs": [
        {
          "output_type": "execute_result",
          "data": {
            "application/vnd.google.colaboratory.intrinsic+json": {
              "type": "string"
            },
            "text/plain": [
              "'hi'"
            ]
          },
          "metadata": {
            "tags": []
          },
          "execution_count": 74
        }
      ]
    },
    {
      "cell_type": "code",
      "metadata": {
        "colab": {
          "base_uri": "https://localhost:8080/",
          "height": 34
        },
        "id": "qaYEzSK1AsXx",
        "outputId": "e807af3b-60ef-4389-e385-c7199f491058"
      },
      "source": [
        "str('hi'.upper())"
      ],
      "execution_count": 75,
      "outputs": [
        {
          "output_type": "execute_result",
          "data": {
            "application/vnd.google.colaboratory.intrinsic+json": {
              "type": "string"
            },
            "text/plain": [
              "'HI'"
            ]
          },
          "metadata": {
            "tags": []
          },
          "execution_count": 75
        }
      ]
    },
    {
      "cell_type": "markdown",
      "metadata": {
        "id": "yaQq4IivDAx-"
      },
      "source": [
        "\r\n",
        "\r\n",
        "> tuple(반복 가능한 자료형)\r\n",
        "\r\n"
      ]
    },
    {
      "cell_type": "code",
      "metadata": {
        "colab": {
          "base_uri": "https://localhost:8080/"
        },
        "id": "dz38A8snDF_c",
        "outputId": "7842b057-e55d-433b-fa9b-8dff138841a8"
      },
      "source": [
        "tuple(\"abc\")"
      ],
      "execution_count": 79,
      "outputs": [
        {
          "output_type": "execute_result",
          "data": {
            "text/plain": [
              "('a', 'b', 'c')"
            ]
          },
          "metadata": {
            "tags": []
          },
          "execution_count": 79
        }
      ]
    },
    {
      "cell_type": "code",
      "metadata": {
        "colab": {
          "base_uri": "https://localhost:8080/"
        },
        "id": "roF4vaXeDIkl",
        "outputId": "2341231b-d6ad-4b69-e00f-4f0058e39003"
      },
      "source": [
        "tuple([1,2,3])"
      ],
      "execution_count": 80,
      "outputs": [
        {
          "output_type": "execute_result",
          "data": {
            "text/plain": [
              "(1, 2, 3)"
            ]
          },
          "metadata": {
            "tags": []
          },
          "execution_count": 80
        }
      ]
    },
    {
      "cell_type": "code",
      "metadata": {
        "colab": {
          "base_uri": "https://localhost:8080/"
        },
        "id": "LkXbNVRGDLFw",
        "outputId": "f65d1fa7-f3dc-4b99-c1f0-49d64d81d906"
      },
      "source": [
        "tuple((1,2,3)) #튜플을 받으면 그냥 그대로 돌려줌"
      ],
      "execution_count": 81,
      "outputs": [
        {
          "output_type": "execute_result",
          "data": {
            "text/plain": [
              "(1, 2, 3)"
            ]
          },
          "metadata": {
            "tags": []
          },
          "execution_count": 81
        }
      ]
    },
    {
      "cell_type": "markdown",
      "metadata": {
        "id": "hLgCrRfv4yWG"
      },
      "source": [
        "\r\n",
        "\r\n",
        "> isinstance(인스턴스,클래스)<br>\r\n",
        "\r\n",
        "인스턴스가 그 클래스의 인스턴스 인지 True, False 출력\r\n",
        "\r\n"
      ]
    },
    {
      "cell_type": "code",
      "metadata": {
        "colab": {
          "base_uri": "https://localhost:8080/"
        },
        "id": "43ZOkS7c4g4r",
        "outputId": "617f4b05-2285-466f-9f13-d97ce3603dea"
      },
      "source": [
        "class Person: pass #아무 기능 없는 Person 클래스 생성\r\n",
        "\r\n",
        "a=Person()\r\n",
        "isinstance(a,Person)"
      ],
      "execution_count": 39,
      "outputs": [
        {
          "output_type": "execute_result",
          "data": {
            "text/plain": [
              "True"
            ]
          },
          "metadata": {
            "tags": []
          },
          "execution_count": 39
        }
      ]
    },
    {
      "cell_type": "code",
      "metadata": {
        "colab": {
          "base_uri": "https://localhost:8080/"
        },
        "id": "C3XVRqSd5MVB",
        "outputId": "bc6c4111-e497-466f-c5f7-9879526c908e"
      },
      "source": [
        "b=3\r\n",
        "isinstance(b,Person)"
      ],
      "execution_count": 41,
      "outputs": [
        {
          "output_type": "execute_result",
          "data": {
            "text/plain": [
              "False"
            ]
          },
          "metadata": {
            "tags": []
          },
          "execution_count": 41
        }
      ]
    },
    {
      "cell_type": "markdown",
      "metadata": {
        "id": "6bYuzRUZ5f3g"
      },
      "source": [
        "\r\n",
        "\r\n",
        "> list(x)<br>\r\n",
        "\r\n",
        "반복 가능한 자료형을 입력받아 리스트로 만들어 반환\r\n",
        "\r\n"
      ]
    },
    {
      "cell_type": "code",
      "metadata": {
        "colab": {
          "base_uri": "https://localhost:8080/"
        },
        "id": "LnGyoq1G5dNc",
        "outputId": "5fbcac62-c0d4-43e5-dbed-41ccf84a8329"
      },
      "source": [
        "list('Python')"
      ],
      "execution_count": 46,
      "outputs": [
        {
          "output_type": "execute_result",
          "data": {
            "text/plain": [
              "['P', 'y', 't', 'h', 'o', 'n']"
            ]
          },
          "metadata": {
            "tags": []
          },
          "execution_count": 46
        }
      ]
    },
    {
      "cell_type": "code",
      "metadata": {
        "colab": {
          "base_uri": "https://localhost:8080/"
        },
        "id": "wSwkUDA-5opf",
        "outputId": "0e253585-5296-4f02-c282-f58431c0b69d"
      },
      "source": [
        "list((1,2,3))"
      ],
      "execution_count": 47,
      "outputs": [
        {
          "output_type": "execute_result",
          "data": {
            "text/plain": [
              "[1, 2, 3]"
            ]
          },
          "metadata": {
            "tags": []
          },
          "execution_count": 47
        }
      ]
    },
    {
      "cell_type": "code",
      "metadata": {
        "colab": {
          "base_uri": "https://localhost:8080/"
        },
        "id": "EFBuVc-x5qgK",
        "outputId": "e18c75dd-454c-4174-f5af-c2f9363a0715"
      },
      "source": [
        "a=[1,2,3]\r\n",
        "b=list(a) #list함수에 리스트를 입력을 주면 똑같은 리스트로 복사해서 돌려줌\r\n",
        "b"
      ],
      "execution_count": 48,
      "outputs": [
        {
          "output_type": "execute_result",
          "data": {
            "text/plain": [
              "[1, 2, 3]"
            ]
          },
          "metadata": {
            "tags": []
          },
          "execution_count": 48
        }
      ]
    },
    {
      "cell_type": "markdown",
      "metadata": {
        "id": "d20rG_AqDX2O"
      },
      "source": [
        "\r\n",
        "\r\n",
        "> sorted(반복 가능한 자료형)\r\n",
        "\r\n"
      ]
    },
    {
      "cell_type": "code",
      "metadata": {
        "colab": {
          "base_uri": "https://localhost:8080/"
        },
        "id": "BxYpWSH9DeMI",
        "outputId": "f9af314a-5248-47ac-8b3e-0d0b984bf8f1"
      },
      "source": [
        "sorted([5,1,2,4])"
      ],
      "execution_count": 86,
      "outputs": [
        {
          "output_type": "execute_result",
          "data": {
            "text/plain": [
              "[1, 2, 4, 5]"
            ]
          },
          "metadata": {
            "tags": []
          },
          "execution_count": 86
        }
      ]
    },
    {
      "cell_type": "code",
      "metadata": {
        "colab": {
          "base_uri": "https://localhost:8080/"
        },
        "id": "5S8MG3UnDwct",
        "outputId": "acf5a1eb-233e-421a-ea7f-ebc9f2891c1f"
      },
      "source": [
        "sorted(['a','b','c'])"
      ],
      "execution_count": 87,
      "outputs": [
        {
          "output_type": "execute_result",
          "data": {
            "text/plain": [
              "['a', 'b', 'c']"
            ]
          },
          "metadata": {
            "tags": []
          },
          "execution_count": 87
        }
      ]
    },
    {
      "cell_type": "code",
      "metadata": {
        "colab": {
          "base_uri": "https://localhost:8080/"
        },
        "id": "BECZYnsbDojg",
        "outputId": "653a878d-a5cf-4b0c-bb85-4f37acd62a4c"
      },
      "source": [
        "sorted((3,5,2,1))"
      ],
      "execution_count": 84,
      "outputs": [
        {
          "output_type": "execute_result",
          "data": {
            "text/plain": [
              "[1, 2, 3, 5]"
            ]
          },
          "metadata": {
            "tags": []
          },
          "execution_count": 84
        }
      ]
    },
    {
      "cell_type": "code",
      "metadata": {
        "colab": {
          "base_uri": "https://localhost:8080/"
        },
        "id": "OUMgE-aXDiQD",
        "outputId": "8b14681c-cc41-4a2e-cf05-1939cfc6c98d"
      },
      "source": [
        "sorted(\"zeorab\")"
      ],
      "execution_count": 85,
      "outputs": [
        {
          "output_type": "execute_result",
          "data": {
            "text/plain": [
              "['a', 'b', 'e', 'o', 'r', 'z']"
            ]
          },
          "metadata": {
            "tags": []
          },
          "execution_count": 85
        }
      ]
    },
    {
      "cell_type": "markdown",
      "metadata": {
        "id": "J3Dmo4_17-eI"
      },
      "source": [
        "\r\n",
        "\r\n",
        ">max(반복 가능한 자료형)\r\n",
        "\r\n",
        "\r\n",
        "\r\n",
        "> min(반복 가능한 자료형)\r\n",
        "\r\n",
        "\r\n",
        "\r\n",
        "\r\n",
        "\r\n"
      ]
    },
    {
      "cell_type": "code",
      "metadata": {
        "colab": {
          "base_uri": "https://localhost:8080/"
        },
        "id": "AgKO7Mjg727D",
        "outputId": "2b46b141-3148-4767-ff4c-139b276c863b"
      },
      "source": [
        "max([1,2,3])"
      ],
      "execution_count": 53,
      "outputs": [
        {
          "output_type": "execute_result",
          "data": {
            "text/plain": [
              "3"
            ]
          },
          "metadata": {
            "tags": []
          },
          "execution_count": 53
        }
      ]
    },
    {
      "cell_type": "code",
      "metadata": {
        "colab": {
          "base_uri": "https://localhost:8080/"
        },
        "id": "2Hn8JBEx8LX3",
        "outputId": "ce087086-70e4-4a93-e350-9d6cf3b464f3"
      },
      "source": [
        "min([1,2,3])"
      ],
      "execution_count": 54,
      "outputs": [
        {
          "output_type": "execute_result",
          "data": {
            "text/plain": [
              "1"
            ]
          },
          "metadata": {
            "tags": []
          },
          "execution_count": 54
        }
      ]
    },
    {
      "cell_type": "markdown",
      "metadata": {
        "id": "GISxz-GQCwBm"
      },
      "source": [
        "\r\n",
        "\r\n",
        "> sum(반복 가능한 자료형)\r\n",
        "\r\n"
      ]
    },
    {
      "cell_type": "code",
      "metadata": {
        "colab": {
          "base_uri": "https://localhost:8080/"
        },
        "id": "GAyA3FWRCvMg",
        "outputId": "69cade78-bc46-4549-cf81-0953c1ba3f3b"
      },
      "source": [
        "sum([1,2,3])"
      ],
      "execution_count": 77,
      "outputs": [
        {
          "output_type": "execute_result",
          "data": {
            "text/plain": [
              "6"
            ]
          },
          "metadata": {
            "tags": []
          },
          "execution_count": 77
        }
      ]
    },
    {
      "cell_type": "code",
      "metadata": {
        "colab": {
          "base_uri": "https://localhost:8080/"
        },
        "id": "5PtM3hu-C2jt",
        "outputId": "04c3c55a-8aa4-4b76-b039-d931ae6c2cf6"
      },
      "source": [
        "sum((1,2,3))"
      ],
      "execution_count": 78,
      "outputs": [
        {
          "output_type": "execute_result",
          "data": {
            "text/plain": [
              "6"
            ]
          },
          "metadata": {
            "tags": []
          },
          "execution_count": 78
        }
      ]
    },
    {
      "cell_type": "markdown",
      "metadata": {
        "id": "_MZ-5ISi6xIo"
      },
      "source": [
        "\r\n",
        "\r\n",
        ">map(함수, 반복 가능한 자료형)<br>\r\n",
        "\r\n",
        "입력 받은 자료형의 각 요소를 함수가 수행한 결과를 묶어서 돌려주는 함수\r\n",
        "\r\n",
        "\r\n",
        "\r\n"
      ]
    },
    {
      "cell_type": "code",
      "metadata": {
        "colab": {
          "base_uri": "https://localhost:8080/"
        },
        "id": "IWgpOF-y534k",
        "outputId": "937b177e-b97e-4e03-9f8a-ac9730647bd5"
      },
      "source": [
        "def two_times(numlist):\r\n",
        "  result=[]\r\n",
        "  for num in numlist:\r\n",
        "    result.append(num*2)\r\n",
        "  return result\r\n",
        "\r\n",
        "result=two_times([1,2,3,4,5])\r\n",
        "print(result)"
      ],
      "execution_count": 49,
      "outputs": [
        {
          "output_type": "stream",
          "text": [
            "[2, 4, 6, 8, 10]\n"
          ],
          "name": "stdout"
        }
      ]
    },
    {
      "cell_type": "code",
      "metadata": {
        "colab": {
          "base_uri": "https://localhost:8080/"
        },
        "id": "dYNVrrVF7bYt",
        "outputId": "e4587203-3d04-4c2d-f0fb-bab644575853"
      },
      "source": [
        "def two_times(x): return 2*x\r\n",
        "\r\n",
        "list(map(two_times,[1,2,3,4,5]))"
      ],
      "execution_count": 51,
      "outputs": [
        {
          "output_type": "execute_result",
          "data": {
            "text/plain": [
              "[2, 4, 6, 8, 10]"
            ]
          },
          "metadata": {
            "tags": []
          },
          "execution_count": 51
        }
      ]
    },
    {
      "cell_type": "code",
      "metadata": {
        "colab": {
          "base_uri": "https://localhost:8080/"
        },
        "id": "x-kieIJ97qQ2",
        "outputId": "33078552-5dfb-49d6-899b-cf6df8022804"
      },
      "source": [
        "list(map(lambda x: x*2,[1,2,3,4,5])) #lambda 사용해 더 간략하게"
      ],
      "execution_count": 52,
      "outputs": [
        {
          "output_type": "execute_result",
          "data": {
            "text/plain": [
              "[2, 4, 6, 8, 10]"
            ]
          },
          "metadata": {
            "tags": []
          },
          "execution_count": 52
        }
      ]
    },
    {
      "cell_type": "markdown",
      "metadata": {
        "id": "PB62geFt9NVk"
      },
      "source": [
        "\r\n",
        "\r\n",
        "> open(파일이름, 읽기방법)<br>\r\n",
        "\r\n",
        "파일 객체 돌려주는 함수 (default='r')<br><br>\r\n",
        "\r\n",
        "\r\n",
        "*   b : binary mode로 파일 열기<br><br>\r\n",
        "*   w : 쓰기 mode로 파일 열기\r\n",
        "*   r : 읽기 mode로 파일 열기\r\n",
        "* a : 추가 mode로 파일 열기 \r\n",
        "\r\n",
        "\r\n",
        "\r\n",
        "\r\n",
        "\r\n",
        "\r\n",
        "\r\n"
      ]
    },
    {
      "cell_type": "code",
      "metadata": {
        "id": "xj3RBinS8NWp"
      },
      "source": [
        "f=open(\"파일이름\",\"rb\") #\"파일 이름\"을 바이너리 읽기 모드로 열기"
      ],
      "execution_count": null,
      "outputs": []
    },
    {
      "cell_type": "code",
      "metadata": {
        "colab": {
          "base_uri": "https://localhost:8080/",
          "height": 186
        },
        "id": "Wl-l64BW-IJM",
        "outputId": "a0b34b34-0b55-4b8c-d770-7441f3582116"
      },
      "source": [
        "fread=open(\"read_mode.txt\",'r')\r\n",
        "fread=open(\"read_mode.txt\") #동일한 방법"
      ],
      "execution_count": 59,
      "outputs": [
        {
          "output_type": "error",
          "ename": "FileNotFoundError",
          "evalue": "ignored",
          "traceback": [
            "\u001b[0;31m---------------------------------------------------------------------------\u001b[0m",
            "\u001b[0;31mFileNotFoundError\u001b[0m                         Traceback (most recent call last)",
            "\u001b[0;32m<ipython-input-59-977cae4832a2>\u001b[0m in \u001b[0;36m<module>\u001b[0;34m()\u001b[0m\n\u001b[0;32m----> 1\u001b[0;31m \u001b[0mfread\u001b[0m\u001b[0;34m=\u001b[0m\u001b[0mopen\u001b[0m\u001b[0;34m(\u001b[0m\u001b[0;34m\"read_mode.txt\"\u001b[0m\u001b[0;34m,\u001b[0m\u001b[0;34m'r'\u001b[0m\u001b[0;34m)\u001b[0m\u001b[0;34m\u001b[0m\u001b[0;34m\u001b[0m\u001b[0m\n\u001b[0m\u001b[1;32m      2\u001b[0m \u001b[0mfread\u001b[0m\u001b[0;34m=\u001b[0m\u001b[0mopen\u001b[0m\u001b[0;34m(\u001b[0m\u001b[0;34m\"read_mode.txt\"\u001b[0m\u001b[0;34m)\u001b[0m \u001b[0;31m#동일한 방법\u001b[0m\u001b[0;34m\u001b[0m\u001b[0;34m\u001b[0m\u001b[0m\n",
            "\u001b[0;31mFileNotFoundError\u001b[0m: [Errno 2] No such file or directory: 'read_mode.txt'"
          ]
        }
      ]
    },
    {
      "cell_type": "code",
      "metadata": {
        "id": "dz0pC94S-Sxk"
      },
      "source": [
        "fappend=open(\"파일이름\",'a')"
      ],
      "execution_count": null,
      "outputs": []
    },
    {
      "cell_type": "markdown",
      "metadata": {
        "id": "Zf_YtfUu_YKi"
      },
      "source": [
        "\r\n",
        "\r\n",
        "> zip(반복 가능한 자료형 여러개)<br>\r\n",
        "\r\n",
        "동일한 개수로 이루어진 자료형을 묶어\r\n",
        "\r\n"
      ]
    },
    {
      "cell_type": "code",
      "metadata": {
        "colab": {
          "base_uri": "https://localhost:8080/"
        },
        "id": "d06espRUEtQz",
        "outputId": "1ed4d305-43b5-4eb4-d94d-21eb2854d20f"
      },
      "source": [
        "list(zip([1,2,3],[4,5,6]))"
      ],
      "execution_count": 90,
      "outputs": [
        {
          "output_type": "execute_result",
          "data": {
            "text/plain": [
              "[(1, 4), (2, 5), (3, 6)]"
            ]
          },
          "metadata": {
            "tags": []
          },
          "execution_count": 90
        }
      ]
    },
    {
      "cell_type": "code",
      "metadata": {
        "colab": {
          "base_uri": "https://localhost:8080/"
        },
        "id": "4hGPonXJExXp",
        "outputId": "d8eef187-7ef3-4618-9731-abc8d72a2fb3"
      },
      "source": [
        "list(zip([1,2,3],[4,5,6],[7,8,9]))"
      ],
      "execution_count": 91,
      "outputs": [
        {
          "output_type": "execute_result",
          "data": {
            "text/plain": [
              "[(1, 4, 7), (2, 5, 8), (3, 6, 9)]"
            ]
          },
          "metadata": {
            "tags": []
          },
          "execution_count": 91
        }
      ]
    },
    {
      "cell_type": "code",
      "metadata": {
        "colab": {
          "base_uri": "https://localhost:8080/"
        },
        "id": "n3G-Y9khE3_p",
        "outputId": "2d17c0c3-00fb-43df-dec1-29d3af4db977"
      },
      "source": [
        "list(zip(\"abc\",'def'))"
      ],
      "execution_count": 92,
      "outputs": [
        {
          "output_type": "execute_result",
          "data": {
            "text/plain": [
              "[('a', 'd'), ('b', 'e'), ('c', 'f')]"
            ]
          },
          "metadata": {
            "tags": []
          },
          "execution_count": 92
        }
      ]
    },
    {
      "cell_type": "code",
      "metadata": {
        "id": "TrO5Ml3uE8DV"
      },
      "source": [
        ""
      ],
      "execution_count": null,
      "outputs": []
    }
  ]
}