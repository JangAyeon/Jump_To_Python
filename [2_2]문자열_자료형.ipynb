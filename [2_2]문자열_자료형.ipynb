{
  "nbformat": 4,
  "nbformat_minor": 0,
  "metadata": {
    "colab": {
      "name": "[2-2]문자열 자료형.ipynb",
      "provenance": []
    },
    "kernelspec": {
      "name": "python3",
      "display_name": "Python 3"
    }
  },
  "cells": [
    {
      "cell_type": "markdown",
      "metadata": {
        "id": "dz79lBPCsGda"
      },
      "source": [
        "#문자열 자료형#"
      ]
    },
    {
      "cell_type": "markdown",
      "metadata": {
        "id": "p5vDiTSysO_I"
      },
      "source": [
        "**문자열 생성**"
      ]
    },
    {
      "cell_type": "markdown",
      "metadata": {
        "id": "0V5rUZXct9vR"
      },
      "source": [
        "\r\n",
        "\r\n",
        "> 양쪽으로 ' 또는 \" 둘러싸기\r\n",
        "\r\n"
      ]
    },
    {
      "cell_type": "code",
      "metadata": {
        "colab": {
          "base_uri": "https://localhost:8080/",
          "height": 34
        },
        "id": "4hlqzFObrp1Q",
        "outputId": "5c3885ec-97a9-4572-ecce-2f2d2828e80a"
      },
      "source": [
        "\"Hello World\""
      ],
      "execution_count": null,
      "outputs": [
        {
          "output_type": "execute_result",
          "data": {
            "application/vnd.google.colaboratory.intrinsic+json": {
              "type": "string"
            },
            "text/plain": [
              "'Hello World'"
            ]
          },
          "metadata": {
            "tags": []
          },
          "execution_count": 1
        }
      ]
    },
    {
      "cell_type": "code",
      "metadata": {
        "colab": {
          "base_uri": "https://localhost:8080/",
          "height": 34
        },
        "id": "4ErZAGKhuYQP",
        "outputId": "9087b788-5967-48cb-98ce-0894dd72d9f6"
      },
      "source": [
        "'Python is fun'"
      ],
      "execution_count": null,
      "outputs": [
        {
          "output_type": "execute_result",
          "data": {
            "application/vnd.google.colaboratory.intrinsic+json": {
              "type": "string"
            },
            "text/plain": [
              "'Python is fun'"
            ]
          },
          "metadata": {
            "tags": []
          },
          "execution_count": 2
        }
      ]
    },
    {
      "cell_type": "markdown",
      "metadata": {
        "id": "OQkvmmbMuFGk"
      },
      "source": [
        "\r\n",
        "\r\n",
        ">3개 연속으로 ''' 또는 \"\"\" 둘러싸기\r\n"
      ]
    },
    {
      "cell_type": "code",
      "metadata": {
        "colab": {
          "base_uri": "https://localhost:8080/",
          "height": 34
        },
        "id": "2dexfSeSuMwi",
        "outputId": "270d7d29-4a8d-4dc8-d20a-0138f13ffd27"
      },
      "source": [
        "\"\"\"Life is too short,You need Python.\"\"\""
      ],
      "execution_count": null,
      "outputs": [
        {
          "output_type": "execute_result",
          "data": {
            "application/vnd.google.colaboratory.intrinsic+json": {
              "type": "string"
            },
            "text/plain": [
              "'Life is too short,You need Python.'"
            ]
          },
          "metadata": {
            "tags": []
          },
          "execution_count": 3
        }
      ]
    },
    {
      "cell_type": "code",
      "metadata": {
        "colab": {
          "base_uri": "https://localhost:8080/",
          "height": 34
        },
        "id": "EWSnGmqxuYo2",
        "outputId": "72841c26-22a8-45e6-8df6-4eb31b98bc93"
      },
      "source": [
        "'''Life is too short, You need Python.'''"
      ],
      "execution_count": null,
      "outputs": [
        {
          "output_type": "execute_result",
          "data": {
            "application/vnd.google.colaboratory.intrinsic+json": {
              "type": "string"
            },
            "text/plain": [
              "'Life is too short, You need Python.'"
            ]
          },
          "metadata": {
            "tags": []
          },
          "execution_count": 4
        }
      ]
    },
    {
      "cell_type": "markdown",
      "metadata": {
        "id": "-OoPqCj2sTPb"
      },
      "source": [
        "**' 또는 \" 포함하는 법**"
      ]
    },
    {
      "cell_type": "markdown",
      "metadata": {
        "id": "xhsLCITXua_8"
      },
      "source": [
        "\r\n",
        "\r\n",
        "> ' 포함시키기 -> \" 이용<br>Python's favorite food is perl\r\n",
        "\r\n"
      ]
    },
    {
      "cell_type": "code",
      "metadata": {
        "colab": {
          "base_uri": "https://localhost:8080/",
          "height": 34
        },
        "id": "n0gH6b4Wsg8W",
        "outputId": "d7a4ee40-ac72-44c2-873f-aea5a39d61fe"
      },
      "source": [
        "food=\"Python's favorite food is perl\"\r\n",
        "food"
      ],
      "execution_count": null,
      "outputs": [
        {
          "output_type": "execute_result",
          "data": {
            "application/vnd.google.colaboratory.intrinsic+json": {
              "type": "string"
            },
            "text/plain": [
              "\"Python's favorite food is perl\""
            ]
          },
          "metadata": {
            "tags": []
          },
          "execution_count": 7
        }
      ]
    },
    {
      "cell_type": "code",
      "metadata": {
        "colab": {
          "base_uri": "https://localhost:8080/",
          "height": 133
        },
        "id": "tFAbPuhJvkeX",
        "outputId": "785020e6-8e50-4e9b-ac12-de6cfe2850fb"
      },
      "source": [
        "food='Python's favorite food is perl' \r\n",
        "food\r\n",
        "\r\n",
        "#Python이 문자열로 인식되어 구문오류 발생"
      ],
      "execution_count": null,
      "outputs": [
        {
          "output_type": "error",
          "ename": "SyntaxError",
          "evalue": "ignored",
          "traceback": [
            "\u001b[0;36m  File \u001b[0;32m\"<ipython-input-10-d9143fde2c7f>\"\u001b[0;36m, line \u001b[0;32m1\u001b[0m\n\u001b[0;31m    food='Python's favorite food is perl'\u001b[0m\n\u001b[0m                 ^\u001b[0m\n\u001b[0;31mSyntaxError\u001b[0m\u001b[0;31m:\u001b[0m invalid syntax\n"
          ]
        }
      ]
    },
    {
      "cell_type": "markdown",
      "metadata": {
        "id": "uDgkc970uphi"
      },
      "source": [
        "\r\n",
        "\r\n",
        "> \" 포함시키기 -> ' 이용<br>\r\n",
        "\"Python is very easy.\" he says.\r\n",
        "\r\n"
      ]
    },
    {
      "cell_type": "code",
      "metadata": {
        "colab": {
          "base_uri": "https://localhost:8080/",
          "height": 34
        },
        "id": "VfLLvfrzu305",
        "outputId": "df93c820-348d-4b28-c7ff-ecfeda9a675a"
      },
      "source": [
        "say='\"Python is very easy\".he says.'\r\n",
        "say"
      ],
      "execution_count": null,
      "outputs": [
        {
          "output_type": "execute_result",
          "data": {
            "application/vnd.google.colaboratory.intrinsic+json": {
              "type": "string"
            },
            "text/plain": [
              "'\"Python is very easy\".he says.'"
            ]
          },
          "metadata": {
            "tags": []
          },
          "execution_count": 12
        }
      ]
    },
    {
      "cell_type": "code",
      "metadata": {
        "colab": {
          "base_uri": "https://localhost:8080/",
          "height": 133
        },
        "id": "KOCocjckwB1-",
        "outputId": "8ba66dc9-5d4c-4f0f-a5ef-dc31e37012b0"
      },
      "source": [
        "say=\"\"Python is very easy.\"he says.\"\r\n",
        "say\r\n",
        "\r\n",
        "#구문오류 발생"
      ],
      "execution_count": null,
      "outputs": [
        {
          "output_type": "error",
          "ename": "SyntaxError",
          "evalue": "ignored",
          "traceback": [
            "\u001b[0;36m  File \u001b[0;32m\"<ipython-input-14-73193cee2d16>\"\u001b[0;36m, line \u001b[0;32m1\u001b[0m\n\u001b[0;31m    say=\"\"Python is very easy.\"he says.\"\u001b[0m\n\u001b[0m               ^\u001b[0m\n\u001b[0;31mSyntaxError\u001b[0m\u001b[0;31m:\u001b[0m invalid syntax\n"
          ]
        }
      ]
    },
    {
      "cell_type": "markdown",
      "metadata": {
        "id": "lKFmlLZku4Ql"
      },
      "source": [
        "\r\n",
        "\r\n",
        ">\\ 이용해 \" 또는 ' 포함시키기\r\n",
        "\r\n"
      ]
    },
    {
      "cell_type": "code",
      "metadata": {
        "colab": {
          "base_uri": "https://localhost:8080/",
          "height": 34
        },
        "id": "k4cu80eQvBVY",
        "outputId": "22b039bc-ee84-4fda-e85b-3fb16d54616c"
      },
      "source": [
        "food='Python\\'s favorite food is perl.'\r\n",
        "food\r\n",
        "#' '로 묶어서 \\'이용"
      ],
      "execution_count": null,
      "outputs": [
        {
          "output_type": "execute_result",
          "data": {
            "application/vnd.google.colaboratory.intrinsic+json": {
              "type": "string"
            },
            "text/plain": [
              "\"Python's favorite food is perl.\""
            ]
          },
          "metadata": {
            "tags": []
          },
          "execution_count": 17
        }
      ]
    },
    {
      "cell_type": "code",
      "metadata": {
        "colab": {
          "base_uri": "https://localhost:8080/",
          "height": 34
        },
        "id": "IpYhTx9rwov-",
        "outputId": "637283cf-29c3-49b6-d588-6b8a99052d3d"
      },
      "source": [
        "say=\"\\\"Python is very easy.\\\"he says.\"\r\n",
        "say\r\n",
        "#\" \"로 묶어서 \\\"이용"
      ],
      "execution_count": null,
      "outputs": [
        {
          "output_type": "execute_result",
          "data": {
            "application/vnd.google.colaboratory.intrinsic+json": {
              "type": "string"
            },
            "text/plain": [
              "'\"Python is very easy.\"he says.'"
            ]
          },
          "metadata": {
            "tags": []
          },
          "execution_count": 20
        }
      ]
    },
    {
      "cell_type": "markdown",
      "metadata": {
        "id": "Of4Htyx3sZ-s"
      },
      "source": [
        "**여러 줄인 문자열을 변수에 대입**"
      ]
    },
    {
      "cell_type": "markdown",
      "metadata": {
        "id": "h181ngpQxQUo"
      },
      "source": [
        "\r\n",
        "\r\n",
        "> 이스케이프 코드 \\n 이용\r\n",
        "\r\n"
      ]
    },
    {
      "cell_type": "code",
      "metadata": {
        "colab": {
          "base_uri": "https://localhost:8080/"
        },
        "id": "BXzfBbA0shIP",
        "outputId": "0bd2d015-bc21-40e1-ef92-67eb9611c511"
      },
      "source": [
        "multiline=\"Life is too short\\nYou need Python\"\r\n",
        "print(multiline)"
      ],
      "execution_count": null,
      "outputs": [
        {
          "output_type": "stream",
          "text": [
            "Life is too short\n",
            "You need Python\n"
          ],
          "name": "stdout"
        }
      ]
    },
    {
      "cell_type": "markdown",
      "metadata": {
        "id": "uwAro0EZxROA"
      },
      "source": [
        "\r\n",
        "\r\n",
        "> 연속된 3개의 ''' 또는 \"\"\" 이용\r\n",
        "\r\n"
      ]
    },
    {
      "cell_type": "code",
      "metadata": {
        "colab": {
          "base_uri": "https://localhost:8080/"
        },
        "id": "hHueQ3sMxRxZ",
        "outputId": "388b8c40-7e36-4894-a67f-5cc36e94ddfb"
      },
      "source": [
        "multiline = \"\"\"\r\n",
        "Life is too short\r\n",
        "You need Python\r\n",
        "\"\"\"\r\n",
        "print(multiline)"
      ],
      "execution_count": null,
      "outputs": [
        {
          "output_type": "stream",
          "text": [
            "\n",
            "Life is too short\n",
            "You need Python\n",
            "\n"
          ],
          "name": "stdout"
        }
      ]
    },
    {
      "cell_type": "code",
      "metadata": {
        "colab": {
          "base_uri": "https://localhost:8080/"
        },
        "id": "63XH-LqRxfqB",
        "outputId": "be928228-78eb-4b1c-8a14-4ba450ac511c"
      },
      "source": [
        "multiline='''\r\n",
        "Life is too short\r\n",
        "You need Python\r\n",
        "'''\r\n",
        "print(multiline)"
      ],
      "execution_count": null,
      "outputs": [
        {
          "output_type": "stream",
          "text": [
            "\n",
            "Life is too short\n",
            "You need Python\n",
            "\n"
          ],
          "name": "stdout"
        }
      ]
    },
    {
      "cell_type": "markdown",
      "metadata": {
        "id": "dAvFJbcMzxJ1"
      },
      "source": [
        "**이스케이프 코드**<br>\r\n",
        "\r\n",
        "\r\n",
        "*   \\n\r\n",
        "*   \\t\r\n",
        "*   \\\\'\r\n",
        "*   \\\\\"\r\n",
        "*   \\\\\\"
      ]
    },
    {
      "cell_type": "markdown",
      "metadata": {
        "id": "t5efsA1BsrZ_"
      },
      "source": [
        "**문자열 연산**"
      ]
    },
    {
      "cell_type": "markdown",
      "metadata": {
        "id": "cJXC4-dh0ss-"
      },
      "source": [
        "\r\n",
        "\r\n",
        "> 문자열 더하기\r\n",
        "\r\n"
      ]
    },
    {
      "cell_type": "code",
      "metadata": {
        "colab": {
          "base_uri": "https://localhost:8080/",
          "height": 34
        },
        "id": "hCE6WDl50xkK",
        "outputId": "c20d1dd7-1376-4897-e2fe-43eec55b6f3f"
      },
      "source": [
        "head=\"Python\"\r\n",
        "tail=\" is fun!\"\r\n",
        "head+tail"
      ],
      "execution_count": null,
      "outputs": [
        {
          "output_type": "execute_result",
          "data": {
            "application/vnd.google.colaboratory.intrinsic+json": {
              "type": "string"
            },
            "text/plain": [
              "'Python is fun!'"
            ]
          },
          "metadata": {
            "tags": []
          },
          "execution_count": 38
        }
      ]
    },
    {
      "cell_type": "markdown",
      "metadata": {
        "id": "j2IPZS6j0thz"
      },
      "source": [
        "\r\n",
        "\r\n",
        "> 문자열 곱하기\r\n",
        "\r\n"
      ]
    },
    {
      "cell_type": "code",
      "metadata": {
        "colab": {
          "base_uri": "https://localhost:8080/",
          "height": 34
        },
        "id": "XQJfDac8srvj",
        "outputId": "7bb47678-f9a6-4660-e331-4e06ff354f03"
      },
      "source": [
        "a=\"Python\"\r\n",
        "a*3"
      ],
      "execution_count": null,
      "outputs": [
        {
          "output_type": "execute_result",
          "data": {
            "application/vnd.google.colaboratory.intrinsic+json": {
              "type": "string"
            },
            "text/plain": [
              "'PythonPythonPython'"
            ]
          },
          "metadata": {
            "tags": []
          },
          "execution_count": 39
        }
      ]
    },
    {
      "cell_type": "code",
      "metadata": {
        "colab": {
          "base_uri": "https://localhost:8080/"
        },
        "id": "TGE2LKHW0vC3",
        "outputId": "fafd6f72-b8d5-4f7f-b7ff-da285416b519"
      },
      "source": [
        "print(\"=\"*50)\r\n",
        "print(\"My Program\")\r\n",
        "print(\"=\"*50)"
      ],
      "execution_count": null,
      "outputs": [
        {
          "output_type": "stream",
          "text": [
            "==================================================\n",
            "My Program\n",
            "==================================================\n"
          ],
          "name": "stdout"
        }
      ]
    },
    {
      "cell_type": "markdown",
      "metadata": {
        "id": "N1Gra3KS1Wx3"
      },
      "source": [
        "\r\n",
        "\r\n",
        "> 문자열 길이 구하기\r\n",
        "\r\n"
      ]
    },
    {
      "cell_type": "code",
      "metadata": {
        "colab": {
          "base_uri": "https://localhost:8080/"
        },
        "id": "qjcwC8O61WWO",
        "outputId": "e6b3fa00-86d6-4782-ffd2-43aaab0ea86b"
      },
      "source": [
        "a=\"Life is too short\"\r\n",
        "len(a)"
      ],
      "execution_count": null,
      "outputs": [
        {
          "output_type": "execute_result",
          "data": {
            "text/plain": [
              "17"
            ]
          },
          "metadata": {
            "tags": []
          },
          "execution_count": 42
        }
      ]
    },
    {
      "cell_type": "code",
      "metadata": {
        "colab": {
          "base_uri": "https://localhost:8080/"
        },
        "id": "0eI5s5M71gHy",
        "outputId": "9101eb32-886a-4f8b-d6d5-11346d3e2ae4"
      },
      "source": [
        "b='You need Python'\r\n",
        "len(b)"
      ],
      "execution_count": null,
      "outputs": [
        {
          "output_type": "execute_result",
          "data": {
            "text/plain": [
              "15"
            ]
          },
          "metadata": {
            "tags": []
          },
          "execution_count": 43
        }
      ]
    },
    {
      "cell_type": "markdown",
      "metadata": {
        "id": "IR1-M6Svsr-b"
      },
      "source": [
        "**문자열 인덱싱**<br>\r\n",
        "-> zero indexing<br>\r\n",
        "-> a= \"Life is too short, You need Python\""
      ]
    },
    {
      "cell_type": "code",
      "metadata": {
        "colab": {
          "base_uri": "https://localhost:8080/"
        },
        "id": "3Jh4JIt0sskN",
        "outputId": "d2f5fe10-d3d0-495b-a58b-75d6ea81a90b"
      },
      "source": [
        "a=\"Life is too short, You need Python\"\r\n",
        "print(\"a[0]: \",a[0])\r\n",
        "print(\"a[3]: \",a[3])\r\n",
        "print(\"a[4]: \",a[4])\r\n",
        "print(\"a[12]: \",a[12])"
      ],
      "execution_count": null,
      "outputs": [
        {
          "output_type": "stream",
          "text": [
            "a[0]:  L\n",
            "a[3]:  e\n",
            "a[4]:   \n",
            "a[12]:  s\n"
          ],
          "name": "stdout"
        }
      ]
    },
    {
      "cell_type": "code",
      "metadata": {
        "colab": {
          "base_uri": "https://localhost:8080/"
        },
        "id": "Mqs66c_a2YVC",
        "outputId": "75a06098-1979-4751-f06e-15b79ea21abe"
      },
      "source": [
        "print(\"a[-1]: \",a[-1]) #뒤에서 첫번째 문자\r\n",
        "print(\"a[-2]: \",a[-2]) #뒤에서 두번째 문자\r\n",
        "print(\"a[-5]: \",a[-5]) #뒤에서 다섯번째 문자"
      ],
      "execution_count": null,
      "outputs": [
        {
          "output_type": "stream",
          "text": [
            "a[-1]:  n\n",
            "a[-2]:  o\n",
            "a[-5]:  y\n"
          ],
          "name": "stdout"
        }
      ]
    },
    {
      "cell_type": "code",
      "metadata": {
        "colab": {
          "base_uri": "https://localhost:8080/"
        },
        "id": "n-Y5qrnG2rJB",
        "outputId": "54e808b4-0728-46a8-b414-cb22939a9d45"
      },
      "source": [
        "print(\"a[0]: \",a[0]) \r\n",
        "print(\"a[-0]: \",a[-0]) \r\n",
        "# 0 그리고 -0 모두 0으로 동일 값이라 같은 문자가 출력됨"
      ],
      "execution_count": null,
      "outputs": [
        {
          "output_type": "stream",
          "text": [
            "a[0]:  L\n",
            "a[-0]:  L\n"
          ],
          "name": "stdout"
        }
      ]
    },
    {
      "cell_type": "markdown",
      "metadata": {
        "id": "FKO-8ALm16Ls"
      },
      "source": [
        "**문자열 슬라이싱**<br>\r\n",
        "-> (시작) : (끝) 이용<br>\r\n",
        "-> index가 (시작) 이상 (끝) 미만인 문자열<br>\r\n",
        "-> a=\"Life is too short, You need Python\""
      ]
    },
    {
      "cell_type": "code",
      "metadata": {
        "colab": {
          "base_uri": "https://localhost:8080/",
          "height": 34
        },
        "id": "ZfuHpsFK16rm",
        "outputId": "16fc6164-80c5-4042-86ad-7ba611a81549"
      },
      "source": [
        "a[0:4] #index가 0 1 2 3인 문자"
      ],
      "execution_count": null,
      "outputs": [
        {
          "output_type": "execute_result",
          "data": {
            "application/vnd.google.colaboratory.intrinsic+json": {
              "type": "string"
            },
            "text/plain": [
              "'Life'"
            ]
          },
          "metadata": {
            "tags": []
          },
          "execution_count": 54
        }
      ]
    },
    {
      "cell_type": "code",
      "metadata": {
        "colab": {
          "base_uri": "https://localhost:8080/",
          "height": 34
        },
        "id": "gm0A3C0J31i-",
        "outputId": "d9cbc02b-7663-4bdc-ab02-b13db6c27659"
      },
      "source": [
        "a[0:3] #index가 0 1 2인 문자\r\n"
      ],
      "execution_count": null,
      "outputs": [
        {
          "output_type": "execute_result",
          "data": {
            "application/vnd.google.colaboratory.intrinsic+json": {
              "type": "string"
            },
            "text/plain": [
              "'Lif'"
            ]
          },
          "metadata": {
            "tags": []
          },
          "execution_count": 59
        }
      ]
    },
    {
      "cell_type": "code",
      "metadata": {
        "colab": {
          "base_uri": "https://localhost:8080/",
          "height": 34
        },
        "id": "9WArk6YK33Dz",
        "outputId": "e5528d0b-68ab-41da-9f6b-bcdab11db891"
      },
      "source": [
        "a[5:7] #index가 5 6인 문자"
      ],
      "execution_count": null,
      "outputs": [
        {
          "output_type": "execute_result",
          "data": {
            "application/vnd.google.colaboratory.intrinsic+json": {
              "type": "string"
            },
            "text/plain": [
              "'is'"
            ]
          },
          "metadata": {
            "tags": []
          },
          "execution_count": 58
        }
      ]
    },
    {
      "cell_type": "code",
      "metadata": {
        "colab": {
          "base_uri": "https://localhost:8080/",
          "height": 34
        },
        "id": "0DGm_xwI33RY",
        "outputId": "3cd05b9f-198c-49eb-b123-cf2a1a591439"
      },
      "source": [
        "a[12:17] #index가 12 13 14 15 16인 문자"
      ],
      "execution_count": null,
      "outputs": [
        {
          "output_type": "execute_result",
          "data": {
            "application/vnd.google.colaboratory.intrinsic+json": {
              "type": "string"
            },
            "text/plain": [
              "'short'"
            ]
          },
          "metadata": {
            "tags": []
          },
          "execution_count": 57
        }
      ]
    },
    {
      "cell_type": "markdown",
      "metadata": {
        "id": "NFXf--Q77WhR"
      },
      "source": [
        "**주의 해야 할 문자열 인덱싱**<br>문자열은 요소값을 바꿀 수 없다."
      ]
    },
    {
      "cell_type": "code",
      "metadata": {
        "colab": {
          "base_uri": "https://localhost:8080/",
          "height": 221
        },
        "id": "kIbzCHZi7e8v",
        "outputId": "c48f9b1a-b6c1-4697-91d9-dcbdb657db0f"
      },
      "source": [
        "#pithon -> python으로 바꾸기\r\n",
        "a=\"pithon\"\r\n",
        "a[1]=\"y\" #오류 발생 : 문자열은 요소값을 바꿀 수 없다.\r\n",
        "a"
      ],
      "execution_count": null,
      "outputs": [
        {
          "output_type": "error",
          "ename": "TypeError",
          "evalue": "ignored",
          "traceback": [
            "\u001b[0;31m---------------------------------------------------------------------------\u001b[0m",
            "\u001b[0;31mTypeError\u001b[0m                                 Traceback (most recent call last)",
            "\u001b[0;32m<ipython-input-76-32011dceec33>\u001b[0m in \u001b[0;36m<module>\u001b[0;34m()\u001b[0m\n\u001b[1;32m      1\u001b[0m \u001b[0;31m#pithon -> python으로 바꾸기\u001b[0m\u001b[0;34m\u001b[0m\u001b[0;34m\u001b[0m\u001b[0;34m\u001b[0m\u001b[0m\n\u001b[1;32m      2\u001b[0m \u001b[0ma\u001b[0m\u001b[0;34m=\u001b[0m\u001b[0;34m\"pithon\"\u001b[0m\u001b[0;34m\u001b[0m\u001b[0;34m\u001b[0m\u001b[0m\n\u001b[0;32m----> 3\u001b[0;31m \u001b[0ma\u001b[0m\u001b[0;34m[\u001b[0m\u001b[0;36m1\u001b[0m\u001b[0;34m]\u001b[0m\u001b[0;34m=\u001b[0m\u001b[0;34m\"y\"\u001b[0m\u001b[0;34m\u001b[0m\u001b[0;34m\u001b[0m\u001b[0m\n\u001b[0m\u001b[1;32m      4\u001b[0m \u001b[0ma\u001b[0m\u001b[0;34m\u001b[0m\u001b[0;34m\u001b[0m\u001b[0m\n",
            "\u001b[0;31mTypeError\u001b[0m: 'str' object does not support item assignment"
          ]
        }
      ]
    },
    {
      "cell_type": "code",
      "metadata": {
        "colab": {
          "base_uri": "https://localhost:8080/",
          "height": 34
        },
        "id": "8wTjOZlV70GZ",
        "outputId": "6c2676b6-e73d-407f-de6c-565ff31729f6"
      },
      "source": [
        "#pithon -> python으로 바꾸기\r\n",
        "a=\"pithon\"\r\n",
        "a[0]+\"y\"+a[2:] #문자열 슬라이싱 이용하기"
      ],
      "execution_count": null,
      "outputs": [
        {
          "output_type": "execute_result",
          "data": {
            "application/vnd.google.colaboratory.intrinsic+json": {
              "type": "string"
            },
            "text/plain": [
              "'python'"
            ]
          },
          "metadata": {
            "tags": []
          },
          "execution_count": 78
        }
      ]
    },
    {
      "cell_type": "markdown",
      "metadata": {
        "id": "E7Ba7PTY5PAM"
      },
      "source": [
        "-> : (끝) | 처음부터 끝 미만<br>\r\n",
        "-> (시작) : | 시작 이상 부터 맨 끝까지"
      ]
    },
    {
      "cell_type": "code",
      "metadata": {
        "colab": {
          "base_uri": "https://localhost:8080/",
          "height": 34
        },
        "id": "QIrcqNbc33Z6",
        "outputId": "109cb66d-28b2-40ab-aca8-7528749d23e7"
      },
      "source": [
        "a[19:]"
      ],
      "execution_count": null,
      "outputs": [
        {
          "output_type": "execute_result",
          "data": {
            "application/vnd.google.colaboratory.intrinsic+json": {
              "type": "string"
            },
            "text/plain": [
              "'You need Python'"
            ]
          },
          "metadata": {
            "tags": []
          },
          "execution_count": 60
        }
      ]
    },
    {
      "cell_type": "code",
      "metadata": {
        "colab": {
          "base_uri": "https://localhost:8080/",
          "height": 34
        },
        "id": "vsEmc4Vo5l-e",
        "outputId": "cef6b7ef-a667-4384-a547-51553ebbb936"
      },
      "source": [
        "a[:17]"
      ],
      "execution_count": null,
      "outputs": [
        {
          "output_type": "execute_result",
          "data": {
            "application/vnd.google.colaboratory.intrinsic+json": {
              "type": "string"
            },
            "text/plain": [
              "'Life is too short'"
            ]
          },
          "metadata": {
            "tags": []
          },
          "execution_count": 61
        }
      ]
    },
    {
      "cell_type": "code",
      "metadata": {
        "colab": {
          "base_uri": "https://localhost:8080/",
          "height": 34
        },
        "id": "djuIDG3R5nvT",
        "outputId": "139a36b0-65e0-41d4-b7cb-9d5faf48944e"
      },
      "source": [
        "a[:]"
      ],
      "execution_count": null,
      "outputs": [
        {
          "output_type": "execute_result",
          "data": {
            "application/vnd.google.colaboratory.intrinsic+json": {
              "type": "string"
            },
            "text/plain": [
              "'Life is too short, You need Python'"
            ]
          },
          "metadata": {
            "tags": []
          },
          "execution_count": 62
        }
      ]
    },
    {
      "cell_type": "code",
      "metadata": {
        "colab": {
          "base_uri": "https://localhost:8080/",
          "height": 34
        },
        "id": "Ej5SQMJt5n-A",
        "outputId": "ca43e102-2c16-47bb-e4ce-f5b902955781"
      },
      "source": [
        "a[19:-7] #index 19부터 -8까지(-7 바로 앞 글자까지)"
      ],
      "execution_count": null,
      "outputs": [
        {
          "output_type": "execute_result",
          "data": {
            "application/vnd.google.colaboratory.intrinsic+json": {
              "type": "string"
            },
            "text/plain": [
              "'You need'"
            ]
          },
          "metadata": {
            "tags": []
          },
          "execution_count": 64
        }
      ]
    },
    {
      "cell_type": "markdown",
      "metadata": {
        "id": "H8_AT8rt6ZA6"
      },
      "source": [
        "**자주 사용되는 슬라이싱 기법**"
      ]
    },
    {
      "cell_type": "code",
      "metadata": {
        "colab": {
          "base_uri": "https://localhost:8080/"
        },
        "id": "ATAeqO4D5oHS",
        "outputId": "56e93978-88d6-4b0c-e1d1-712937dcb0e9"
      },
      "source": [
        "a=\"20010331Rainy\"\r\n",
        "date=a[0:8]\r\n",
        "weather=a[8:]\r\n"
      ],
      "execution_count": null,
      "outputs": [
        {
          "output_type": "stream",
          "text": [
            "date:  20010331\n",
            "weather:  Rainy\n"
          ],
          "name": "stdout"
        }
      ]
    },
    {
      "cell_type": "code",
      "metadata": {
        "colab": {
          "base_uri": "https://localhost:8080/",
          "height": 34
        },
        "id": "G2NZzErI6w7z",
        "outputId": "405d2806-ba62-4c76-87f1-74ce3df7a28d"
      },
      "source": [
        "date"
      ],
      "execution_count": null,
      "outputs": [
        {
          "output_type": "execute_result",
          "data": {
            "application/vnd.google.colaboratory.intrinsic+json": {
              "type": "string"
            },
            "text/plain": [
              "'20010331'"
            ]
          },
          "metadata": {
            "tags": []
          },
          "execution_count": 67
        }
      ]
    },
    {
      "cell_type": "code",
      "metadata": {
        "colab": {
          "base_uri": "https://localhost:8080/",
          "height": 34
        },
        "id": "6MMzbnav61ab",
        "outputId": "322cc2ef-1066-4405-d90e-d90d5a02b8f0"
      },
      "source": [
        "weather"
      ],
      "execution_count": null,
      "outputs": [
        {
          "output_type": "execute_result",
          "data": {
            "application/vnd.google.colaboratory.intrinsic+json": {
              "type": "string"
            },
            "text/plain": [
              "'Rainy'"
            ]
          },
          "metadata": {
            "tags": []
          },
          "execution_count": 70
        }
      ]
    },
    {
      "cell_type": "code",
      "metadata": {
        "id": "82Q8LzTv7D6a"
      },
      "source": [
        "a=\"20010331Rainy\"\r\n",
        "year=a[:4]\r\n",
        "day=a[4:8]\r\n",
        "weather=a[8:]"
      ],
      "execution_count": null,
      "outputs": []
    },
    {
      "cell_type": "code",
      "metadata": {
        "colab": {
          "base_uri": "https://localhost:8080/",
          "height": 34
        },
        "id": "2g7tVvjA7Oeb",
        "outputId": "5e80d4fc-59f7-46fe-8e0e-d1a93cbfda81"
      },
      "source": [
        "year"
      ],
      "execution_count": null,
      "outputs": [
        {
          "output_type": "execute_result",
          "data": {
            "application/vnd.google.colaboratory.intrinsic+json": {
              "type": "string"
            },
            "text/plain": [
              "'2001'"
            ]
          },
          "metadata": {
            "tags": []
          },
          "execution_count": 72
        }
      ]
    },
    {
      "cell_type": "code",
      "metadata": {
        "colab": {
          "base_uri": "https://localhost:8080/",
          "height": 34
        },
        "id": "iRS61_L97Nk0",
        "outputId": "c63e25bc-cee9-4ed8-bd3c-d28eb4b47ed5"
      },
      "source": [
        "day"
      ],
      "execution_count": null,
      "outputs": [
        {
          "output_type": "execute_result",
          "data": {
            "application/vnd.google.colaboratory.intrinsic+json": {
              "type": "string"
            },
            "text/plain": [
              "'0331'"
            ]
          },
          "metadata": {
            "tags": []
          },
          "execution_count": 74
        }
      ]
    },
    {
      "cell_type": "code",
      "metadata": {
        "colab": {
          "base_uri": "https://localhost:8080/",
          "height": 34
        },
        "id": "LZm4JWIu7TIW",
        "outputId": "eee34aa4-68ce-40ed-cc96-e9b069e1d9a5"
      },
      "source": [
        "weather"
      ],
      "execution_count": null,
      "outputs": [
        {
          "output_type": "execute_result",
          "data": {
            "application/vnd.google.colaboratory.intrinsic+json": {
              "type": "string"
            },
            "text/plain": [
              "'Rainy'"
            ]
          },
          "metadata": {
            "tags": []
          },
          "execution_count": 75
        }
      ]
    },
    {
      "cell_type": "markdown",
      "metadata": {
        "id": "T0B7kwHVs1nn"
      },
      "source": [
        "**문자열 포매팅**"
      ]
    },
    {
      "cell_type": "markdown",
      "metadata": {
        "id": "rIUI6vxB8YnQ"
      },
      "source": [
        "\r\n",
        "\r\n",
        ">숫자 바로 대입\r\n",
        "\r\n"
      ]
    },
    {
      "cell_type": "code",
      "metadata": {
        "colab": {
          "base_uri": "https://localhost:8080/",
          "height": 34
        },
        "id": "SWQpsBims2l0",
        "outputId": "2c653c74-f6c5-4b20-e612-bbed2238763f"
      },
      "source": [
        "\"I eat %d apples.\" %3"
      ],
      "execution_count": null,
      "outputs": [
        {
          "output_type": "execute_result",
          "data": {
            "application/vnd.google.colaboratory.intrinsic+json": {
              "type": "string"
            },
            "text/plain": [
              "'I eat 3 apples.'"
            ]
          },
          "metadata": {
            "tags": []
          },
          "execution_count": 79
        }
      ]
    },
    {
      "cell_type": "markdown",
      "metadata": {
        "id": "7gQdBDC-8ZZi"
      },
      "source": [
        "\r\n",
        "\r\n",
        "> 문자열 바로 대입\r\n",
        "\r\n"
      ]
    },
    {
      "cell_type": "code",
      "metadata": {
        "colab": {
          "base_uri": "https://localhost:8080/",
          "height": 34
        },
        "id": "ZPV7DBQZ8Z7x",
        "outputId": "13774009-9bed-4031-e951-9cde106ba8dc"
      },
      "source": [
        "\"I eat %s apples.\" %\"five\" #문자열 five 이니까 \"\"로 묶어주기"
      ],
      "execution_count": null,
      "outputs": [
        {
          "output_type": "execute_result",
          "data": {
            "application/vnd.google.colaboratory.intrinsic+json": {
              "type": "string"
            },
            "text/plain": [
              "'I eat five apples.'"
            ]
          },
          "metadata": {
            "tags": []
          },
          "execution_count": 82
        }
      ]
    },
    {
      "cell_type": "markdown",
      "metadata": {
        "id": "PXhnjXMH8ad6"
      },
      "source": [
        "\r\n",
        "\r\n",
        "> 숫자 값 가지는 변수로 대입\r\n",
        "\r\n"
      ]
    },
    {
      "cell_type": "code",
      "metadata": {
        "colab": {
          "base_uri": "https://localhost:8080/",
          "height": 34
        },
        "id": "I9Z52f9B8bwA",
        "outputId": "6a11b125-0bce-4e39-e57d-c25f5b9ca530"
      },
      "source": [
        "a=3\r\n",
        "\"I ate %d apples\" %a"
      ],
      "execution_count": null,
      "outputs": [
        {
          "output_type": "execute_result",
          "data": {
            "application/vnd.google.colaboratory.intrinsic+json": {
              "type": "string"
            },
            "text/plain": [
              "'I ate 3 apples'"
            ]
          },
          "metadata": {
            "tags": []
          },
          "execution_count": 83
        }
      ]
    },
    {
      "cell_type": "markdown",
      "metadata": {
        "id": "4LnxKvY09EH5"
      },
      "source": [
        "\r\n",
        "\r\n",
        "> 2개 이상의 값 넣기 -> 튜플 이용\r\n",
        "\r\n"
      ]
    },
    {
      "cell_type": "code",
      "metadata": {
        "colab": {
          "base_uri": "https://localhost:8080/",
          "height": 34
        },
        "id": "kJGR1lfD9Hz_",
        "outputId": "bc59365b-54bf-4f5f-a3b1-f4f2ee58c3ae"
      },
      "source": [
        "num=18\r\n",
        "day=\"three\"\r\n",
        "\"I ate %d apples. so I was sick for %s days.\"%(num,day)"
      ],
      "execution_count": null,
      "outputs": [
        {
          "output_type": "execute_result",
          "data": {
            "application/vnd.google.colaboratory.intrinsic+json": {
              "type": "string"
            },
            "text/plain": [
              "'I ate 18 apples. so I was sick for three days.'"
            ]
          },
          "metadata": {
            "tags": []
          },
          "execution_count": 85
        }
      ]
    },
    {
      "cell_type": "markdown",
      "metadata": {
        "id": "OL_As2Zps2Nc"
      },
      "source": [
        "**문자열 포매팅 : 포맷 코드**"
      ]
    },
    {
      "cell_type": "code",
      "metadata": {
        "colab": {
          "base_uri": "https://localhost:8080/",
          "height": 34
        },
        "id": "E-T3oTXA8n37",
        "outputId": "507b296c-047a-49cb-b499-70e4c5d0ac2a"
      },
      "source": [
        "\"I have %d  apples.\" %3 #정수형 %d"
      ],
      "execution_count": null,
      "outputs": [
        {
          "output_type": "execute_result",
          "data": {
            "application/vnd.google.colaboratory.intrinsic+json": {
              "type": "string"
            },
            "text/plain": [
              "'Rate is 3.141590'"
            ]
          },
          "metadata": {
            "tags": []
          },
          "execution_count": 86
        }
      ]
    },
    {
      "cell_type": "code",
      "metadata": {
        "colab": {
          "base_uri": "https://localhost:8080/",
          "height": 34
        },
        "id": "2sBP_9fD8qHF",
        "outputId": "65f5c8c7-a52a-435e-8636-cc12092f8067"
      },
      "source": [
        "\"Rate is %f\" %3.14159 #실수형 %f"
      ],
      "execution_count": null,
      "outputs": [
        {
          "output_type": "execute_result",
          "data": {
            "application/vnd.google.colaboratory.intrinsic+json": {
              "type": "string"
            },
            "text/plain": [
              "'Rate is 3.141590'"
            ]
          },
          "metadata": {
            "tags": []
          },
          "execution_count": 92
        }
      ]
    },
    {
      "cell_type": "markdown",
      "metadata": {
        "id": "4foIzfGP-q7x"
      },
      "source": [
        "\r\n",
        "\r\n",
        ">**%s : 어떤 형태의 값이든 문자열로 변환해 넣는다.**\r\n",
        "\r\n"
      ]
    },
    {
      "cell_type": "code",
      "metadata": {
        "colab": {
          "base_uri": "https://localhost:8080/",
          "height": 34
        },
        "id": "y7FVenuU8uLP",
        "outputId": "fe57f712-e457-4dcf-86e9-368a9b3ee940"
      },
      "source": [
        "\"I have %s apples.\" %3 #정수 3을 문자열 3으로 받음"
      ],
      "execution_count": null,
      "outputs": [
        {
          "output_type": "execute_result",
          "data": {
            "application/vnd.google.colaboratory.intrinsic+json": {
              "type": "string"
            },
            "text/plain": [
              "'I have 3 apples.'"
            ]
          },
          "metadata": {
            "tags": []
          },
          "execution_count": 88
        }
      ]
    },
    {
      "cell_type": "code",
      "metadata": {
        "id": "SwJIgYZC-dEH"
      },
      "source": [
        "\"Rate is %s\" %3.14159 #실수 3.14159를 문자열 3.1415로 받음"
      ],
      "execution_count": null,
      "outputs": []
    },
    {
      "cell_type": "markdown",
      "metadata": {
        "id": "t_6_ovRm8cde"
      },
      "source": [
        "\r\n",
        "\r\n",
        "> **%%는 %d와 %가 함께 쓸 때 사용**\r\n",
        "\r\n"
      ]
    },
    {
      "cell_type": "code",
      "metadata": {
        "colab": {
          "base_uri": "https://localhost:8080/",
          "height": 34
        },
        "id": "Llh2tVSP_dJY",
        "outputId": "1d9f1bb0-d26f-412e-9a65-dc96bbb4ca7e"
      },
      "source": [
        "\"Error is %d.\"%98"
      ],
      "execution_count": null,
      "outputs": [
        {
          "output_type": "execute_result",
          "data": {
            "application/vnd.google.colaboratory.intrinsic+json": {
              "type": "string"
            },
            "text/plain": [
              "'Error is 98.'"
            ]
          },
          "metadata": {
            "tags": []
          },
          "execution_count": 90
        }
      ]
    },
    {
      "cell_type": "code",
      "metadata": {
        "colab": {
          "base_uri": "https://localhost:8080/",
          "height": 168
        },
        "id": "RIR2eJr28dQm",
        "outputId": "3c20bb52-3ca8-4fae-879b-df60e972944e"
      },
      "source": [
        "\"Error is %d%.\"%98"
      ],
      "execution_count": null,
      "outputs": [
        {
          "output_type": "error",
          "ename": "ValueError",
          "evalue": "ignored",
          "traceback": [
            "\u001b[0;31m---------------------------------------------------------------------------\u001b[0m",
            "\u001b[0;31mValueError\u001b[0m                                Traceback (most recent call last)",
            "\u001b[0;32m<ipython-input-89-b890024f1b57>\u001b[0m in \u001b[0;36m<module>\u001b[0;34m()\u001b[0m\n\u001b[0;32m----> 1\u001b[0;31m \u001b[0;34m\"Error is %d%.\"\u001b[0m\u001b[0;34m%\u001b[0m\u001b[0;36m98\u001b[0m\u001b[0;34m\u001b[0m\u001b[0;34m\u001b[0m\u001b[0m\n\u001b[0m",
            "\u001b[0;31mValueError\u001b[0m: incomplete format"
          ]
        }
      ]
    },
    {
      "cell_type": "code",
      "metadata": {
        "colab": {
          "base_uri": "https://localhost:8080/",
          "height": 34
        },
        "id": "ZpUxf2yC_gN-",
        "outputId": "0e3edcfc-1dc4-4b67-f76b-98b376d474ae"
      },
      "source": [
        "\"Error is %d%%.\"%98"
      ],
      "execution_count": null,
      "outputs": [
        {
          "output_type": "execute_result",
          "data": {
            "application/vnd.google.colaboratory.intrinsic+json": {
              "type": "string"
            },
            "text/plain": [
              "'Error is 98%.'"
            ]
          },
          "metadata": {
            "tags": []
          },
          "execution_count": 91
        }
      ]
    },
    {
      "cell_type": "markdown",
      "metadata": {
        "id": "00z43PTo_tKJ"
      },
      "source": [
        "\r\n",
        "\r\n",
        ">정렬과 공백\r\n",
        "\r\n",
        "\r\n",
        "*   %ns : 오른쪽 정렬 / 전체 공간 n개 / 그 앞에 나머지는 공백\r\n",
        "*   %-ns : 왼쪽 정렬 / 전체 공간 n개 / 그 뒤에 나머지는 공백\r\n",
        "\r\n",
        "\r\n",
        "\r\n"
      ]
    },
    {
      "cell_type": "code",
      "metadata": {
        "colab": {
          "base_uri": "https://localhost:8080/",
          "height": 34
        },
        "id": "cfau374n_tvW",
        "outputId": "878910b8-a76c-48de-91c1-8c8b28feca45"
      },
      "source": [
        "\"%10s\"%\"hi\" #hi가 오른쪽 정렬됨"
      ],
      "execution_count": null,
      "outputs": [
        {
          "output_type": "execute_result",
          "data": {
            "application/vnd.google.colaboratory.intrinsic+json": {
              "type": "string"
            },
            "text/plain": [
              "'        hi'"
            ]
          },
          "metadata": {
            "tags": []
          },
          "execution_count": 94
        }
      ]
    },
    {
      "cell_type": "code",
      "metadata": {
        "colab": {
          "base_uri": "https://localhost:8080/",
          "height": 34
        },
        "id": "LOHEOIoXAIHX",
        "outputId": "bd8f2d82-b296-45de-c885-59b68447c33d"
      },
      "source": [
        "\"%-10s\"%\"hi\" #hi가 왼쪽 정렬됨"
      ],
      "execution_count": null,
      "outputs": [
        {
          "output_type": "execute_result",
          "data": {
            "application/vnd.google.colaboratory.intrinsic+json": {
              "type": "string"
            },
            "text/plain": [
              "'hi        '"
            ]
          },
          "metadata": {
            "tags": []
          },
          "execution_count": 95
        }
      ]
    },
    {
      "cell_type": "markdown",
      "metadata": {
        "id": "HdLFNghG_uiD"
      },
      "source": [
        "\r\n",
        "\r\n",
        "> 소수점 표현\r\n",
        "\r\n",
        "\r\n",
        "*   %0.kf : 소수점 k자리수까지만 표현\r\n",
        "*   %n.Kf : 소수점 k자리수까지만 표현 / 전체 길이 n개 / 오른쪽 정렬\r\n",
        "*   %-n.Kf : 소수점 k자리수까지만 표현 / 전체 길이 n개 / 왼쪽 정렬\r\n",
        "\r\n",
        "\r\n",
        "\r\n",
        "\r\n",
        "\r\n",
        "\r\n"
      ]
    },
    {
      "cell_type": "code",
      "metadata": {
        "colab": {
          "base_uri": "https://localhost:8080/",
          "height": 34
        },
        "id": "IJbEDgoR_vBS",
        "outputId": "066de938-650b-4659-d8b3-4812b8d8994b"
      },
      "source": [
        "\"%0.4f\"%3.14156984"
      ],
      "execution_count": null,
      "outputs": [
        {
          "output_type": "execute_result",
          "data": {
            "application/vnd.google.colaboratory.intrinsic+json": {
              "type": "string"
            },
            "text/plain": [
              "'3.1416'"
            ]
          },
          "metadata": {
            "tags": []
          },
          "execution_count": 97
        }
      ]
    },
    {
      "cell_type": "code",
      "metadata": {
        "colab": {
          "base_uri": "https://localhost:8080/",
          "height": 34
        },
        "id": "fqIV39zcBjms",
        "outputId": "5341e3e8-a52b-4eaf-813a-a7d660166213"
      },
      "source": [
        "\"%10.4f\"%3.14156984"
      ],
      "execution_count": null,
      "outputs": [
        {
          "output_type": "execute_result",
          "data": {
            "application/vnd.google.colaboratory.intrinsic+json": {
              "type": "string"
            },
            "text/plain": [
              "'    3.1416'"
            ]
          },
          "metadata": {
            "tags": []
          },
          "execution_count": 99
        }
      ]
    },
    {
      "cell_type": "code",
      "metadata": {
        "colab": {
          "base_uri": "https://localhost:8080/",
          "height": 34
        },
        "id": "Ai9LO8dkBnJz",
        "outputId": "f1f1a99a-bf54-4f50-e329-6697fe4f9efc"
      },
      "source": [
        "\"%-10.4f\"%3.14156984"
      ],
      "execution_count": null,
      "outputs": [
        {
          "output_type": "execute_result",
          "data": {
            "application/vnd.google.colaboratory.intrinsic+json": {
              "type": "string"
            },
            "text/plain": [
              "'3.1416    '"
            ]
          },
          "metadata": {
            "tags": []
          },
          "execution_count": 100
        }
      ]
    },
    {
      "cell_type": "markdown",
      "metadata": {
        "id": "ji1s9aLftKJW"
      },
      "source": [
        "**문자열 포매팅 : format()함수**"
      ]
    },
    {
      "cell_type": "markdown",
      "metadata": {
        "id": "dadHYHXWCBFx"
      },
      "source": [
        "\r\n",
        "\r\n",
        "> 숫자/문자열/변수로 바로 대입하기\r\n",
        "\r\n"
      ]
    },
    {
      "cell_type": "code",
      "metadata": {
        "colab": {
          "base_uri": "https://localhost:8080/",
          "height": 34
        },
        "id": "gldrbKz5CAWL",
        "outputId": "f0af232e-f8da-4c1c-c6bc-7565ef4eb5a5"
      },
      "source": [
        "\"I ate {0} apple.\".format(3) #숫자"
      ],
      "execution_count": null,
      "outputs": [
        {
          "output_type": "execute_result",
          "data": {
            "application/vnd.google.colaboratory.intrinsic+json": {
              "type": "string"
            },
            "text/plain": [
              "'I ate 3 apple.'"
            ]
          },
          "metadata": {
            "tags": []
          },
          "execution_count": 101
        }
      ]
    },
    {
      "cell_type": "code",
      "metadata": {
        "colab": {
          "base_uri": "https://localhost:8080/",
          "height": 34
        },
        "id": "54K-k6rHCUfE",
        "outputId": "599735de-4119-4045-d7d8-b49496a210e6"
      },
      "source": [
        " \"I ate {0} apple.\".format(\"five\") #문자열"
      ],
      "execution_count": null,
      "outputs": [
        {
          "output_type": "execute_result",
          "data": {
            "application/vnd.google.colaboratory.intrinsic+json": {
              "type": "string"
            },
            "text/plain": [
              "'I ate five apple.'"
            ]
          },
          "metadata": {
            "tags": []
          },
          "execution_count": 102
        }
      ]
    },
    {
      "cell_type": "code",
      "metadata": {
        "colab": {
          "base_uri": "https://localhost:8080/",
          "height": 34
        },
        "id": "Z7yKk3bAtKfp",
        "outputId": "168a3515-cc05-49e4-af1a-74e69b7e0d9a"
      },
      "source": [
        "num=5\r\n",
        "\"I ate {0} apple.\".format(num) #숫자가 담긴 변수"
      ],
      "execution_count": null,
      "outputs": [
        {
          "output_type": "execute_result",
          "data": {
            "application/vnd.google.colaboratory.intrinsic+json": {
              "type": "string"
            },
            "text/plain": [
              "'I ate 5 apple.'"
            ]
          },
          "metadata": {
            "tags": []
          },
          "execution_count": 103
        }
      ]
    },
    {
      "cell_type": "code",
      "metadata": {
        "colab": {
          "base_uri": "https://localhost:8080/",
          "height": 34
        },
        "id": "A3Ev2dUVCfT2",
        "outputId": "28e15415-9d63-4a00-ecb3-3e31b173cd97"
      },
      "source": [
        "num=\"five\"\r\n",
        "\"I ate {0} apple.\".format(num) #문자가 담긴 변수"
      ],
      "execution_count": null,
      "outputs": [
        {
          "output_type": "execute_result",
          "data": {
            "application/vnd.google.colaboratory.intrinsic+json": {
              "type": "string"
            },
            "text/plain": [
              "'I ate five apple.'"
            ]
          },
          "metadata": {
            "tags": []
          },
          "execution_count": 104
        }
      ]
    },
    {
      "cell_type": "markdown",
      "metadata": {
        "id": "pBX9NZenCBi6"
      },
      "source": [
        "\r\n",
        "\r\n",
        "> 두 개 이상의 값 넣기<br>\r\n",
        "-> 이름(이름=값의 인자 필수) / 인덱스 / 이름&인덱스 혼용\r\n",
        "\r\n",
        "\r\n"
      ]
    },
    {
      "cell_type": "code",
      "metadata": {
        "colab": {
          "base_uri": "https://localhost:8080/",
          "height": 34
        },
        "id": "4vI27CJjC2ak",
        "outputId": "0dbe2a0c-cf2b-4c69-c581-2f7a7f797803"
      },
      "source": [
        "\"I ate {num} apples, so I was sick for {day} days.\".format(num=18,day=\"three\") #이름"
      ],
      "execution_count": null,
      "outputs": [
        {
          "output_type": "execute_result",
          "data": {
            "application/vnd.google.colaboratory.intrinsic+json": {
              "type": "string"
            },
            "text/plain": [
              "'I ate 18 apples, so I was sick for three days.'"
            ]
          },
          "metadata": {
            "tags": []
          },
          "execution_count": 106
        }
      ]
    },
    {
      "cell_type": "code",
      "metadata": {
        "colab": {
          "base_uri": "https://localhost:8080/",
          "height": 34
        },
        "id": "t8RY9-pLC10z",
        "outputId": "c05fecdf-8db7-471d-e486-23c3dcfc9831"
      },
      "source": [
        "num=18\r\n",
        "day=\"three\"\r\n",
        "\"I ate {0} apples, so I was sick for {1} days.\".format(num,day) #인덱스"
      ],
      "execution_count": null,
      "outputs": [
        {
          "output_type": "execute_result",
          "data": {
            "application/vnd.google.colaboratory.intrinsic+json": {
              "type": "string"
            },
            "text/plain": [
              "'I ate 18 apples, so I was sick for three days.'"
            ]
          },
          "metadata": {
            "tags": []
          },
          "execution_count": 105
        }
      ]
    },
    {
      "cell_type": "code",
      "metadata": {
        "colab": {
          "base_uri": "https://localhost:8080/",
          "height": 203
        },
        "id": "on-h_kkLC2_W",
        "outputId": "dc2815e6-8f13-49ba-f68d-22b199392fc7"
      },
      "source": [
        "num=18\r\n",
        "day=\"three\"\r\n",
        "\"I ate {num} apples, so I was sick for {day} days.\".format(num,day) #이름=값 형태로 인자 꼭 전달해줘야함"
      ],
      "execution_count": null,
      "outputs": [
        {
          "output_type": "error",
          "ename": "KeyError",
          "evalue": "ignored",
          "traceback": [
            "\u001b[0;31m---------------------------------------------------------------------------\u001b[0m",
            "\u001b[0;31mKeyError\u001b[0m                                  Traceback (most recent call last)",
            "\u001b[0;32m<ipython-input-108-f79b030651d3>\u001b[0m in \u001b[0;36m<module>\u001b[0;34m()\u001b[0m\n\u001b[1;32m      1\u001b[0m \u001b[0mnum\u001b[0m\u001b[0;34m=\u001b[0m\u001b[0;36m18\u001b[0m\u001b[0;34m\u001b[0m\u001b[0;34m\u001b[0m\u001b[0m\n\u001b[1;32m      2\u001b[0m \u001b[0mday\u001b[0m\u001b[0;34m=\u001b[0m\u001b[0;34m\"three\"\u001b[0m\u001b[0;34m\u001b[0m\u001b[0;34m\u001b[0m\u001b[0m\n\u001b[0;32m----> 3\u001b[0;31m \u001b[0;34m\"I ate {num} apples, so I was sick for {day} days.\"\u001b[0m\u001b[0;34m.\u001b[0m\u001b[0mformat\u001b[0m\u001b[0;34m(\u001b[0m\u001b[0mnum\u001b[0m\u001b[0;34m,\u001b[0m\u001b[0mday\u001b[0m\u001b[0;34m)\u001b[0m \u001b[0;31m#이름=값 형태로 인자 꼭 전달해줘야함\u001b[0m\u001b[0;34m\u001b[0m\u001b[0;34m\u001b[0m\u001b[0m\n\u001b[0m",
            "\u001b[0;31mKeyError\u001b[0m: 'num'"
          ]
        }
      ]
    },
    {
      "cell_type": "code",
      "metadata": {
        "colab": {
          "base_uri": "https://localhost:8080/",
          "height": 34
        },
        "id": "susExIrGDrL7",
        "outputId": "dc2f9b56-d6be-45a6-e71b-5c963fded247"
      },
      "source": [
        "\"I ate {0} apples, so I was sick for {day} days\".format(18,day=\"three\") #인덱스와 이름 혼용"
      ],
      "execution_count": null,
      "outputs": [
        {
          "output_type": "execute_result",
          "data": {
            "application/vnd.google.colaboratory.intrinsic+json": {
              "type": "string"
            },
            "text/plain": [
              "'I ate 18 apples, so I was sick for three days'"
            ]
          },
          "metadata": {
            "tags": []
          },
          "execution_count": 110
        }
      ]
    },
    {
      "cell_type": "markdown",
      "metadata": {
        "id": "SCCATrOaCELB"
      },
      "source": [
        "\r\n",
        "\r\n",
        "> 정렬 / 공백\r\n",
        "\r\n",
        "*   {0:<n} : < 왼쪽 정렬 / 전체 n 자리\r\n",
        "*   {0:>n} : > 오른쪽 정렬 / 전체 n 자리\r\n",
        "*   {0:^n} : ^ 가운데 정렬 / 전체 n 자리\r\n",
        "*   :와 <>^ 사이에 공백을 채울 문자를 씀\r\n",
        "\r\n",
        "\r\n",
        "\r\n",
        "\r\n",
        "\r\n"
      ]
    },
    {
      "cell_type": "code",
      "metadata": {
        "colab": {
          "base_uri": "https://localhost:8080/",
          "height": 34
        },
        "id": "bSZmHIljCFJw",
        "outputId": "c7ddc263-6a6e-4696-c892-cb082067b7f7"
      },
      "source": [
        "\"{0:<10}\".format(\"hi\") #왼쪽 정렬"
      ],
      "execution_count": null,
      "outputs": [
        {
          "output_type": "execute_result",
          "data": {
            "application/vnd.google.colaboratory.intrinsic+json": {
              "type": "string"
            },
            "text/plain": [
              "'hi        '"
            ]
          },
          "metadata": {
            "tags": []
          },
          "execution_count": 111
        }
      ]
    },
    {
      "cell_type": "code",
      "metadata": {
        "colab": {
          "base_uri": "https://localhost:8080/",
          "height": 34
        },
        "id": "Ctsoth1uFtuc",
        "outputId": "00d4928d-4c95-4076-81ef-8d2780126633"
      },
      "source": [
        "\"{0:>10}\".format(\"hi\") #오른쪽 정렬"
      ],
      "execution_count": null,
      "outputs": [
        {
          "output_type": "execute_result",
          "data": {
            "application/vnd.google.colaboratory.intrinsic+json": {
              "type": "string"
            },
            "text/plain": [
              "'        hi'"
            ]
          },
          "metadata": {
            "tags": []
          },
          "execution_count": 112
        }
      ]
    },
    {
      "cell_type": "code",
      "metadata": {
        "colab": {
          "base_uri": "https://localhost:8080/",
          "height": 34
        },
        "id": "hQ5xb58RFt9a",
        "outputId": "29be9e0c-249e-4c0c-ad50-8366fee27251"
      },
      "source": [
        "\"{0:^10}\".format(\"hi\") #가운데 정렬"
      ],
      "execution_count": null,
      "outputs": [
        {
          "output_type": "execute_result",
          "data": {
            "application/vnd.google.colaboratory.intrinsic+json": {
              "type": "string"
            },
            "text/plain": [
              "'    hi    '"
            ]
          },
          "metadata": {
            "tags": []
          },
          "execution_count": 116
        }
      ]
    },
    {
      "cell_type": "code",
      "metadata": {
        "colab": {
          "base_uri": "https://localhost:8080/",
          "height": 34
        },
        "id": "2EZ5WC1mFuH8",
        "outputId": "1a2c9219-8228-4bd2-c7da-7f3b18007d03"
      },
      "source": [
        "\"{0:=^10}\".format(\"hi\") #공백 =로 채우기 / 가운데 정렬 / 전체 자리수 10"
      ],
      "execution_count": null,
      "outputs": [
        {
          "output_type": "execute_result",
          "data": {
            "application/vnd.google.colaboratory.intrinsic+json": {
              "type": "string"
            },
            "text/plain": [
              "'====hi===='"
            ]
          },
          "metadata": {
            "tags": []
          },
          "execution_count": 119
        }
      ]
    },
    {
      "cell_type": "code",
      "metadata": {
        "colab": {
          "base_uri": "https://localhost:8080/",
          "height": 34
        },
        "id": "b2HzlbhIFuXD",
        "outputId": "45d7ae05-53d8-47f3-d24e-da16abcda224"
      },
      "source": [
        "\"{0:!<10}\".format(\"hi\") #공백 !로 채우기 / 왼쪽 정렬 / 전체 자리수 10"
      ],
      "execution_count": null,
      "outputs": [
        {
          "output_type": "execute_result",
          "data": {
            "application/vnd.google.colaboratory.intrinsic+json": {
              "type": "string"
            },
            "text/plain": [
              "'hi!!!!!!!!'"
            ]
          },
          "metadata": {
            "tags": []
          },
          "execution_count": 120
        }
      ]
    },
    {
      "cell_type": "markdown",
      "metadata": {
        "id": "j4VZhmimG6-j"
      },
      "source": [
        "\r\n",
        "\r\n",
        "> 소수점 표현\r\n",
        "\r\n",
        "\r\n",
        "*   {0:0.nf} : 소수점 아래 n자리까지\r\n",
        "*   {0:k.nf} : 소수점 아래 n자리까지 / 전체 k자리수\r\n",
        "\r\n",
        "\r\n",
        "\r\n"
      ]
    },
    {
      "cell_type": "code",
      "metadata": {
        "colab": {
          "base_uri": "https://localhost:8080/",
          "height": 34
        },
        "id": "LfAh-EqAG7ks",
        "outputId": "8f11388b-0930-40e2-dbf5-210b63ff3ac4"
      },
      "source": [
        "y=3.124567\r\n",
        "\"{0:0.4f}\".format(y)"
      ],
      "execution_count": null,
      "outputs": [
        {
          "output_type": "execute_result",
          "data": {
            "application/vnd.google.colaboratory.intrinsic+json": {
              "type": "string"
            },
            "text/plain": [
              "'3.1246'"
            ]
          },
          "metadata": {
            "tags": []
          },
          "execution_count": 122
        }
      ]
    },
    {
      "cell_type": "code",
      "metadata": {
        "colab": {
          "base_uri": "https://localhost:8080/",
          "height": 34
        },
        "id": "bTIsqGQXHXRR",
        "outputId": "1fd64fd4-a4aa-4004-93ab-736d5cb814f9"
      },
      "source": [
        "y=3.124567\r\n",
        "\"{0:10.4f}\".format(y)"
      ],
      "execution_count": null,
      "outputs": [
        {
          "output_type": "execute_result",
          "data": {
            "application/vnd.google.colaboratory.intrinsic+json": {
              "type": "string"
            },
            "text/plain": [
              "'    3.1246'"
            ]
          },
          "metadata": {
            "tags": []
          },
          "execution_count": 123
        }
      ]
    },
    {
      "cell_type": "markdown",
      "metadata": {
        "id": "k7tZpfQFHlFW"
      },
      "source": [
        "\r\n",
        "\r\n",
        "> {}문자 표현하기\r\n",
        "\r\n"
      ]
    },
    {
      "cell_type": "code",
      "metadata": {
        "colab": {
          "base_uri": "https://localhost:8080/",
          "height": 34
        },
        "id": "IeusR3A8Hlkr",
        "outputId": "ad688670-9b9b-4d0d-91c4-335219aa6ae2"
      },
      "source": [
        "\"{{ and }}\".format()"
      ],
      "execution_count": null,
      "outputs": [
        {
          "output_type": "execute_result",
          "data": {
            "application/vnd.google.colaboratory.intrinsic+json": {
              "type": "string"
            },
            "text/plain": [
              "'{ and }'"
            ]
          },
          "metadata": {
            "tags": []
          },
          "execution_count": 124
        }
      ]
    },
    {
      "cell_type": "markdown",
      "metadata": {
        "id": "jpJhHdYotKyH"
      },
      "source": [
        "**문자열 포매팅 : f 문자열 포매팅**"
      ]
    },
    {
      "cell_type": "markdown",
      "metadata": {
        "id": "0UN7hhdFJsf3"
      },
      "source": [
        "\r\n",
        "\r\n",
        "> 변수/표현식/딕셔너리\r\n",
        "\r\n"
      ]
    },
    {
      "cell_type": "code",
      "metadata": {
        "colab": {
          "base_uri": "https://localhost:8080/",
          "height": 34
        },
        "id": "jePRg3_itLhA",
        "outputId": "a6e70220-b3b3-43a7-fbae-733e5a3f0bdd"
      },
      "source": [
        "age=30\r\n",
        "name=\"홍길동\"\r\n",
        "f\"나의 이름은 {name}이고, 나이는 {age}이다.\" #변수"
      ],
      "execution_count": null,
      "outputs": [
        {
          "output_type": "execute_result",
          "data": {
            "application/vnd.google.colaboratory.intrinsic+json": {
              "type": "string"
            },
            "text/plain": [
              "'나의 이름은 홍길동이고, 나이는 30이다.'"
            ]
          },
          "metadata": {
            "tags": []
          },
          "execution_count": 125
        }
      ]
    },
    {
      "cell_type": "code",
      "metadata": {
        "colab": {
          "base_uri": "https://localhost:8080/",
          "height": 34
        },
        "id": "hfvVNBiFJ_pw",
        "outputId": "5df1e0d1-dbc1-410b-f69a-4711b25f3255"
      },
      "source": [
        "age=30\r\n",
        "f\"나이는 {age+1}이다.\" #표현식"
      ],
      "execution_count": null,
      "outputs": [
        {
          "output_type": "execute_result",
          "data": {
            "application/vnd.google.colaboratory.intrinsic+json": {
              "type": "string"
            },
            "text/plain": [
              "'나이는 31이다.'"
            ]
          },
          "metadata": {
            "tags": []
          },
          "execution_count": 126
        }
      ]
    },
    {
      "cell_type": "code",
      "metadata": {
        "colab": {
          "base_uri": "https://localhost:8080/",
          "height": 34
        },
        "id": "OdP4EVXRJ_0i",
        "outputId": "bd20216e-25b4-40a0-8d23-6e70fd4bd21b"
      },
      "source": [
        "d={'name':'홍길동','age':30} #딕셔너리\r\n",
        "f'나의 이름은 {d[\"name\"]}이고, 나이는 {d[\"age\"]}이다.' #작은 따옴표, 큰 따옴표 사용 주의"
      ],
      "execution_count": null,
      "outputs": [
        {
          "output_type": "execute_result",
          "data": {
            "application/vnd.google.colaboratory.intrinsic+json": {
              "type": "string"
            },
            "text/plain": [
              "'나의 이름은 홍길동이고, 나이는 30이다.'"
            ]
          },
          "metadata": {
            "tags": []
          },
          "execution_count": 131
        }
      ]
    },
    {
      "cell_type": "markdown",
      "metadata": {
        "id": "C61C1_SWCGCA"
      },
      "source": [
        "\r\n",
        "\r\n",
        "> 정렬/공백\r\n",
        "\r\n"
      ]
    },
    {
      "cell_type": "code",
      "metadata": {
        "colab": {
          "base_uri": "https://localhost:8080/",
          "height": 34
        },
        "id": "G6IpbXVPCG1K",
        "outputId": "d17f1a43-aee9-4efd-e7ee-292f20cc005e"
      },
      "source": [
        "f'{\"hi\":<10}' #왼쪽 정렬 / 전체 10자리"
      ],
      "execution_count": null,
      "outputs": [
        {
          "output_type": "execute_result",
          "data": {
            "application/vnd.google.colaboratory.intrinsic+json": {
              "type": "string"
            },
            "text/plain": [
              "'hi        '"
            ]
          },
          "metadata": {
            "tags": []
          },
          "execution_count": 133
        }
      ]
    },
    {
      "cell_type": "code",
      "metadata": {
        "colab": {
          "base_uri": "https://localhost:8080/",
          "height": 34
        },
        "id": "kmhIQpZuLhta",
        "outputId": "54d9ad87-573a-4bdf-95cb-d69cd295fdbe"
      },
      "source": [
        "f'{\"hi\":>10}' #오른쪽 정렬 / 전체 10자리"
      ],
      "execution_count": null,
      "outputs": [
        {
          "output_type": "execute_result",
          "data": {
            "application/vnd.google.colaboratory.intrinsic+json": {
              "type": "string"
            },
            "text/plain": [
              "'        hi'"
            ]
          },
          "metadata": {
            "tags": []
          },
          "execution_count": 134
        }
      ]
    },
    {
      "cell_type": "code",
      "metadata": {
        "colab": {
          "base_uri": "https://localhost:8080/",
          "height": 34
        },
        "id": "W7khOPvvLh9d",
        "outputId": "fe05a46a-8610-49f8-bffd-58cceb2014c1"
      },
      "source": [
        "f'{\"hi\":^10}' #가운데 정렬 / 전체 10자리"
      ],
      "execution_count": null,
      "outputs": [
        {
          "output_type": "execute_result",
          "data": {
            "application/vnd.google.colaboratory.intrinsic+json": {
              "type": "string"
            },
            "text/plain": [
              "'    hi    '"
            ]
          },
          "metadata": {
            "tags": []
          },
          "execution_count": 135
        }
      ]
    },
    {
      "cell_type": "code",
      "metadata": {
        "colab": {
          "base_uri": "https://localhost:8080/",
          "height": 34
        },
        "id": "NPr49a8DLiSP",
        "outputId": "1bda061d-781b-42d3-8c0f-a032d25dc4e6"
      },
      "source": [
        "f'{\"hi\":=^10}' #가운데 정렬 / 공백은 문자 =로 채우기 / 전체 10자리"
      ],
      "execution_count": null,
      "outputs": [
        {
          "output_type": "execute_result",
          "data": {
            "application/vnd.google.colaboratory.intrinsic+json": {
              "type": "string"
            },
            "text/plain": [
              "'====hi===='"
            ]
          },
          "metadata": {
            "tags": []
          },
          "execution_count": 136
        }
      ]
    },
    {
      "cell_type": "code",
      "metadata": {
        "colab": {
          "base_uri": "https://localhost:8080/",
          "height": 34
        },
        "id": "HUjcaK3JLioY",
        "outputId": "04953c1f-51aa-4e3c-b354-c97c3fc2d86d"
      },
      "source": [
        "f'{\"hi\":!<10}'#왼쪽 정렬 / 공백은 문자 !로 채우기 / 전체 10자리"
      ],
      "execution_count": null,
      "outputs": [
        {
          "output_type": "execute_result",
          "data": {
            "application/vnd.google.colaboratory.intrinsic+json": {
              "type": "string"
            },
            "text/plain": [
              "'hi!!!!!!!!'"
            ]
          },
          "metadata": {
            "tags": []
          },
          "execution_count": 137
        }
      ]
    },
    {
      "cell_type": "markdown",
      "metadata": {
        "id": "biffDIK4LUzR"
      },
      "source": [
        "\r\n",
        "\r\n",
        ">소수점 표현\r\n",
        "\r\n"
      ]
    },
    {
      "cell_type": "code",
      "metadata": {
        "colab": {
          "base_uri": "https://localhost:8080/",
          "height": 34
        },
        "id": "rVcj5hQlLWEO",
        "outputId": "76b34888-02f1-4396-80aa-09830364de23"
      },
      "source": [
        "y=3.14159\r\n",
        "f'{y:0.4f}' #소수점 4자리까지만 표현"
      ],
      "execution_count": null,
      "outputs": [
        {
          "output_type": "execute_result",
          "data": {
            "application/vnd.google.colaboratory.intrinsic+json": {
              "type": "string"
            },
            "text/plain": [
              "'3.1416'"
            ]
          },
          "metadata": {
            "tags": []
          },
          "execution_count": 138
        }
      ]
    },
    {
      "cell_type": "code",
      "metadata": {
        "colab": {
          "base_uri": "https://localhost:8080/",
          "height": 34
        },
        "id": "N20GxbRDMaxk",
        "outputId": "1ca62560-45d9-4eee-95f7-a545b436c11a"
      },
      "source": [
        "y=3.14159\r\n",
        "f'{y:10.4f}' #소수점 4자리까지만 표현 / 전체 10자리"
      ],
      "execution_count": null,
      "outputs": [
        {
          "output_type": "execute_result",
          "data": {
            "application/vnd.google.colaboratory.intrinsic+json": {
              "type": "string"
            },
            "text/plain": [
              "'    3.1416'"
            ]
          },
          "metadata": {
            "tags": []
          },
          "execution_count": 139
        }
      ]
    },
    {
      "cell_type": "markdown",
      "metadata": {
        "id": "oU7BLzIKJ4UO"
      },
      "source": [
        "\r\n",
        "\r\n",
        "> {} 표시\r\n",
        "\r\n"
      ]
    },
    {
      "cell_type": "code",
      "metadata": {
        "colab": {
          "base_uri": "https://localhost:8080/",
          "height": 34
        },
        "id": "X54NonUsJ4yP",
        "outputId": "39f62d21-9ecd-442e-b0d4-c4b83c5f1d24"
      },
      "source": [
        "f'{{ and }}'"
      ],
      "execution_count": null,
      "outputs": [
        {
          "output_type": "execute_result",
          "data": {
            "application/vnd.google.colaboratory.intrinsic+json": {
              "type": "string"
            },
            "text/plain": [
              "'{ and }'"
            ]
          },
          "metadata": {
            "tags": []
          },
          "execution_count": 140
        }
      ]
    },
    {
      "cell_type": "code",
      "metadata": {
        "colab": {
          "base_uri": "https://localhost:8080/",
          "height": 34
        },
        "id": "weGG_vXQMySv",
        "outputId": "f4ffcd42-1426-4774-f7e8-28b2ddcf14c0"
      },
      "source": [
        "'{:!^12}'.format(\"python\")"
      ],
      "execution_count": null,
      "outputs": [
        {
          "output_type": "execute_result",
          "data": {
            "application/vnd.google.colaboratory.intrinsic+json": {
              "type": "string"
            },
            "text/plain": [
              "'!!!python!!!'"
            ]
          },
          "metadata": {
            "tags": []
          },
          "execution_count": 141
        }
      ]
    },
    {
      "cell_type": "code",
      "metadata": {
        "colab": {
          "base_uri": "https://localhost:8080/",
          "height": 34
        },
        "id": "CX0Z4nDXM8jQ",
        "outputId": "e649e58b-c511-413a-bb39-94bc692d3e3b"
      },
      "source": [
        "f'{\"python\":!^12}'"
      ],
      "execution_count": null,
      "outputs": [
        {
          "output_type": "execute_result",
          "data": {
            "application/vnd.google.colaboratory.intrinsic+json": {
              "type": "string"
            },
            "text/plain": [
              "'!!!python!!!'"
            ]
          },
          "metadata": {
            "tags": []
          },
          "execution_count": 142
        }
      ]
    },
    {
      "cell_type": "markdown",
      "metadata": {
        "id": "vN501pkQtn_V"
      },
      "source": [
        "**문자열 관련 함수**<br>\r\n",
        "\r\n",
        "\r\n",
        "\r\n",
        "\r\n",
        "*  문자 개수 세기\r\n",
        "*  위치 알려주기\r\n",
        "*  문자열 삽입\r\n",
        "*  소문자 -> 대문자\r\n",
        "*  대문자 -> 소문자\r\n",
        "\r\n",
        "*   공백 지우기 : 왼쪽 / 오른쪽 / 양쪽 \r\n",
        "*   문자열 바꾸기\r\n",
        "*   문자열 나누기\r\n",
        "\r\n",
        "\r\n"
      ]
    },
    {
      "cell_type": "code",
      "metadata": {
        "colab": {
          "base_uri": "https://localhost:8080/"
        },
        "id": "m5I5r4XStoYa",
        "outputId": "3a7d904c-560d-45e4-fa77-809b6b5f28a4"
      },
      "source": [
        "#문자 개수 세기 (1) : count\r\n",
        "a=\"hobby\"\r\n",
        "a.count(\"b\")"
      ],
      "execution_count": null,
      "outputs": [
        {
          "output_type": "execute_result",
          "data": {
            "text/plain": [
              "2"
            ]
          },
          "metadata": {
            "tags": []
          },
          "execution_count": 144
        }
      ]
    },
    {
      "cell_type": "code",
      "metadata": {
        "colab": {
          "base_uri": "https://localhost:8080/"
        },
        "id": "6cxGvUAPOUt2",
        "outputId": "7ed9e585-bf86-4759-d3f5-3cece8792a20"
      },
      "source": [
        "#문자 위치 알려주기 : find \r\n",
        "a=\"hooby\"\r\n",
        "a.find(\"o\") #해당 문자가 여러개 있는 경우 가장 처음 나온 문자의 index 제공"
      ],
      "execution_count": null,
      "outputs": [
        {
          "output_type": "execute_result",
          "data": {
            "text/plain": [
              "1"
            ]
          },
          "metadata": {
            "tags": []
          },
          "execution_count": 146
        }
      ]
    },
    {
      "cell_type": "code",
      "metadata": {
        "colab": {
          "base_uri": "https://localhost:8080/"
        },
        "id": "DIa56bB0O9-q",
        "outputId": "6bd5d96f-b200-404d-cf7d-d9fb87867215"
      },
      "source": [
        "a=\"hooby\"\r\n",
        "a.find(\"k\") #해당 문자 존재하지 않는 경우 -1 반환"
      ],
      "execution_count": null,
      "outputs": [
        {
          "output_type": "execute_result",
          "data": {
            "text/plain": [
              "-1"
            ]
          },
          "metadata": {
            "tags": []
          },
          "execution_count": 147
        }
      ]
    },
    {
      "cell_type": "code",
      "metadata": {
        "colab": {
          "base_uri": "https://localhost:8080/"
        },
        "id": "D_JKbdfIOUyU",
        "outputId": "872c8f24-e749-4b51-a38c-6e154d4f54ad"
      },
      "source": [
        "#문자 개수 세기 (2) : index\r\n",
        "a=\"hooby\"\r\n",
        "a.index(\"o\") #해당 문자가 여러개 있는 경우 가장 처음 나온 문자의 index 제공"
      ],
      "execution_count": null,
      "outputs": [
        {
          "output_type": "execute_result",
          "data": {
            "text/plain": [
              "1"
            ]
          },
          "metadata": {
            "tags": []
          },
          "execution_count": 148
        }
      ]
    },
    {
      "cell_type": "code",
      "metadata": {
        "colab": {
          "base_uri": "https://localhost:8080/",
          "height": 238
        },
        "id": "3V7OgmMfOU1w",
        "outputId": "621c5400-ce54-4eb4-930d-7144b7f4dac7"
      },
      "source": [
        "a=\"hooby\"\r\n",
        "a.index(\"k\") #해당 문자 존재하지 않는 경우 오류 발생"
      ],
      "execution_count": null,
      "outputs": [
        {
          "output_type": "error",
          "ename": "ValueError",
          "evalue": "ignored",
          "traceback": [
            "\u001b[0;31m---------------------------------------------------------------------------\u001b[0m",
            "\u001b[0;31mValueError\u001b[0m                                Traceback (most recent call last)",
            "\u001b[0;32m<ipython-input-149-69bf58ebd38b>\u001b[0m in \u001b[0;36m<module>\u001b[0;34m()\u001b[0m\n\u001b[1;32m      1\u001b[0m \u001b[0ma\u001b[0m\u001b[0;34m=\u001b[0m\u001b[0;34m\"hooby\"\u001b[0m\u001b[0;34m\u001b[0m\u001b[0;34m\u001b[0m\u001b[0m\n\u001b[0;32m----> 2\u001b[0;31m \u001b[0ma\u001b[0m\u001b[0;34m.\u001b[0m\u001b[0mindex\u001b[0m\u001b[0;34m(\u001b[0m\u001b[0;34m\"k\"\u001b[0m\u001b[0;34m)\u001b[0m \u001b[0;31m#해당 문자가 여러개 있는 경우 가장 처음 나온 문자의 index 제공\u001b[0m\u001b[0;34m\u001b[0m\u001b[0;34m\u001b[0m\u001b[0m\n\u001b[0m\u001b[1;32m      3\u001b[0m \u001b[0;34m\u001b[0m\u001b[0m\n\u001b[1;32m      4\u001b[0m \u001b[0;34m\u001b[0m\u001b[0m\n\u001b[1;32m      5\u001b[0m \u001b[0;34m\u001b[0m\u001b[0m\n",
            "\u001b[0;31mValueError\u001b[0m: substring not found"
          ]
        }
      ]
    },
    {
      "cell_type": "code",
      "metadata": {
        "colab": {
          "base_uri": "https://localhost:8080/",
          "height": 34
        },
        "id": "mqkLnfmYOVlC",
        "outputId": "48596040-f585-4f0f-ee45-0a65f94c003f"
      },
      "source": [
        "#문자열 삽입 : join : 문자 사이 사이에 지정한 기호를 삽입\r\n",
        "\",\".join(\"abcd\")"
      ],
      "execution_count": null,
      "outputs": [
        {
          "output_type": "execute_result",
          "data": {
            "application/vnd.google.colaboratory.intrinsic+json": {
              "type": "string"
            },
            "text/plain": [
              "'a,b,c,d'"
            ]
          },
          "metadata": {
            "tags": []
          },
          "execution_count": 150
        }
      ]
    },
    {
      "cell_type": "code",
      "metadata": {
        "colab": {
          "base_uri": "https://localhost:8080/",
          "height": 34
        },
        "id": "aF0jOZxAOV5j",
        "outputId": "f8ac4715-15f8-4fe7-d779-331ebab766a5"
      },
      "source": [
        "\",\".join(['a','b','c','d']) #리스트에 join함수 사용"
      ],
      "execution_count": null,
      "outputs": [
        {
          "output_type": "execute_result",
          "data": {
            "application/vnd.google.colaboratory.intrinsic+json": {
              "type": "string"
            },
            "text/plain": [
              "'a,b,c,d'"
            ]
          },
          "metadata": {
            "tags": []
          },
          "execution_count": 151
        }
      ]
    },
    {
      "cell_type": "code",
      "metadata": {
        "colab": {
          "base_uri": "https://localhost:8080/",
          "height": 34
        },
        "id": "LWq8TVLOP8c5",
        "outputId": "355ac04c-7470-4705-9fe6-549cfd9f4dcd"
      },
      "source": [
        "#소문자 -> 대문자\r\n",
        "a=\"hi\"\r\n",
        "a.upper()"
      ],
      "execution_count": null,
      "outputs": [
        {
          "output_type": "execute_result",
          "data": {
            "application/vnd.google.colaboratory.intrinsic+json": {
              "type": "string"
            },
            "text/plain": [
              "'HI'"
            ]
          },
          "metadata": {
            "tags": []
          },
          "execution_count": 152
        }
      ]
    },
    {
      "cell_type": "code",
      "metadata": {
        "colab": {
          "base_uri": "https://localhost:8080/",
          "height": 34
        },
        "id": "Rt914fNUQFWq",
        "outputId": "8011351a-e9f0-42a3-d629-62647bbb3528"
      },
      "source": [
        "#대문자 -> 소문자\r\n",
        "a=\"HI\"\r\n",
        "a.lower()"
      ],
      "execution_count": null,
      "outputs": [
        {
          "output_type": "execute_result",
          "data": {
            "application/vnd.google.colaboratory.intrinsic+json": {
              "type": "string"
            },
            "text/plain": [
              "'hi'"
            ]
          },
          "metadata": {
            "tags": []
          },
          "execution_count": 153
        }
      ]
    },
    {
      "cell_type": "code",
      "metadata": {
        "colab": {
          "base_uri": "https://localhost:8080/",
          "height": 34
        },
        "id": "7yni20L8QQFI",
        "outputId": "1ea1790b-4838-4de1-9c3b-918209b3dd3c"
      },
      "source": [
        "#왼쪽 공백 지우기 : lstrip\r\n",
        "a=\"           hi\"\r\n",
        "a.lstrip()"
      ],
      "execution_count": null,
      "outputs": [
        {
          "output_type": "execute_result",
          "data": {
            "application/vnd.google.colaboratory.intrinsic+json": {
              "type": "string"
            },
            "text/plain": [
              "'hi'"
            ]
          },
          "metadata": {
            "tags": []
          },
          "execution_count": 154
        }
      ]
    },
    {
      "cell_type": "code",
      "metadata": {
        "colab": {
          "base_uri": "https://localhost:8080/",
          "height": 34
        },
        "id": "poFGiiCcQbMj",
        "outputId": "a6f59056-764e-498c-b094-6ed9a4f47075"
      },
      "source": [
        "#오른쪽 공백 지우기 : rstrip\r\n",
        "a=\"hi                    \"\r\n",
        "a.rstrip()"
      ],
      "execution_count": null,
      "outputs": [
        {
          "output_type": "execute_result",
          "data": {
            "application/vnd.google.colaboratory.intrinsic+json": {
              "type": "string"
            },
            "text/plain": [
              "'hi'"
            ]
          },
          "metadata": {
            "tags": []
          },
          "execution_count": 155
        }
      ]
    },
    {
      "cell_type": "code",
      "metadata": {
        "colab": {
          "base_uri": "https://localhost:8080/",
          "height": 34
        },
        "id": "2XRVdcE6QbXB",
        "outputId": "c51e9df1-3d99-46c9-e802-41426ca80e7c"
      },
      "source": [
        "#양쪽 공백 지우기 : strip : 양쪽에 있는 한칸 이상의 공백 채움\r\n",
        "a=\"             hi                           \"\r\n",
        "a.strip()"
      ],
      "execution_count": null,
      "outputs": [
        {
          "output_type": "execute_result",
          "data": {
            "application/vnd.google.colaboratory.intrinsic+json": {
              "type": "string"
            },
            "text/plain": [
              "'hi'"
            ]
          },
          "metadata": {
            "tags": []
          },
          "execution_count": 156
        }
      ]
    },
    {
      "cell_type": "code",
      "metadata": {
        "colab": {
          "base_uri": "https://localhost:8080/",
          "height": 34
        },
        "id": "VDP_TZdaQbbr",
        "outputId": "fdea5084-7837-477f-e2e1-197c0cc68b45"
      },
      "source": [
        "#문자열 바꾸기 : replace(바뀌게 될 문자열, 바꿀 문자열)\r\n",
        "a=\"Life is too short\"\r\n",
        "a.replace(\"Life\",\"He\")"
      ],
      "execution_count": null,
      "outputs": [
        {
          "output_type": "execute_result",
          "data": {
            "application/vnd.google.colaboratory.intrinsic+json": {
              "type": "string"
            },
            "text/plain": [
              "'He is too short'"
            ]
          },
          "metadata": {
            "tags": []
          },
          "execution_count": 157
        }
      ]
    },
    {
      "cell_type": "code",
      "metadata": {
        "colab": {
          "base_uri": "https://localhost:8080/"
        },
        "id": "GJ8Utd28Qbh9",
        "outputId": "23ad77dc-c036-4241-c6af-1cf1484a3d64"
      },
      "source": [
        "#문자열 나누기 : split : 나눈 결과는 리스트\r\n",
        "a=\"Life is short\"\r\n",
        "a.split() #공백 기준으로 문자열 나눔"
      ],
      "execution_count": null,
      "outputs": [
        {
          "output_type": "execute_result",
          "data": {
            "text/plain": [
              "['Life', 'is', 'short']"
            ]
          },
          "metadata": {
            "tags": []
          },
          "execution_count": 158
        }
      ]
    },
    {
      "cell_type": "code",
      "metadata": {
        "colab": {
          "base_uri": "https://localhost:8080/"
        },
        "id": "b9LslWuASudB",
        "outputId": "02961330-c034-421c-ac6d-297ae1f9e6d3"
      },
      "source": [
        "a=\"a:b:c:d\"\r\n",
        "a.split(':') # : 기준으로 문자열 나눔"
      ],
      "execution_count": null,
      "outputs": [
        {
          "output_type": "execute_result",
          "data": {
            "text/plain": [
              "['a', 'b', 'c', 'd']"
            ]
          },
          "metadata": {
            "tags": []
          },
          "execution_count": 160
        }
      ]
    }
  ]
}