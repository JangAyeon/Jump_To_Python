{
  "nbformat": 4,
  "nbformat_minor": 0,
  "metadata": {
    "colab": {
      "name": "[2-1]숫자형.ipynb",
      "provenance": []
    },
    "kernelspec": {
      "name": "python3",
      "display_name": "Python 3"
    }
  },
  "cells": [
    {
      "cell_type": "markdown",
      "metadata": {
        "id": "ntqvD837Xa3z"
      },
      "source": [
        "##숫자형##"
      ]
    },
    {
      "cell_type": "markdown",
      "metadata": {
        "id": "FFpLTwfaXfpQ"
      },
      "source": [
        "**정수형**"
      ]
    },
    {
      "cell_type": "code",
      "metadata": {
        "colab": {
          "base_uri": "https://localhost:8080/"
        },
        "id": "jCgn9RFoXOMd",
        "outputId": "b71526c6-a423-4d82-b692-4c347bbd1bff"
      },
      "source": [
        "a=10\r\n",
        "a"
      ],
      "execution_count": 1,
      "outputs": [
        {
          "output_type": "execute_result",
          "data": {
            "text/plain": [
              "10"
            ]
          },
          "metadata": {
            "tags": []
          },
          "execution_count": 1
        }
      ]
    },
    {
      "cell_type": "markdown",
      "metadata": {
        "id": "0piTbLhhXgDW"
      },
      "source": [
        "**실수형**"
      ]
    },
    {
      "cell_type": "code",
      "metadata": {
        "colab": {
          "base_uri": "https://localhost:8080/"
        },
        "id": "Nqamov1mXiLJ",
        "outputId": "93a533d0-f71d-4a23-a85c-f1c74c7ece03"
      },
      "source": [
        "a=3.124\r\n",
        "a"
      ],
      "execution_count": 2,
      "outputs": [
        {
          "output_type": "execute_result",
          "data": {
            "text/plain": [
              "3.124"
            ]
          },
          "metadata": {
            "tags": []
          },
          "execution_count": 2
        }
      ]
    },
    {
      "cell_type": "code",
      "metadata": {
        "colab": {
          "base_uri": "https://localhost:8080/"
        },
        "id": "vLzXyV7FXiY8",
        "outputId": "84f9ada0-b172-4522-c8e8-286d2f4a4e4d"
      },
      "source": [
        "b=4.24E10\r\n",
        "b"
      ],
      "execution_count": 4,
      "outputs": [
        {
          "output_type": "execute_result",
          "data": {
            "text/plain": [
              "42400000000.0"
            ]
          },
          "metadata": {
            "tags": []
          },
          "execution_count": 4
        }
      ]
    },
    {
      "cell_type": "code",
      "metadata": {
        "id": "QZ10YUkqX7oI"
      },
      "source": [
        "c=4.24e-10"
      ],
      "execution_count": 5,
      "outputs": []
    },
    {
      "cell_type": "markdown",
      "metadata": {
        "id": "UQfOByNDXi_g"
      },
      "source": [
        "**8진수 / 16진수**"
      ]
    },
    {
      "cell_type": "code",
      "metadata": {
        "colab": {
          "base_uri": "https://localhost:8080/"
        },
        "id": "70esECuEXjmL",
        "outputId": "4a6c7bcc-41a4-46b6-9251-9090bc790d55"
      },
      "source": [
        "#8진수 0o 또는 0O (숫자 0 + 알파벳 o)\r\n",
        "\r\n",
        "a=0o177\r\n",
        "a"
      ],
      "execution_count": 8,
      "outputs": [
        {
          "output_type": "execute_result",
          "data": {
            "text/plain": [
              "127"
            ]
          },
          "metadata": {
            "tags": []
          },
          "execution_count": 8
        }
      ]
    },
    {
      "cell_type": "code",
      "metadata": {
        "colab": {
          "base_uri": "https://localhost:8080/"
        },
        "id": "cHKcWMf2XldU",
        "outputId": "e153fb9b-0d9a-4c04-e91d-2e595461a0d9"
      },
      "source": [
        "#16진수 0x\r\n",
        "a=0x8ff\r\n",
        "a"
      ],
      "execution_count": 10,
      "outputs": [
        {
          "output_type": "execute_result",
          "data": {
            "text/plain": [
              "2303"
            ]
          },
          "metadata": {
            "tags": []
          },
          "execution_count": 10
        }
      ]
    },
    {
      "cell_type": "markdown",
      "metadata": {
        "id": "G6gqAPLAXmX0"
      },
      "source": [
        "**사칙연산**<br>\r\n",
        "a=7 b=2"
      ]
    },
    {
      "cell_type": "code",
      "metadata": {
        "id": "z6ZfxeeBXo0K"
      },
      "source": [
        "a=7\r\n",
        "b=2\r\n"
      ],
      "execution_count": 11,
      "outputs": []
    },
    {
      "cell_type": "code",
      "metadata": {
        "colab": {
          "base_uri": "https://localhost:8080/"
        },
        "id": "AfC-LF13YxVc",
        "outputId": "adb22930-369a-48b7-b5f2-2a6a36c8bd50"
      },
      "source": [
        "a+b"
      ],
      "execution_count": 12,
      "outputs": [
        {
          "output_type": "execute_result",
          "data": {
            "text/plain": [
              "9"
            ]
          },
          "metadata": {
            "tags": []
          },
          "execution_count": 12
        }
      ]
    },
    {
      "cell_type": "code",
      "metadata": {
        "colab": {
          "base_uri": "https://localhost:8080/"
        },
        "id": "qko-AkEDYx6f",
        "outputId": "2c6c1725-c063-48c9-9598-e1a38bfc671f"
      },
      "source": [
        "a-b"
      ],
      "execution_count": 13,
      "outputs": [
        {
          "output_type": "execute_result",
          "data": {
            "text/plain": [
              "5"
            ]
          },
          "metadata": {
            "tags": []
          },
          "execution_count": 13
        }
      ]
    },
    {
      "cell_type": "code",
      "metadata": {
        "colab": {
          "base_uri": "https://localhost:8080/"
        },
        "id": "FlDGT-bFYyrM",
        "outputId": "bff99fbc-e68e-4053-e794-fc8e246ab349"
      },
      "source": [
        "a*b"
      ],
      "execution_count": 14,
      "outputs": [
        {
          "output_type": "execute_result",
          "data": {
            "text/plain": [
              "14"
            ]
          },
          "metadata": {
            "tags": []
          },
          "execution_count": 14
        }
      ]
    },
    {
      "cell_type": "code",
      "metadata": {
        "colab": {
          "base_uri": "https://localhost:8080/"
        },
        "id": "Q6hQ-RdgYzhs",
        "outputId": "5eef0341-ea6f-4110-96ff-f6bdac3425b4"
      },
      "source": [
        "a/b"
      ],
      "execution_count": 15,
      "outputs": [
        {
          "output_type": "execute_result",
          "data": {
            "text/plain": [
              "3.5"
            ]
          },
          "metadata": {
            "tags": []
          },
          "execution_count": 15
        }
      ]
    },
    {
      "cell_type": "markdown",
      "metadata": {
        "id": "3AsP2TFNY4EO"
      },
      "source": [
        "**%연산자, //연산자, **연산자**"
      ]
    },
    {
      "cell_type": "code",
      "metadata": {
        "colab": {
          "base_uri": "https://localhost:8080/"
        },
        "id": "on2XGsCTY16E",
        "outputId": "0032a30c-e266-4065-b010-d59236dd43bf"
      },
      "source": [
        "a%b"
      ],
      "execution_count": 16,
      "outputs": [
        {
          "output_type": "execute_result",
          "data": {
            "text/plain": [
              "1"
            ]
          },
          "metadata": {
            "tags": []
          },
          "execution_count": 16
        }
      ]
    },
    {
      "cell_type": "code",
      "metadata": {
        "colab": {
          "base_uri": "https://localhost:8080/"
        },
        "id": "OY9IDHkXZC3e",
        "outputId": "f449948c-11dc-4f05-dd6b-11ec5fff8459"
      },
      "source": [
        "a//b"
      ],
      "execution_count": 18,
      "outputs": [
        {
          "output_type": "execute_result",
          "data": {
            "text/plain": [
              "3"
            ]
          },
          "metadata": {
            "tags": []
          },
          "execution_count": 18
        }
      ]
    },
    {
      "cell_type": "code",
      "metadata": {
        "colab": {
          "base_uri": "https://localhost:8080/"
        },
        "id": "0x-TyFjtZEYh",
        "outputId": "fe8ef42d-e117-488d-f4b4-bd03deff561f"
      },
      "source": [
        "a**b"
      ],
      "execution_count": 19,
      "outputs": [
        {
          "output_type": "execute_result",
          "data": {
            "text/plain": [
              "49"
            ]
          },
          "metadata": {
            "tags": []
          },
          "execution_count": 19
        }
      ]
    },
    {
      "cell_type": "markdown",
      "metadata": {
        "id": "FAgQioNvZKPP"
      },
      "source": [
        "**14를 3으로 나누었을 때 몫과 나머지**"
      ]
    },
    {
      "cell_type": "code",
      "metadata": {
        "colab": {
          "base_uri": "https://localhost:8080/"
        },
        "id": "fYw0qfOLZHCF",
        "outputId": "4cfdcb8d-9699-4e85-ccea-4089202be77a"
      },
      "source": [
        "a=14\r\n",
        "b=3\r\n",
        "print(\"몫: \",a//b)\r\n",
        "print(\"나머지: \",a%b)"
      ],
      "execution_count": 20,
      "outputs": [
        {
          "output_type": "stream",
          "text": [
            "몫:  4\n",
            "나머지:  2\n"
          ],
          "name": "stdout"
        }
      ]
    },
    {
      "cell_type": "code",
      "metadata": {
        "id": "OhD4gpGUZXTA"
      },
      "source": [
        ""
      ],
      "execution_count": null,
      "outputs": []
    }
  ]
}