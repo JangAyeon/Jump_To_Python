{
  "nbformat": 4,
  "nbformat_minor": 0,
  "metadata": {
    "colab": {
      "name": "[4-1]함수.ipynb",
      "provenance": []
    },
    "kernelspec": {
      "name": "python3",
      "display_name": "Python 3"
    }
  },
  "cells": [
    {
      "cell_type": "markdown",
      "metadata": {
        "id": "rb80vMlgKrpa"
      },
      "source": [
        "#함수의 구조\r\n",
        "\r\n",
        "```\r\n",
        "def 함수 이름 (매개변수):\r\n",
        "  수행문자1\r\n",
        "  ,\r\n",
        "  ,\r\n",
        "  return 결과값\r\n",
        "```\r\n",
        "\r\n"
      ]
    },
    {
      "cell_type": "markdown",
      "metadata": {
        "id": "7WitAKE0LTrF"
      },
      "source": [
        "\r\n",
        "\r\n",
        "**일반적인 함수** <br>\r\n",
        "*  매개변수 : 함수에 입력으로 전달된 값을 받는 변수\r\n",
        "*  인수 : 함수를 호출할 때 전달하는 입력값<br><br>Add 함수 : 입력은 2개의 값, 결과값은 2개의 입력값을 더한 값\r\n",
        "\r\n",
        "\r\n",
        "\r\n"
      ]
    },
    {
      "cell_type": "code",
      "metadata": {
        "colab": {
          "base_uri": "https://localhost:8080/"
        },
        "id": "9CvXX4_9KoA5",
        "outputId": "9e20b0be-30c3-4a33-836f-aa918328168b"
      },
      "source": [
        "def Add(a,b): # a,b : 매개변수\r\n",
        "  return a+b \r\n",
        "\r\n",
        "\r\n",
        "a=3\r\n",
        "b=4\r\n",
        "c=Add(a,b) # 3,4 : 인수\r\n",
        "print(c)"
      ],
      "execution_count": 2,
      "outputs": [
        {
          "output_type": "stream",
          "text": [
            "7\n"
          ],
          "name": "stdout"
        }
      ]
    },
    {
      "cell_type": "markdown",
      "metadata": {
        "id": "ZW6xjF8kO57H"
      },
      "source": [
        "**입력값이 없는 함수**"
      ]
    },
    {
      "cell_type": "code",
      "metadata": {
        "colab": {
          "base_uri": "https://localhost:8080/"
        },
        "id": "aLCc4PJMKra5",
        "outputId": "9322744f-f4b8-49d3-a189-f6b14a49d82c"
      },
      "source": [
        "def say():\r\n",
        "  return \"hi\"\r\n",
        "\r\n",
        "a=say()\r\n",
        "print(a)"
      ],
      "execution_count": 3,
      "outputs": [
        {
          "output_type": "stream",
          "text": [
            "hi\n"
          ],
          "name": "stdout"
        }
      ]
    },
    {
      "cell_type": "markdown",
      "metadata": {
        "id": "swM6gst4PIiG"
      },
      "source": [
        "**결과값이 없는 함수**"
      ]
    },
    {
      "cell_type": "code",
      "metadata": {
        "colab": {
          "base_uri": "https://localhost:8080/"
        },
        "id": "LAN5p-jnPHEM",
        "outputId": "bcf89f20-0099-4b3b-e8e3-5eb3905c0932"
      },
      "source": [
        "def add(a,b):\r\n",
        "  print(\"%d와 %d의 합은 %d입니다.\"%(a,b,a+b))\r\n",
        "\r\n",
        "add(3,4)\r\n",
        "\r\n",
        "a=add(3,4) #반환값이 없음 a=None\r\n",
        "print(a)"
      ],
      "execution_count": 6,
      "outputs": [
        {
          "output_type": "stream",
          "text": [
            "3와 4의 합은 7입니다.\n",
            "3와 4의 합은 7입니다.\n",
            "None\n"
          ],
          "name": "stdout"
        }
      ]
    },
    {
      "cell_type": "markdown",
      "metadata": {
        "id": "ERz0Je9LQVpk"
      },
      "source": [
        "**입력도 결과값도 없는 함수**"
      ]
    },
    {
      "cell_type": "code",
      "metadata": {
        "colab": {
          "base_uri": "https://localhost:8080/"
        },
        "id": "DT7uokQyPWar",
        "outputId": "8cc3affc-f636-4f63-d639-0897448d7f87"
      },
      "source": [
        "def say():\r\n",
        "  print(\"hi\")\r\n",
        "\r\n",
        "say()"
      ],
      "execution_count": 8,
      "outputs": [
        {
          "output_type": "stream",
          "text": [
            "hi\n"
          ],
          "name": "stdout"
        }
      ]
    },
    {
      "cell_type": "markdown",
      "metadata": {
        "id": "GJmmN5OjTd_0"
      },
      "source": [
        "**매개변수 지정하여 함수 호출**<br>\r\n",
        "순서에 상관없이 사용할 수 있음"
      ]
    },
    {
      "cell_type": "code",
      "metadata": {
        "colab": {
          "base_uri": "https://localhost:8080/"
        },
        "id": "fRS-9BqOQcia",
        "outputId": "12c5b339-f5d3-4f13-ff95-059d59217e06"
      },
      "source": [
        "def add(a,b):\r\n",
        "  return a+b\r\n",
        "\r\n",
        "result1=add(a=3,b=4)\r\n",
        "print(result1)\r\n",
        "\r\n",
        "result2=add(b=3,a=4) #순서 상관없음\r\n",
        "print(result2)"
      ],
      "execution_count": 9,
      "outputs": [
        {
          "output_type": "stream",
          "text": [
            "7\n",
            "7\n"
          ],
          "name": "stdout"
        }
      ]
    },
    {
      "cell_type": "markdown",
      "metadata": {
        "id": "tq_u2etHVBRq"
      },
      "source": [
        "**여러 개의 입력값을 받는 함수**"
      ]
    },
    {
      "cell_type": "code",
      "metadata": {
        "colab": {
          "base_uri": "https://localhost:8080/"
        },
        "id": "bVm3qsjDT2SS",
        "outputId": "76e1b89e-6d08-46e0-c31c-1cae056fb7f4"
      },
      "source": [
        "def add_many(*arg):\r\n",
        "  result=0\r\n",
        "  for i in arg:\r\n",
        "    result+=i\r\n",
        "  return result\r\n",
        "\r\n",
        "a=add_many(1,2,3,4,5)\r\n",
        "print(a)\r\n",
        "\r\n",
        "b=add_many(1,2,3)\r\n",
        "print(b)"
      ],
      "execution_count": 18,
      "outputs": [
        {
          "output_type": "stream",
          "text": [
            "15\n",
            "6\n"
          ],
          "name": "stdout"
        }
      ]
    },
    {
      "cell_type": "code",
      "metadata": {
        "colab": {
          "base_uri": "https://localhost:8080/"
        },
        "id": "PoatdribVOMW",
        "outputId": "db2c45b2-034f-4f50-bd45-1fcd6b2f7409"
      },
      "source": [
        "def cal(choice,*args):\r\n",
        "  if choice==\"add\":\r\n",
        "    result=0\r\n",
        "    for i in args:\r\n",
        "      result+=i\r\n",
        "  elif choice==\"mul\":\r\n",
        "    result=1\r\n",
        "    for i in args:\r\n",
        "      result*=i\r\n",
        "  return result\r\n",
        "\r\n",
        "\r\n",
        "result1=cal(\"add\",1,2,3)\r\n",
        "print(result1)\r\n",
        "result2=cal(\"mul\",1,2,3,4)\r\n",
        "print(result2)"
      ],
      "execution_count": 24,
      "outputs": [
        {
          "output_type": "stream",
          "text": [
            "6\n",
            "24\n"
          ],
          "name": "stdout"
        }
      ]
    },
    {
      "cell_type": "markdown",
      "metadata": {
        "id": "anaSkE2ub5nj"
      },
      "source": [
        "**키워드 파라미터**<br> : 매개변수 앞에 **붙이면 해당 매개변수는 딕셔너리가 되고 key=value 형태의 결과값이 딕셔너리에 저장됨"
      ]
    },
    {
      "cell_type": "code",
      "metadata": {
        "colab": {
          "base_uri": "https://localhost:8080/"
        },
        "id": "itYT4ADbbYDG",
        "outputId": "5bf9c420-97cc-422b-8db4-9776f72bd063"
      },
      "source": [
        "def print_kwargs(**kwargs):\r\n",
        "  print(kwargs)\r\n",
        "\r\n",
        "print_kwargs(a=1,name='foo')"
      ],
      "execution_count": 25,
      "outputs": [
        {
          "output_type": "stream",
          "text": [
            "{'a': 1, 'name': 'foo'}\n"
          ],
          "name": "stdout"
        }
      ]
    },
    {
      "cell_type": "markdown",
      "metadata": {
        "id": "QxI5AdGAc5Dc"
      },
      "source": [
        "**반환값은 오직 하나**"
      ]
    },
    {
      "cell_type": "code",
      "metadata": {
        "colab": {
          "base_uri": "https://localhost:8080/"
        },
        "id": "dmvJPawwcyg7",
        "outputId": "82a0d09c-93de-4ed5-900e-67af790f964e"
      },
      "source": [
        "def add_and_mul(a,b):\r\n",
        "  return a+b,a*b\r\n",
        "\r\n",
        "result=add_and_mul(3,4)\r\n",
        "print(result)\r\n",
        "\r\n",
        "result1,result2=add_and_mul(3,4)\r\n",
        "print(result1,result2)"
      ],
      "execution_count": 27,
      "outputs": [
        {
          "output_type": "stream",
          "text": [
            "(7, 12)\n",
            "7 12\n"
          ],
          "name": "stdout"
        }
      ]
    },
    {
      "cell_type": "code",
      "metadata": {
        "colab": {
          "base_uri": "https://localhost:8080/"
        },
        "id": "62KXttg2dHFV",
        "outputId": "fc92d43f-7dfc-4ea9-aaad-6d3027a74b3b"
      },
      "source": [
        "def add_and_mul(a,b):\r\n",
        "  return a+b\r\n",
        "  return a*b\r\n",
        "\r\n",
        "result=add_and_mul(3,4)\r\n",
        "print(result) #return a+b만 실행됨\r\n",
        "\r\n",
        "#return문 만나는 순간 결과값을 돌려준 다음 함수를 빠져나감"
      ],
      "execution_count": 28,
      "outputs": [
        {
          "output_type": "stream",
          "text": [
            "7\n"
          ],
          "name": "stdout"
        }
      ]
    },
    {
      "cell_type": "markdown",
      "metadata": {
        "id": "qqTlcQ-EemTT"
      },
      "source": [
        "**return 이용해 함수 바로 빠져나오기**"
      ]
    },
    {
      "cell_type": "code",
      "metadata": {
        "colab": {
          "base_uri": "https://localhost:8080/"
        },
        "id": "gzBzWudpdUAv",
        "outputId": "98c615db-e49b-43d0-bfcf-594255399b2c"
      },
      "source": [
        "def say_nick(nick):\r\n",
        "  if nick=='바보':\r\n",
        "    return\r\n",
        "  print(\"나의 별명은 %s입니다.\"%nick)\r\n",
        "\r\n",
        "say_nick(\"Zn\")\r\n",
        "say_nick(\"바보\")"
      ],
      "execution_count": 29,
      "outputs": [
        {
          "output_type": "stream",
          "text": [
            "나의 별명은 Zn입니다.\n"
          ],
          "name": "stdout"
        }
      ]
    },
    {
      "cell_type": "markdown",
      "metadata": {
        "id": "vqqI_7I_hUFn"
      },
      "source": [
        "**매개변수에 초기값 미리 설정**<br>\r\n",
        "따로 인수로 입력되면 그걸 더 우선함"
      ]
    },
    {
      "cell_type": "code",
      "metadata": {
        "id": "5QRBofPCe7-T"
      },
      "source": [
        "def say_myself(name,old,man=True):\r\n",
        "  print(\"이름: %s\"%(name))\r\n",
        "  print(\"나이: %d\"%(old))\r\n",
        "  if man:\r\n",
        "    print(\"남자\")\r\n",
        "  else:\r\n",
        "    print(\"여자\")"
      ],
      "execution_count": 30,
      "outputs": []
    },
    {
      "cell_type": "code",
      "metadata": {
        "colab": {
          "base_uri": "https://localhost:8080/"
        },
        "id": "ujGv6lYRhxek",
        "outputId": "7fd19895-348c-4135-dd6f-e6335df5c34f"
      },
      "source": [
        "say_myself(\"아연\",20)\r\n",
        "say_myself(\"아연\",20,True) #인수가 여러 개인 경우, 매개변수 순서에 맞춰서 전달\r\n",
        "say_myself(\"아연\",20,False)\r\n"
      ],
      "execution_count": 31,
      "outputs": [
        {
          "output_type": "stream",
          "text": [
            "이름: 아연\n",
            "나이: 20\n",
            "남자\n",
            "이름: 아연\n",
            "나이: 20\n",
            "남자\n",
            "이름: 아연\n",
            "나이: 20\n",
            "여자\n"
          ],
          "name": "stdout"
        }
      ]
    },
    {
      "cell_type": "markdown",
      "metadata": {
        "id": "3MG0UQ0qi5HU"
      },
      "source": [
        "**함수 안에서 선언한 변수의 효력 범위**<br>\r\n",
        "\r\n",
        "\r\n",
        " 함수 안에서 선언하면 해당 함수 안에서만 효력 가짐\r\n",
        "\r\n",
        "*   return 사용\r\n",
        "*  global 명령어 사용\r\n",
        "\r\n",
        "\r\n"
      ]
    },
    {
      "cell_type": "code",
      "metadata": {
        "colab": {
          "base_uri": "https://localhost:8080/"
        },
        "id": "eQiWTjJtiBct",
        "outputId": "0368e1d9-cb50-4671-932e-e40a5f4368ff"
      },
      "source": [
        "a=1\r\n",
        "def vartest(a):\r\n",
        "  a+=1\r\n",
        "\r\n",
        "\r\n",
        "vartest(a)\r\n",
        "print(a)"
      ],
      "execution_count": 35,
      "outputs": [
        {
          "output_type": "stream",
          "text": [
            "1\n"
          ],
          "name": "stdout"
        }
      ]
    },
    {
      "cell_type": "code",
      "metadata": {
        "colab": {
          "base_uri": "https://localhost:8080/"
        },
        "id": "6CVktcy-iHP2",
        "outputId": "1fcbebe7-0fbf-4078-d3e5-ea3adf616ff4"
      },
      "source": [
        "a=1\r\n",
        "def vartest(a):\r\n",
        "  a+=1\r\n",
        "  return a\r\n",
        "\r\n",
        "a=vartest(a)\r\n",
        "print(a)"
      ],
      "execution_count": 34,
      "outputs": [
        {
          "output_type": "stream",
          "text": [
            "2\n"
          ],
          "name": "stdout"
        }
      ]
    },
    {
      "cell_type": "code",
      "metadata": {
        "colab": {
          "base_uri": "https://localhost:8080/"
        },
        "id": "ZKbslwNJlT_5",
        "outputId": "045a929e-7a20-44fa-c49d-1febdd06cc4b"
      },
      "source": [
        "a=1\r\n",
        "def vartest():\r\n",
        "  global a\r\n",
        "  a+=1\r\n",
        "\r\n",
        "vartest()\r\n",
        "print(a)"
      ],
      "execution_count": 36,
      "outputs": [
        {
          "output_type": "stream",
          "text": [
            "2\n"
          ],
          "name": "stdout"
        }
      ]
    },
    {
      "cell_type": "markdown",
      "metadata": {
        "id": "5EkJ625MmeGM"
      },
      "source": [
        "**lambda 매개변수 : 매개변수 사용 표현식**"
      ]
    },
    {
      "cell_type": "code",
      "metadata": {
        "colab": {
          "base_uri": "https://localhost:8080/"
        },
        "id": "7sfU7jaUmUDL",
        "outputId": "98218e45-09bc-40f2-aeed-352fd90c2048"
      },
      "source": [
        "add=lambda a,b:a+b\r\n",
        "result=add(3,4)\r\n",
        "print(result)"
      ],
      "execution_count": 37,
      "outputs": [
        {
          "output_type": "stream",
          "text": [
            "7\n"
          ],
          "name": "stdout"
        }
      ]
    },
    {
      "cell_type": "code",
      "metadata": {
        "id": "L009Fs-TmrTN"
      },
      "source": [
        ""
      ],
      "execution_count": null,
      "outputs": []
    }
  ]
}