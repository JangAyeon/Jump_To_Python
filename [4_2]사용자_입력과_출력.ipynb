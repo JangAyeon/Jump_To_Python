{
  "nbformat": 4,
  "nbformat_minor": 0,
  "metadata": {
    "colab": {
      "name": "[4-2]사용자 입력과 출력.ipynb",
      "provenance": []
    },
    "kernelspec": {
      "name": "python3",
      "display_name": "Python 3"
    }
  },
  "cells": [
    {
      "cell_type": "markdown",
      "metadata": {
        "id": "IZVpbtQbnkTh"
      },
      "source": [
        "**input()**"
      ]
    },
    {
      "cell_type": "code",
      "metadata": {
        "colab": {
          "base_uri": "https://localhost:8080/",
          "height": 52
        },
        "id": "wsRbKIuqnaOu",
        "outputId": "83a15bf8-f74d-4e94-fab0-b0f72de4a8a6"
      },
      "source": [
        "a=input()\r\n",
        "\r\n",
        "a"
      ],
      "execution_count": 2,
      "outputs": [
        {
          "output_type": "stream",
          "text": [
            "study python\n"
          ],
          "name": "stdout"
        },
        {
          "output_type": "execute_result",
          "data": {
            "application/vnd.google.colaboratory.intrinsic+json": {
              "type": "string"
            },
            "text/plain": [
              "'study python'"
            ]
          },
          "metadata": {
            "tags": []
          },
          "execution_count": 2
        }
      ]
    },
    {
      "cell_type": "code",
      "metadata": {
        "colab": {
          "base_uri": "https://localhost:8080/"
        },
        "id": "ql42vuKmnxcR",
        "outputId": "aba54717-02c2-4435-84af-c4cdcfd6a569"
      },
      "source": [
        "num=input(\"숫자를 입력하시오: \")\r\n",
        "print(num)"
      ],
      "execution_count": 3,
      "outputs": [
        {
          "output_type": "stream",
          "text": [
            "숫자를 입력하시오: 3\n",
            "3\n"
          ],
          "name": "stdout"
        }
      ]
    },
    {
      "cell_type": "markdown",
      "metadata": {
        "id": "aSADAcwmnneH"
      },
      "source": [
        "**print()**<br>\r\n",
        "\r\n",
        "\r\n",
        "*   문자열 상수 덧셈 연산 + 생략 가능\r\n",
        "*   , :  문자열 띄어쓰기\r\n",
        "\r\n",
        "*   end=' ' : 한 줄에 결과값 출력하기\r\n",
        "\r\n",
        "\r\n",
        "\r\n",
        "\r\n"
      ]
    },
    {
      "cell_type": "code",
      "metadata": {
        "colab": {
          "base_uri": "https://localhost:8080/"
        },
        "id": "HyGfsMoGno1o",
        "outputId": "8744530b-a302-48b1-8286-8c25bb4d9994"
      },
      "source": [
        "a=123\r\n",
        "print(a)\r\n",
        "a=\"python\"\r\n",
        "print(a)\r\n",
        "a=[1,2,3]\r\n",
        "print(a)"
      ],
      "execution_count": 4,
      "outputs": [
        {
          "output_type": "stream",
          "text": [
            "123\n"
          ],
          "name": "stdout"
        }
      ]
    },
    {
      "cell_type": "code",
      "metadata": {
        "colab": {
          "base_uri": "https://localhost:8080/"
        },
        "id": "e8BbClvYn8YS",
        "outputId": "0fe00701-8919-4f47-a5b8-9a4b83b073cd"
      },
      "source": [
        "print(\"study\"\"python\")\r\n",
        "print(\"study\",'python')"
      ],
      "execution_count": 7,
      "outputs": [
        {
          "output_type": "stream",
          "text": [
            "studypython\n",
            "study python\n"
          ],
          "name": "stdout"
        }
      ]
    },
    {
      "cell_type": "code",
      "metadata": {
        "colab": {
          "base_uri": "https://localhost:8080/"
        },
        "id": "0Qoo0V0Nn_ta",
        "outputId": "8460b54e-a191-45ad-f60c-572ff5760b2f"
      },
      "source": [
        "for i in range(10):\r\n",
        "  print(i, end=' ')"
      ],
      "execution_count": 8,
      "outputs": [
        {
          "output_type": "stream",
          "text": [
            "0 1 2 3 4 5 6 7 8 9 "
          ],
          "name": "stdout"
        }
      ]
    },
    {
      "cell_type": "code",
      "metadata": {
        "id": "55Q1GQTXpEUG"
      },
      "source": [
        ""
      ],
      "execution_count": null,
      "outputs": []
    }
  ]
}