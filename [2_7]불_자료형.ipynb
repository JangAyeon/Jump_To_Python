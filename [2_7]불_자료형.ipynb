{
  "nbformat": 4,
  "nbformat_minor": 0,
  "metadata": {
    "colab": {
      "name": "[2-7]불 자료형.ipynb",
      "provenance": []
    },
    "kernelspec": {
      "name": "python3",
      "display_name": "Python 3"
    }
  },
  "cells": [
    {
      "cell_type": "markdown",
      "metadata": {
        "id": "inFFRWT35hw-"
      },
      "source": [
        "**True와 False를 나타내는 자료형**"
      ]
    },
    {
      "cell_type": "code",
      "metadata": {
        "colab": {
          "base_uri": "https://localhost:8080/"
        },
        "id": "lWidbR7h5cus",
        "outputId": "28a114cf-9ece-412c-bb18-4ac4de6a712e"
      },
      "source": [
        "a=True\r\n",
        "type(a)"
      ],
      "execution_count": 1,
      "outputs": [
        {
          "output_type": "execute_result",
          "data": {
            "text/plain": [
              "bool"
            ]
          },
          "metadata": {
            "tags": []
          },
          "execution_count": 1
        }
      ]
    },
    {
      "cell_type": "code",
      "metadata": {
        "colab": {
          "base_uri": "https://localhost:8080/"
        },
        "id": "O2zdLFgA5pd4",
        "outputId": "e68b60e2-c02d-48a1-9c75-1721bb11ee82"
      },
      "source": [
        "b=False\r\n",
        "type(b)"
      ],
      "execution_count": 2,
      "outputs": [
        {
          "output_type": "execute_result",
          "data": {
            "text/plain": [
              "bool"
            ]
          },
          "metadata": {
            "tags": []
          },
          "execution_count": 2
        }
      ]
    },
    {
      "cell_type": "code",
      "metadata": {
        "colab": {
          "base_uri": "https://localhost:8080/"
        },
        "id": "Tqz8abEO5sGQ",
        "outputId": "0f6917cb-e0c4-487b-cffa-e8c3ff59c79a"
      },
      "source": [
        "1==1"
      ],
      "execution_count": 3,
      "outputs": [
        {
          "output_type": "execute_result",
          "data": {
            "text/plain": [
              "True"
            ]
          },
          "metadata": {
            "tags": []
          },
          "execution_count": 3
        }
      ]
    },
    {
      "cell_type": "code",
      "metadata": {
        "colab": {
          "base_uri": "https://localhost:8080/"
        },
        "id": "OAoOGV3L5uFr",
        "outputId": "43963a6a-b034-407b-bcd6-0c670331b332"
      },
      "source": [
        "2>1"
      ],
      "execution_count": 5,
      "outputs": [
        {
          "output_type": "execute_result",
          "data": {
            "text/plain": [
              "True"
            ]
          },
          "metadata": {
            "tags": []
          },
          "execution_count": 5
        }
      ]
    },
    {
      "cell_type": "code",
      "metadata": {
        "colab": {
          "base_uri": "https://localhost:8080/"
        },
        "id": "RZZ_gcB45umv",
        "outputId": "4cb70459-cab8-4298-ba6e-de202e42babc"
      },
      "source": [
        "2<1"
      ],
      "execution_count": 6,
      "outputs": [
        {
          "output_type": "execute_result",
          "data": {
            "text/plain": [
              "False"
            ]
          },
          "metadata": {
            "tags": []
          },
          "execution_count": 6
        }
      ]
    },
    {
      "cell_type": "markdown",
      "metadata": {
        "id": "JGeOQwWK523K"
      },
      "source": [
        "False : 비어 있는 문자열, 리스트, 튜플, 딕셔너리, 숫자 0"
      ]
    },
    {
      "cell_type": "code",
      "metadata": {
        "colab": {
          "base_uri": "https://localhost:8080/"
        },
        "id": "APtmkHJq5xEC",
        "outputId": "1a868655-1d4f-4f9f-b79c-0489bebf2610"
      },
      "source": [
        "a=[1,2,3,4]\r\n",
        "while a:\r\n",
        "  print(a.pop())"
      ],
      "execution_count": 9,
      "outputs": [
        {
          "output_type": "stream",
          "text": [
            "4\n",
            "3\n",
            "2\n",
            "1\n"
          ],
          "name": "stdout"
        }
      ]
    },
    {
      "cell_type": "code",
      "metadata": {
        "colab": {
          "base_uri": "https://localhost:8080/"
        },
        "id": "iAWwFk6v6BNX",
        "outputId": "69c45b4e-d1a4-4503-c7cd-6be0a1c26ebd"
      },
      "source": [
        "if []: # 빈 리스트 -> 거짓\r\n",
        "  print(\"참\")\r\n",
        "else:\r\n",
        "  print(\"거짓\")"
      ],
      "execution_count": 8,
      "outputs": [
        {
          "output_type": "stream",
          "text": [
            "거짓\n"
          ],
          "name": "stdout"
        }
      ]
    },
    {
      "cell_type": "code",
      "metadata": {
        "colab": {
          "base_uri": "https://localhost:8080/"
        },
        "id": "e8DSjhAI6Kaa",
        "outputId": "81ceaf9e-9bc2-4601-8787-aca37de83eb4"
      },
      "source": [
        "if [1,2,3]: # 빈 리스트 아님 -> 참\r\n",
        "  print(\"참\")\r\n",
        "else:\r\n",
        "  print(\"거짓\")"
      ],
      "execution_count": 10,
      "outputs": [
        {
          "output_type": "stream",
          "text": [
            "참\n"
          ],
          "name": "stdout"
        }
      ]
    },
    {
      "cell_type": "markdown",
      "metadata": {
        "id": "VIgZMrYh6ZXE"
      },
      "source": [
        "**bool 연산자를 이용해 True와 False 식별**"
      ]
    },
    {
      "cell_type": "code",
      "metadata": {
        "colab": {
          "base_uri": "https://localhost:8080/"
        },
        "id": "WFCU2rbL6XJ3",
        "outputId": "e2619869-2273-46a9-cb14-ae71c17630d7"
      },
      "source": [
        "bool(\"python\")"
      ],
      "execution_count": 11,
      "outputs": [
        {
          "output_type": "execute_result",
          "data": {
            "text/plain": [
              "True"
            ]
          },
          "metadata": {
            "tags": []
          },
          "execution_count": 11
        }
      ]
    },
    {
      "cell_type": "code",
      "metadata": {
        "colab": {
          "base_uri": "https://localhost:8080/"
        },
        "id": "AwslTDAz6giJ",
        "outputId": "dab01c29-5c38-4b8f-8f18-120d6ed47f3d"
      },
      "source": [
        "bool(\"\")"
      ],
      "execution_count": 12,
      "outputs": [
        {
          "output_type": "execute_result",
          "data": {
            "text/plain": [
              "False"
            ]
          },
          "metadata": {
            "tags": []
          },
          "execution_count": 12
        }
      ]
    },
    {
      "cell_type": "code",
      "metadata": {
        "colab": {
          "base_uri": "https://localhost:8080/"
        },
        "id": "mXjnhT676h8B",
        "outputId": "82f41006-c84a-4feb-de38-1beab3c08dbd"
      },
      "source": [
        "bool([1,2,3])"
      ],
      "execution_count": 13,
      "outputs": [
        {
          "output_type": "execute_result",
          "data": {
            "text/plain": [
              "True"
            ]
          },
          "metadata": {
            "tags": []
          },
          "execution_count": 13
        }
      ]
    },
    {
      "cell_type": "code",
      "metadata": {
        "colab": {
          "base_uri": "https://localhost:8080/"
        },
        "id": "w63DPD8c6kNQ",
        "outputId": "abc38826-249c-492d-bc2b-3dca1cd83cc3"
      },
      "source": [
        "bool([])"
      ],
      "execution_count": 14,
      "outputs": [
        {
          "output_type": "execute_result",
          "data": {
            "text/plain": [
              "False"
            ]
          },
          "metadata": {
            "tags": []
          },
          "execution_count": 14
        }
      ]
    },
    {
      "cell_type": "code",
      "metadata": {
        "colab": {
          "base_uri": "https://localhost:8080/"
        },
        "id": "V7UrIkau6lzh",
        "outputId": "4535a322-912f-4364-9b5e-db0a0edc4b49"
      },
      "source": [
        "bool(3)"
      ],
      "execution_count": 15,
      "outputs": [
        {
          "output_type": "execute_result",
          "data": {
            "text/plain": [
              "True"
            ]
          },
          "metadata": {
            "tags": []
          },
          "execution_count": 15
        }
      ]
    },
    {
      "cell_type": "code",
      "metadata": {
        "id": "kvkWVUfn6oJn"
      },
      "source": [
        ""
      ],
      "execution_count": null,
      "outputs": []
    }
  ]
}