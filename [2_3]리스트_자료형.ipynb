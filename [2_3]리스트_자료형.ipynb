{
  "nbformat": 4,
  "nbformat_minor": 0,
  "metadata": {
    "colab": {
      "name": "[2-3]리스트 자료형.ipynb",
      "provenance": [],
      "collapsed_sections": [],
      "toc_visible": true
    },
    "kernelspec": {
      "name": "python3",
      "display_name": "Python 3"
    }
  },
  "cells": [
    {
      "cell_type": "markdown",
      "metadata": {
        "id": "xbE_8EuE9o9G"
      },
      "source": [
        "##[2-3]리스트 자료형"
      ]
    },
    {
      "cell_type": "markdown",
      "metadata": {
        "id": "7wmXmmTO9vXr"
      },
      "source": [
        "**리스트 생성**"
      ]
    },
    {
      "cell_type": "code",
      "metadata": {
        "id": "HxQLxfdq9mwf"
      },
      "source": [
        "a=[]\r\n",
        "A=list() #list()로 빈 리스트 생성\r\n",
        "b=[1,2,3]\r\n",
        "c=['life','is','too','short']\r\n",
        "d=[1,2,'life','is']\r\n",
        "e=[1,2,['Life','is']]"
      ],
      "execution_count": null,
      "outputs": []
    },
    {
      "cell_type": "markdown",
      "metadata": {
        "id": "dBB9wAjr-MV2"
      },
      "source": [
        "**리스트 인덱싱**<br>\r\n",
        "\r\n",
        "\r\n",
        "*   1차원 리스트\r\n",
        "*   이중 리스트\r\n",
        "*   삼중 리스트\r\n",
        "\r\n",
        "\r\n",
        "\r\n",
        "\r\n"
      ]
    },
    {
      "cell_type": "code",
      "metadata": {
        "colab": {
          "base_uri": "https://localhost:8080/"
        },
        "id": "BnxL_eS6-G5t",
        "outputId": "956c178c-7f85-48d5-dfb4-625b8b8f3f7f"
      },
      "source": [
        "a=[1,2,3]\r\n",
        "print(\"a: \",a)\r\n",
        "print(\"a[0]: \" ,a[0]) #zero indexing : index of first element is 0\r\n",
        "print(\"a[1]: \",a[1])\r\n",
        "print(\"a[2]: \",a[2])\r\n",
        "print(\"a[0]+a[2]: \",a[0]+a[2]) #1+3\r\n",
        "print(\"a[-1]: \",a[-1]) #last element of list a"
      ],
      "execution_count": null,
      "outputs": [
        {
          "output_type": "stream",
          "text": [
            "a:  [1, 2, 3]\n",
            "a[0]:  1\n",
            "a[1]:  2\n",
            "a[2]:  3\n",
            "a[0]+a[2]:  4\n",
            "a[-1]:  3\n"
          ],
          "name": "stdout"
        }
      ]
    },
    {
      "cell_type": "code",
      "metadata": {
        "colab": {
          "base_uri": "https://localhost:8080/"
        },
        "id": "oV_rVzho-nmG",
        "outputId": "4e18f468-3f44-44c7-a1e8-09c1f860e4df"
      },
      "source": [
        "a=[1,2,3,['a','b','c']]\r\n",
        "print(\"a[0]: \",a[0])\r\n",
        "print(\"a[-1]: \",a[-1])\r\n",
        "print(\"a[-3]: \",a[-3])\r\n",
        "print(\"a[-1][0]: \",a[-1][0])\r\n",
        "print(\"a[-1][1]: \",a[-1][1])\r\n",
        "print(\"a[-1][2]: \",a[-1][2])"
      ],
      "execution_count": null,
      "outputs": [
        {
          "output_type": "stream",
          "text": [
            "a[0]:  1\n",
            "a[-1]:  ['a', 'b', 'c']\n",
            "a[-3]:  2\n",
            "a[-1][0]:  a\n",
            "a[-1][1]:  b\n",
            "a[-1][2]:  c\n"
          ],
          "name": "stdout"
        }
      ]
    },
    {
      "cell_type": "code",
      "metadata": {
        "colab": {
          "base_uri": "https://localhost:8080/"
        },
        "id": "r6EWp0-A_iSC",
        "outputId": "b522026a-22a6-4d0a-8dcd-9cdaccd9063a"
      },
      "source": [
        "a=[1,2,['a','b',['Life','is']]]\r\n",
        "print(\"a[2][2][1]: \",a[2][2][0])"
      ],
      "execution_count": null,
      "outputs": [
        {
          "output_type": "stream",
          "text": [
            "a[2][2][1]:  Life\n"
          ],
          "name": "stdout"
        }
      ]
    },
    {
      "cell_type": "markdown",
      "metadata": {
        "id": "8dOWoIEMA0GV"
      },
      "source": [
        "**리스트 슬라이싱**\r\n",
        "\r\n",
        "\r\n",
        "*   : 이용\r\n",
        "*   중첩된 리스트 슬라이싱\r\n",
        "\r\n"
      ]
    },
    {
      "cell_type": "code",
      "metadata": {
        "colab": {
          "base_uri": "https://localhost:8080/"
        },
        "id": "yTKOttNW_6HH",
        "outputId": "62f5dcaa-9a38-482b-c8bd-6cbd1a8ef5c9"
      },
      "source": [
        "a=[1,2,3,4,5]\r\n",
        "a[0:2]\r\n"
      ],
      "execution_count": null,
      "outputs": [
        {
          "output_type": "execute_result",
          "data": {
            "text/plain": [
              "[1, 2]"
            ]
          },
          "metadata": {
            "tags": []
          },
          "execution_count": 20
        }
      ]
    },
    {
      "cell_type": "code",
      "metadata": {
        "colab": {
          "base_uri": "https://localhost:8080/",
          "height": 34
        },
        "id": "WDPxZyD8BGAV",
        "outputId": "a266eeb1-c32e-4554-ae04-9753916315d2"
      },
      "source": [
        "a=\"12345\"\r\n",
        "a[0:2]"
      ],
      "execution_count": null,
      "outputs": [
        {
          "output_type": "execute_result",
          "data": {
            "application/vnd.google.colaboratory.intrinsic+json": {
              "type": "string"
            },
            "text/plain": [
              "'12'"
            ]
          },
          "metadata": {
            "tags": []
          },
          "execution_count": 19
        }
      ]
    },
    {
      "cell_type": "code",
      "metadata": {
        "colab": {
          "base_uri": "https://localhost:8080/"
        },
        "id": "b2wzHuyFBcJP",
        "outputId": "f1ced86c-c416-4347-e100-512d91928385"
      },
      "source": [
        "a=[1,2,3,4,5]\r\n",
        "b=a[:2]\r\n",
        "b"
      ],
      "execution_count": null,
      "outputs": [
        {
          "output_type": "execute_result",
          "data": {
            "text/plain": [
              "[1, 2]"
            ]
          },
          "metadata": {
            "tags": []
          },
          "execution_count": 22
        }
      ]
    },
    {
      "cell_type": "code",
      "metadata": {
        "colab": {
          "base_uri": "https://localhost:8080/"
        },
        "id": "Q7MZRxyvBk1r",
        "outputId": "5cb72e19-ae80-4467-bb9e-d8118be844f6"
      },
      "source": [
        "c=a[2:]\r\n",
        "c"
      ],
      "execution_count": null,
      "outputs": [
        {
          "output_type": "execute_result",
          "data": {
            "text/plain": [
              "[3, 4, 5]"
            ]
          },
          "metadata": {
            "tags": []
          },
          "execution_count": 23
        }
      ]
    },
    {
      "cell_type": "code",
      "metadata": {
        "colab": {
          "base_uri": "https://localhost:8080/"
        },
        "id": "BPL__CSiBqM4",
        "outputId": "d815ba34-81f8-467c-91c3-ceae2f2616d8"
      },
      "source": [
        "A=[1,2,3,4,5]\r\n",
        "A[1:3]"
      ],
      "execution_count": null,
      "outputs": [
        {
          "output_type": "execute_result",
          "data": {
            "text/plain": [
              "[2, 3]"
            ]
          },
          "metadata": {
            "tags": []
          },
          "execution_count": 24
        }
      ]
    },
    {
      "cell_type": "code",
      "metadata": {
        "colab": {
          "base_uri": "https://localhost:8080/"
        },
        "id": "yF8EUi_YBxav",
        "outputId": "b4468a57-c5ca-49d8-dd5d-4411172a6c14"
      },
      "source": [
        "a=[1,2,3,['a','b','c'],4,5]\r\n",
        "a[2:5]"
      ],
      "execution_count": null,
      "outputs": [
        {
          "output_type": "execute_result",
          "data": {
            "text/plain": [
              "[3, ['a', 'b', 'c'], 4]"
            ]
          },
          "metadata": {
            "tags": []
          },
          "execution_count": 25
        }
      ]
    },
    {
      "cell_type": "code",
      "metadata": {
        "colab": {
          "base_uri": "https://localhost:8080/"
        },
        "id": "zBkN0pRlCOhQ",
        "outputId": "6a2bfe00-32bb-4636-d305-35db8e41af68"
      },
      "source": [
        "a[3][:2]"
      ],
      "execution_count": null,
      "outputs": [
        {
          "output_type": "execute_result",
          "data": {
            "text/plain": [
              "['a', 'b']"
            ]
          },
          "metadata": {
            "tags": []
          },
          "execution_count": 26
        }
      ]
    },
    {
      "cell_type": "markdown",
      "metadata": {
        "id": "ltqFG9GWCWG4"
      },
      "source": [
        "**리스트 연산**\r\n",
        "\r\n",
        "\r\n",
        "*   리스트 더하기 : +\r\n",
        "*   리스트 반복하기 : *\r\n",
        "*   리스트 길이 구하기 : len(리스트)\r\n",
        "\r\n",
        "\r\n",
        "\r\n"
      ]
    },
    {
      "cell_type": "code",
      "metadata": {
        "colab": {
          "base_uri": "https://localhost:8080/"
        },
        "id": "lYubw9vtCVe9",
        "outputId": "57fe04b7-3c66-45b2-909c-8c7619fb07c9"
      },
      "source": [
        "a=[1,2,3]\r\n",
        "b=[4,5,6]\r\n",
        "a+b"
      ],
      "execution_count": null,
      "outputs": [
        {
          "output_type": "execute_result",
          "data": {
            "text/plain": [
              "[1, 2, 3, 4, 5, 6]"
            ]
          },
          "metadata": {
            "tags": []
          },
          "execution_count": 27
        }
      ]
    },
    {
      "cell_type": "code",
      "metadata": {
        "colab": {
          "base_uri": "https://localhost:8080/"
        },
        "id": "BKEtjUcFCSyv",
        "outputId": "92460ad9-be79-46f7-e195-ef0f03d8cd8f"
      },
      "source": [
        "a=[1,2,3]\r\n",
        "3*a"
      ],
      "execution_count": null,
      "outputs": [
        {
          "output_type": "execute_result",
          "data": {
            "text/plain": [
              "[1, 2, 3, 1, 2, 3, 1, 2, 3]"
            ]
          },
          "metadata": {
            "tags": []
          },
          "execution_count": 28
        }
      ]
    },
    {
      "cell_type": "code",
      "metadata": {
        "colab": {
          "base_uri": "https://localhost:8080/"
        },
        "id": "lskAJN1dC4J1",
        "outputId": "506a4e1b-a57c-455a-f149-ae38698c9c14"
      },
      "source": [
        "a=[1,2,3]\r\n",
        "len(a)\r\n"
      ],
      "execution_count": null,
      "outputs": [
        {
          "output_type": "execute_result",
          "data": {
            "text/plain": [
              "3"
            ]
          },
          "metadata": {
            "tags": []
          },
          "execution_count": 29
        }
      ]
    },
    {
      "cell_type": "code",
      "metadata": {
        "colab": {
          "base_uri": "https://localhost:8080/",
          "height": 34
        },
        "id": "2mpsv0o4C8vP",
        "outputId": "3c0a9e68-5c8c-4cad-8cfa-e781eb1143b3"
      },
      "source": [
        "#하기 쉬운 리스트 연산 오류\r\n",
        "\r\n",
        "a=[1,2,3]\r\n",
        "#a[2]+\"hi\" -> TypeError: unsupported operand type(s) for +: 'int' and 'str' (정수와 문자열은 더할 수 없음)\r\n",
        "\r\n",
        "str(a[2])+\"hi\" #정수를 문자로 바꿔주고 더해야함"
      ],
      "execution_count": null,
      "outputs": [
        {
          "output_type": "execute_result",
          "data": {
            "application/vnd.google.colaboratory.intrinsic+json": {
              "type": "string"
            },
            "text/plain": [
              "'3hi'"
            ]
          },
          "metadata": {
            "tags": []
          },
          "execution_count": 31
        }
      ]
    },
    {
      "cell_type": "markdown",
      "metadata": {
        "id": "c_OWowbaDp6-"
      },
      "source": [
        "**리스트 수정과 삭제**\r\n",
        "\r\n",
        "\r\n",
        "\r\n",
        "*   리스트에서 값 수정\r\n",
        "*   del 함수 이용해 삭제\r\n",
        "\r\n",
        "\r\n",
        "\r\n",
        "\r\n"
      ]
    },
    {
      "cell_type": "code",
      "metadata": {
        "colab": {
          "base_uri": "https://localhost:8080/"
        },
        "id": "aCZE855iDMjh",
        "outputId": "0fd07fde-7d4e-4669-c17a-279ff0816aff"
      },
      "source": [
        "a=[1,2,3]\r\n",
        "a[2]=4\r\n",
        "a"
      ],
      "execution_count": null,
      "outputs": [
        {
          "output_type": "execute_result",
          "data": {
            "text/plain": [
              "[1, 2, 4]"
            ]
          },
          "metadata": {
            "tags": []
          },
          "execution_count": 32
        }
      ]
    },
    {
      "cell_type": "code",
      "metadata": {
        "colab": {
          "base_uri": "https://localhost:8080/"
        },
        "id": "5Erk5_ouD6oF",
        "outputId": "097c367a-6578-428a-eae4-ceb2a88ba30e"
      },
      "source": [
        "a=[1,2,3]\r\n",
        "del a[1] #해당하는 인덱스의 값 삭제\r\n",
        "a"
      ],
      "execution_count": null,
      "outputs": [
        {
          "output_type": "execute_result",
          "data": {
            "text/plain": [
              "[1, 3]"
            ]
          },
          "metadata": {
            "tags": []
          },
          "execution_count": 34
        }
      ]
    },
    {
      "cell_type": "code",
      "metadata": {
        "colab": {
          "base_uri": "https://localhost:8080/"
        },
        "id": "LO_YjEi9D-2A",
        "outputId": "0a06e4da-b7f5-4df3-e66d-73d2aa78933e"
      },
      "source": [
        "a=[1,2,3]\r\n",
        "del a[:2] #슬라이싱 기법 이용 가능\r\n",
        "a"
      ],
      "execution_count": null,
      "outputs": [
        {
          "output_type": "execute_result",
          "data": {
            "text/plain": [
              "[3]"
            ]
          },
          "metadata": {
            "tags": []
          },
          "execution_count": 35
        }
      ]
    },
    {
      "cell_type": "markdown",
      "metadata": {
        "id": "IshZPJqJEbY1"
      },
      "source": [
        "**리스트 관련 함수**\r\n",
        "\r\n",
        "\r\n",
        "*   리스트의 요소 추가\r\n",
        "*   리스트 정렬\r\n",
        "*   리스트 뒤집기\r\n",
        "*   위치 반환\r\n",
        "*   리스트에 요소 삽입\r\n",
        "*   리스트에 요소 제거\r\n",
        "*   리스트 요소 끄집어내기\r\n",
        "*   리스트에 포함된 요소 개수 세기\r\n",
        "*   리스트 확장\r\n",
        "\r\n",
        "\r\n",
        "\r\n",
        "\r\n",
        "\r\n",
        "\r\n",
        "\r\n",
        "\r\n",
        "\r\n",
        "\r\n"
      ]
    },
    {
      "cell_type": "code",
      "metadata": {
        "colab": {
          "base_uri": "https://localhost:8080/"
        },
        "id": "SoQMttXyEJYA",
        "outputId": "94bceef9-d5b3-4dd6-c062-6189c28ec092"
      },
      "source": [
        "a=[1,2,3]\r\n",
        "a.append(4)\r\n",
        "a"
      ],
      "execution_count": null,
      "outputs": [
        {
          "output_type": "execute_result",
          "data": {
            "text/plain": [
              "[1, 2, 3, 4]"
            ]
          },
          "metadata": {
            "tags": []
          },
          "execution_count": 38
        }
      ]
    },
    {
      "cell_type": "code",
      "metadata": {
        "colab": {
          "base_uri": "https://localhost:8080/"
        },
        "id": "lC6L4f0kFKO0",
        "outputId": "fc9da0de-e321-4248-908b-2ab246fea4ff"
      },
      "source": [
        "a=[1,2,3]\r\n",
        "a.append([4,5])\r\n",
        "a"
      ],
      "execution_count": null,
      "outputs": [
        {
          "output_type": "execute_result",
          "data": {
            "text/plain": [
              "[1, 2, 3, [4, 5]]"
            ]
          },
          "metadata": {
            "tags": []
          },
          "execution_count": 39
        }
      ]
    },
    {
      "cell_type": "code",
      "metadata": {
        "colab": {
          "base_uri": "https://localhost:8080/"
        },
        "id": "IQNSjxHtFRkI",
        "outputId": "dedf9924-78f8-41e1-f953-7382b8b1b2a7"
      },
      "source": [
        "a=[1,4,3,2]\r\n",
        "a.sort()\r\n",
        "a"
      ],
      "execution_count": null,
      "outputs": [
        {
          "output_type": "execute_result",
          "data": {
            "text/plain": [
              "[1, 2, 3, 4]"
            ]
          },
          "metadata": {
            "tags": []
          },
          "execution_count": 40
        }
      ]
    },
    {
      "cell_type": "code",
      "metadata": {
        "colab": {
          "base_uri": "https://localhost:8080/"
        },
        "id": "c6Rs_kWNFWd4",
        "outputId": "360a0d4b-2185-4f45-8c70-f757a948065e"
      },
      "source": [
        "a=['b','a','d','c']\r\n",
        "a.sort() #문자도 알파벳 순서로 정렬 가능\r\n",
        "a"
      ],
      "execution_count": null,
      "outputs": [
        {
          "output_type": "execute_result",
          "data": {
            "text/plain": [
              "['a', 'b', 'c', 'd']"
            ]
          },
          "metadata": {
            "tags": []
          },
          "execution_count": 42
        }
      ]
    },
    {
      "cell_type": "code",
      "metadata": {
        "colab": {
          "base_uri": "https://localhost:8080/"
        },
        "id": "q82I7wGkFd2K",
        "outputId": "e461e4d4-be35-40f0-e3eb-45f243d96e1e"
      },
      "source": [
        "a=['b','a','c']\r\n",
        "a.reverse() #원래 리스트 순서의 역순으로\r\n",
        "a"
      ],
      "execution_count": null,
      "outputs": [
        {
          "output_type": "execute_result",
          "data": {
            "text/plain": [
              "['c', 'a', 'b']"
            ]
          },
          "metadata": {
            "tags": []
          },
          "execution_count": 43
        }
      ]
    },
    {
      "cell_type": "code",
      "metadata": {
        "colab": {
          "base_uri": "https://localhost:8080/"
        },
        "id": "ItaK_4bjFpzu",
        "outputId": "683c51c1-012f-4a83-c813-fa645e442f37"
      },
      "source": [
        "a=[2,3,4]\r\n",
        "a.index(3) #해당 값이 있으면 그 값의 인덱스를 반환함\r\n"
      ],
      "execution_count": null,
      "outputs": [
        {
          "output_type": "execute_result",
          "data": {
            "text/plain": [
              "1"
            ]
          },
          "metadata": {
            "tags": []
          },
          "execution_count": 44
        }
      ]
    },
    {
      "cell_type": "code",
      "metadata": {
        "colab": {
          "base_uri": "https://localhost:8080/",
          "height": 186
        },
        "id": "-30RZaBGF3Qr",
        "outputId": "c812e1c8-7f10-4ca5-cca0-49a1ad19ad54"
      },
      "source": [
        "a=[2,3,4]\r\n",
        "a.index(1) #해당 값이 리스트에 존재하지 않아 값 오류 발생"
      ],
      "execution_count": null,
      "outputs": [
        {
          "output_type": "error",
          "ename": "ValueError",
          "evalue": "ignored",
          "traceback": [
            "\u001b[0;31m---------------------------------------------------------------------------\u001b[0m",
            "\u001b[0;31mValueError\u001b[0m                                Traceback (most recent call last)",
            "\u001b[0;32m<ipython-input-45-f48b669561ac>\u001b[0m in \u001b[0;36m<module>\u001b[0;34m()\u001b[0m\n\u001b[1;32m      1\u001b[0m \u001b[0ma\u001b[0m\u001b[0;34m=\u001b[0m\u001b[0;34m[\u001b[0m\u001b[0;36m2\u001b[0m\u001b[0;34m,\u001b[0m\u001b[0;36m3\u001b[0m\u001b[0;34m,\u001b[0m\u001b[0;36m4\u001b[0m\u001b[0;34m]\u001b[0m\u001b[0;34m\u001b[0m\u001b[0;34m\u001b[0m\u001b[0m\n\u001b[0;32m----> 2\u001b[0;31m \u001b[0ma\u001b[0m\u001b[0;34m.\u001b[0m\u001b[0mindex\u001b[0m\u001b[0;34m(\u001b[0m\u001b[0;36m1\u001b[0m\u001b[0;34m)\u001b[0m \u001b[0;31m#해당 값이 있으면 그 값의 인덱스를 반환함\u001b[0m\u001b[0;34m\u001b[0m\u001b[0;34m\u001b[0m\u001b[0m\n\u001b[0m",
            "\u001b[0;31mValueError\u001b[0m: 1 is not in list"
          ]
        }
      ]
    },
    {
      "cell_type": "code",
      "metadata": {
        "colab": {
          "base_uri": "https://localhost:8080/"
        },
        "id": "1WfGmWreF8tx",
        "outputId": "292264d5-d8a0-4e3e-b6f2-939bc963c0a5"
      },
      "source": [
        "a=[1,2,3]\r\n",
        "a.insert(0,4) #a[0]에 4 삽입\r\n",
        "a"
      ],
      "execution_count": null,
      "outputs": [
        {
          "output_type": "execute_result",
          "data": {
            "text/plain": [
              "[4, 1, 2, 3]"
            ]
          },
          "metadata": {
            "tags": []
          },
          "execution_count": 46
        }
      ]
    },
    {
      "cell_type": "code",
      "metadata": {
        "colab": {
          "base_uri": "https://localhost:8080/"
        },
        "id": "bzRuv3oEGNlz",
        "outputId": "595a83a6-6f13-4cf2-ef89-75639915941e"
      },
      "source": [
        "a=[1,2,3]\r\n",
        "a.insert(1,4) #a[1]에 4 삽입 -> 뒤로 한 칸씩 밀림\r\n",
        "a"
      ],
      "execution_count": null,
      "outputs": [
        {
          "output_type": "execute_result",
          "data": {
            "text/plain": [
              "[1, 4, 2, 3]"
            ]
          },
          "metadata": {
            "tags": []
          },
          "execution_count": 47
        }
      ]
    },
    {
      "cell_type": "code",
      "metadata": {
        "colab": {
          "base_uri": "https://localhost:8080/"
        },
        "id": "fYYDsJ_DGWdX",
        "outputId": "65f70705-fb28-4325-e627-1a04a7adff2f"
      },
      "source": [
        "a=[1,2,3,1,2,3]\r\n",
        "a.remove(3) #해당 값을 삭제함. 그 값이 여러개면 제일 앞에 있는 것만 삭제\r\n",
        "a"
      ],
      "execution_count": null,
      "outputs": [
        {
          "output_type": "execute_result",
          "data": {
            "text/plain": [
              "[1, 2, 1, 2, 3]"
            ]
          },
          "metadata": {
            "tags": []
          },
          "execution_count": 48
        }
      ]
    },
    {
      "cell_type": "code",
      "metadata": {
        "colab": {
          "base_uri": "https://localhost:8080/"
        },
        "id": "PrHVq4fWGh7h",
        "outputId": "fa30ee62-78aa-4155-d4df-130c7b6eac64"
      },
      "source": [
        "a=[1,2,3]\r\n",
        "print(\"a.pop(): \",a.pop()) #리스트에서 가장 마지막 요소 반환하고 삭제\r\n",
        "print(\"a:\",a)"
      ],
      "execution_count": null,
      "outputs": [
        {
          "output_type": "stream",
          "text": [
            "a.pop():  3\n",
            "a: [1, 2]\n"
          ],
          "name": "stdout"
        }
      ]
    },
    {
      "cell_type": "code",
      "metadata": {
        "colab": {
          "base_uri": "https://localhost:8080/"
        },
        "id": "udiAZgqLGwo6",
        "outputId": "ccab50e8-a53a-4068-d588-621994bd7b20"
      },
      "source": [
        "a=[1,2,3]\r\n",
        "print(\"a.pop(1): \",a.pop(1)) #해당 인덱스의 요소 반환하고 삭제\r\n",
        "print(\"a: \",a)"
      ],
      "execution_count": null,
      "outputs": [
        {
          "output_type": "stream",
          "text": [
            "a.pop(1):  2\n",
            "a:  [1, 3]\n"
          ],
          "name": "stdout"
        }
      ]
    },
    {
      "cell_type": "code",
      "metadata": {
        "colab": {
          "base_uri": "https://localhost:8080/"
        },
        "id": "BIUmK8g_HGVe",
        "outputId": "d3a77331-5fe4-4a1d-ea65-7a34f932ec87"
      },
      "source": [
        "a=[1,2,3,1]\r\n",
        "a.count(1)"
      ],
      "execution_count": null,
      "outputs": [
        {
          "output_type": "execute_result",
          "data": {
            "text/plain": [
              "2"
            ]
          },
          "metadata": {
            "tags": []
          },
          "execution_count": 56
        }
      ]
    },
    {
      "cell_type": "code",
      "metadata": {
        "colab": {
          "base_uri": "https://localhost:8080/"
        },
        "id": "aUD_Lrc-HVlw",
        "outputId": "ba6f4440-fa78-4ff0-9275-c5eb9c2d49c0"
      },
      "source": [
        "a=[1,2,3]\r\n",
        "a.extend([4,5])\r\n",
        "a"
      ],
      "execution_count": null,
      "outputs": [
        {
          "output_type": "execute_result",
          "data": {
            "text/plain": [
              "[1, 2, 3, 4, 5]"
            ]
          },
          "metadata": {
            "tags": []
          },
          "execution_count": 58
        }
      ]
    },
    {
      "cell_type": "code",
      "metadata": {
        "colab": {
          "base_uri": "https://localhost:8080/"
        },
        "id": "59pY-wgwHbh6",
        "outputId": "e1cc6de5-90e7-40a8-878d-37cc7b5602e6"
      },
      "source": [
        "a=[1,2,3,4,5]\r\n",
        "b=[6,7]\r\n",
        "a.extend(b)\r\n",
        "a"
      ],
      "execution_count": null,
      "outputs": [
        {
          "output_type": "execute_result",
          "data": {
            "text/plain": [
              "[1, 2, 3, 4, 5, 6, 7]"
            ]
          },
          "metadata": {
            "tags": []
          },
          "execution_count": 59
        }
      ]
    },
    {
      "cell_type": "code",
      "metadata": {
        "colab": {
          "base_uri": "https://localhost:8080/"
        },
        "id": "sQKW-hjVHii3",
        "outputId": "0b631f87-5859-4a3c-8985-ad44d30f5d96"
      },
      "source": [
        "a=[1,2,3,4,5]\r\n",
        "b=[6,7]\r\n",
        "a+=b\r\n",
        "a"
      ],
      "execution_count": null,
      "outputs": [
        {
          "output_type": "execute_result",
          "data": {
            "text/plain": [
              "[1, 2, 3, 4, 5, 6, 7]"
            ]
          },
          "metadata": {
            "tags": []
          },
          "execution_count": 60
        }
      ]
    }
  ]
}