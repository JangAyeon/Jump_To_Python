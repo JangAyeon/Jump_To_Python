{
  "nbformat": 4,
  "nbformat_minor": 0,
  "metadata": {
    "colab": {
      "name": "[3-3]for문.ipynb",
      "provenance": []
    },
    "kernelspec": {
      "name": "python3",
      "display_name": "Python 3"
    }
  },
  "cells": [
    {
      "cell_type": "markdown",
      "metadata": {
        "id": "wFUFrTyYCuiG"
      },
      "source": [
        "**for문**"
      ]
    },
    {
      "cell_type": "code",
      "metadata": {
        "colab": {
          "base_uri": "https://localhost:8080/"
        },
        "id": "dxCn9zTlCohq",
        "outputId": "28dd2f0a-0bc5-4d43-8035-5ef59009e3b4"
      },
      "source": [
        "text=['one','two','three']\r\n",
        "for i in text:\r\n",
        "  print(i)"
      ],
      "execution_count": 2,
      "outputs": [
        {
          "output_type": "stream",
          "text": [
            "one\n",
            "two\n",
            "three\n"
          ],
          "name": "stdout"
        }
      ]
    },
    {
      "cell_type": "code",
      "metadata": {
        "colab": {
          "base_uri": "https://localhost:8080/"
        },
        "id": "YnqbZ3U9DL85",
        "outputId": "5678b740-1d7e-490e-9533-3865616c80c9"
      },
      "source": [
        "num=[(1,2),(3,4),(5,6)]\r\n",
        "for (first,last) in num:\r\n",
        "  print(first+last)"
      ],
      "execution_count": 3,
      "outputs": [
        {
          "output_type": "stream",
          "text": [
            "3\n",
            "7\n",
            "11\n"
          ],
          "name": "stdout"
        }
      ]
    },
    {
      "cell_type": "code",
      "metadata": {
        "colab": {
          "base_uri": "https://localhost:8080/"
        },
        "id": "Seh79zVQDXej",
        "outputId": "f155ee93-338d-41d2-a4ec-05c7568eb4e1"
      },
      "source": [
        "#총 5명의 학생이 시험을 봄. 시험 점수가 60점을 넘으면 합격, 아닌 경우 불합격. 합격 불합격 여부를 출력\r\n",
        "\r\n",
        "lst=[90,42,70,80,40]\r\n",
        "num=0\r\n",
        "for i in lst:\r\n",
        "  num+=1\r\n",
        "  if i>60:\r\n",
        "    print(\"%d번째 학생은 %d점으로 합격\" %(num,i))\r\n",
        "  else:\r\n",
        "    print(\"%d번째 학생은 %d점으로 불합격\"%(num,i))"
      ],
      "execution_count": 5,
      "outputs": [
        {
          "output_type": "stream",
          "text": [
            "1번째 학생은 90점으로 합격\n",
            "2번째 학생은 42점으로 불합격\n",
            "3번째 학생은 70점으로 합격\n",
            "4번째 학생은 80점으로 합격\n",
            "5번째 학생은 40점으로 불합격\n"
          ],
          "name": "stdout"
        }
      ]
    },
    {
      "cell_type": "markdown",
      "metadata": {
        "id": "xbMAFkMTCy-s"
      },
      "source": [
        "**continue**"
      ]
    },
    {
      "cell_type": "code",
      "metadata": {
        "colab": {
          "base_uri": "https://localhost:8080/"
        },
        "id": "qrlWeOkVC0br",
        "outputId": "1626aa05-d36c-4f75-d997-92e4c5fa0c5f"
      },
      "source": [
        "lst=[90,42,70,80,40]\r\n",
        "num=0\r\n",
        "for i in lst:\r\n",
        "  num+=1\r\n",
        "  if i<=60:\r\n",
        "    continue\r\n",
        "  else:\r\n",
        "    print(\"%d번째 학생 %d점으로 합격\"%(num,i))"
      ],
      "execution_count": 6,
      "outputs": [
        {
          "output_type": "stream",
          "text": [
            "1번째 학생 90점으로 합격\n",
            "3번째 학생 70점으로 합격\n",
            "4번째 학생 80점으로 합격\n"
          ],
          "name": "stdout"
        }
      ]
    },
    {
      "cell_type": "markdown",
      "metadata": {
        "id": "TY9C2Fo-C03G"
      },
      "source": [
        "**range**"
      ]
    },
    {
      "cell_type": "code",
      "metadata": {
        "colab": {
          "base_uri": "https://localhost:8080/"
        },
        "id": "4A9zUzuhEmnf",
        "outputId": "0a433e0f-aa32-4134-d36b-4249d24c7aa1"
      },
      "source": [
        "a=range(10)\r\n",
        "print(a) #0 1 2 3 4 5 6 7 8 9"
      ],
      "execution_count": 7,
      "outputs": [
        {
          "output_type": "stream",
          "text": [
            "range(0, 10)\n"
          ],
          "name": "stdout"
        }
      ]
    },
    {
      "cell_type": "code",
      "metadata": {
        "colab": {
          "base_uri": "https://localhost:8080/"
        },
        "id": "sdwHHp6jC4bF",
        "outputId": "7e312499-2cee-49af-a4aa-ae2bc35fc2a8"
      },
      "source": [
        "b=range(0,11)\r\n",
        "print(b) # 0 1 2 3 4 5 6 7 8 9 10"
      ],
      "execution_count": 9,
      "outputs": [
        {
          "output_type": "stream",
          "text": [
            "range(0, 11)\n"
          ],
          "name": "stdout"
        }
      ]
    },
    {
      "cell_type": "code",
      "metadata": {
        "colab": {
          "base_uri": "https://localhost:8080/"
        },
        "id": "4sYtdaSDE1Sq",
        "outputId": "f4b34e62-a4af-452a-f836-2fc2267c534e"
      },
      "source": [
        "add=0\r\n",
        "for i in range(1,11):\r\n",
        "  add+=i\r\n",
        "\r\n",
        "print(add)"
      ],
      "execution_count": 11,
      "outputs": [
        {
          "output_type": "stream",
          "text": [
            "55\n"
          ],
          "name": "stdout"
        }
      ]
    },
    {
      "cell_type": "code",
      "metadata": {
        "colab": {
          "base_uri": "https://localhost:8080/"
        },
        "id": "YNKddzCrFHRf",
        "outputId": "314bfc8c-f53c-4042-a845-dc54735c3ee1"
      },
      "source": [
        "lst=[90,42,70,80,40]\r\n",
        "for i in range(len(lst)):\r\n",
        "  if lst[i]<=60: continue\r\n",
        "  print(\"%d번째 학생 %d점으로 합격입니다.\" %(i+1,lst[i]))"
      ],
      "execution_count": 13,
      "outputs": [
        {
          "output_type": "stream",
          "text": [
            "1번째 학생 90점으로 합격입니다.\n",
            "3번째 학생 70점으로 합격입니다.\n",
            "4번째 학생 80점으로 합격입니다.\n"
          ],
          "name": "stdout"
        }
      ]
    },
    {
      "cell_type": "code",
      "metadata": {
        "colab": {
          "base_uri": "https://localhost:8080/"
        },
        "id": "PSRrjaqmFpPX",
        "outputId": "cd91df5d-73e2-4660-ccdc-fcd2e0fb98c3"
      },
      "source": [
        "sum=0\r\n",
        "for i in range(1,101):\r\n",
        "  sum+=i\r\n",
        "\r\n",
        "print(sum)"
      ],
      "execution_count": 15,
      "outputs": [
        {
          "output_type": "stream",
          "text": [
            "5050\n"
          ],
          "name": "stdout"
        }
      ]
    },
    {
      "cell_type": "code",
      "metadata": {
        "colab": {
          "base_uri": "https://localhost:8080/"
        },
        "id": "XxPIE8KsFwjT",
        "outputId": "2be7a788-72c6-4351-ab64-532b0002fbae"
      },
      "source": [
        "for i in range(1,10):\r\n",
        "  for j in range(1,10):\r\n",
        "    print(i*j, end=\" \")\r\n",
        "  print(\" \")"
      ],
      "execution_count": 16,
      "outputs": [
        {
          "output_type": "stream",
          "text": [
            "1 2 3 4 5 6 7 8 9  \n",
            "2 4 6 8 10 12 14 16 18  \n",
            "3 6 9 12 15 18 21 24 27  \n",
            "4 8 12 16 20 24 28 32 36  \n",
            "5 10 15 20 25 30 35 40 45  \n",
            "6 12 18 24 30 36 42 48 54  \n",
            "7 14 21 28 35 42 49 56 63  \n",
            "8 16 24 32 40 48 56 64 72  \n",
            "9 18 27 36 45 54 63 72 81  \n"
          ],
          "name": "stdout"
        }
      ]
    },
    {
      "cell_type": "markdown",
      "metadata": {
        "id": "dj9QTOvyC47J"
      },
      "source": [
        "**리스트 내포**"
      ]
    },
    {
      "cell_type": "code",
      "metadata": {
        "colab": {
          "base_uri": "https://localhost:8080/"
        },
        "id": "qvuJIbNkC6zy",
        "outputId": "b003a6c1-e5c4-47d9-d346-d1421a094245"
      },
      "source": [
        "a=[1,2,3,4]\r\n",
        "result=[]\r\n",
        "for num in a:\r\n",
        "  result.append(num*3)\r\n",
        "\r\n",
        "print(result)\r\n"
      ],
      "execution_count": 17,
      "outputs": [
        {
          "output_type": "stream",
          "text": [
            "[3, 6, 9, 12]\n"
          ],
          "name": "stdout"
        }
      ]
    },
    {
      "cell_type": "markdown",
      "metadata": {
        "id": "GDdr4zhFG69P"
      },
      "source": [
        "\r\n",
        "\r\n",
        "> [표현식 for 항목 in 반복 가능 객체 if 조건]\r\n",
        "\r\n"
      ]
    },
    {
      "cell_type": "code",
      "metadata": {
        "colab": {
          "base_uri": "https://localhost:8080/"
        },
        "id": "G2LhlVpvGYr3",
        "outputId": "8064e6eb-c13a-4efe-a74c-842eac497ef4"
      },
      "source": [
        "a=[1,2,3,4]\r\n",
        "result=[num*3 for num in a]\r\n",
        "print(result)"
      ],
      "execution_count": 18,
      "outputs": [
        {
          "output_type": "stream",
          "text": [
            "[3, 6, 9, 12]\n"
          ],
          "name": "stdout"
        }
      ]
    },
    {
      "cell_type": "code",
      "metadata": {
        "colab": {
          "base_uri": "https://localhost:8080/"
        },
        "id": "xnHa4Nc6GhIn",
        "outputId": "1e9eb1f1-a5b2-4b7b-effc-67d058eb7a5a"
      },
      "source": [
        "a=[1,2,3,4]\r\n",
        "result=[num*3 for num in a if num%2==0]\r\n",
        "print(result)"
      ],
      "execution_count": 20,
      "outputs": [
        {
          "output_type": "stream",
          "text": [
            "[6, 12]\n"
          ],
          "name": "stdout"
        }
      ]
    },
    {
      "cell_type": "markdown",
      "metadata": {
        "id": "y1e3tdH1HEKP"
      },
      "source": [
        "\r\n",
        "\r\n",
        "> [표현식 for 항목1 in 반복 가능 객체 if 조건 for 항목2 in 반복 가능 객체 if 조건....\r\n",
        "]\r\n",
        "\r\n"
      ]
    },
    {
      "cell_type": "code",
      "metadata": {
        "colab": {
          "base_uri": "https://localhost:8080/"
        },
        "id": "l_svSQa-GsU2",
        "outputId": "1b9c5045-7813-43c5-e30c-a93d014a46b9"
      },
      "source": [
        "result=[x*y for x in range(1,10) for y in range(1,10)]\r\n",
        "print(result)"
      ],
      "execution_count": 21,
      "outputs": [
        {
          "output_type": "stream",
          "text": [
            "[1, 2, 3, 4, 5, 6, 7, 8, 9, 2, 4, 6, 8, 10, 12, 14, 16, 18, 3, 6, 9, 12, 15, 18, 21, 24, 27, 4, 8, 12, 16, 20, 24, 28, 32, 36, 5, 10, 15, 20, 25, 30, 35, 40, 45, 6, 12, 18, 24, 30, 36, 42, 48, 54, 7, 14, 21, 28, 35, 42, 49, 56, 63, 8, 16, 24, 32, 40, 48, 56, 64, 72, 9, 18, 27, 36, 45, 54, 63, 72, 81]\n"
          ],
          "name": "stdout"
        }
      ]
    },
    {
      "cell_type": "code",
      "metadata": {
        "id": "oiW1rOJsHZRx"
      },
      "source": [
        ""
      ],
      "execution_count": null,
      "outputs": []
    }
  ]
}