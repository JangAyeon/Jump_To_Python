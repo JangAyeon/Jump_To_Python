{
  "nbformat": 4,
  "nbformat_minor": 0,
  "metadata": {
    "colab": {
      "name": "[2-4]튜플자료형.ipynb",
      "provenance": []
    },
    "kernelspec": {
      "name": "python3",
      "display_name": "Python 3"
    }
  },
  "cells": [
    {
      "cell_type": "markdown",
      "metadata": {
        "id": "jQVTre4hJSPF"
      },
      "source": [
        "\r\n",
        "#튜플 자료형"
      ]
    },
    {
      "cell_type": "markdown",
      "metadata": {
        "id": "DOU_QtgTJBf8"
      },
      "source": [
        "**튜플과 리스트의 차이점**<br>\r\n",
        "\r\n",
        "*   리스트 : [] & 생성,삭제,수정 가능\r\n",
        "*   튜플 : () & 그 값을 바꾸기는 불가능 (추가는 가능)\r\n",
        "\r\n",
        "\r\n"
      ]
    },
    {
      "cell_type": "markdown",
      "metadata": {
        "id": "_1ZfHC3tJRF2"
      },
      "source": [
        "**튜플 특징**\r\n",
        "\r\n",
        "\r\n",
        "*   요소 한 개인 경우 뒤에 쉼표 필수\r\n",
        "*   괄호 생략 가능\r\n",
        "*   이중 튜플도 가능\r\n",
        "\r\n",
        "\r\n",
        "\r\n"
      ]
    },
    {
      "cell_type": "code",
      "metadata": {
        "colab": {
          "base_uri": "https://localhost:8080/"
        },
        "id": "GUBD_oDUI9NU",
        "outputId": "77600829-f63c-4268-cc41-5fcaa7301d18"
      },
      "source": [
        "t1=()\r\n",
        "t2=(1,)\r\n",
        "t3=(1,2,3)\r\n",
        "t4=1,2,3\r\n",
        "t5=('a','b',('ab','cd'))\r\n",
        "t6=(1,2,'a','b')\r\n",
        "print(\"t1: \",t1)\r\n",
        "print(\"t2: \",t2)\r\n",
        "print(\"t3: \",t3)\r\n",
        "print(\"t4: \",t4)\r\n",
        "print(\"t5: \",t5)\r\n",
        "print(\"t6: \",t6)"
      ],
      "execution_count": null,
      "outputs": [
        {
          "output_type": "stream",
          "text": [
            "t1:  ()\n",
            "t2:  (1,)\n",
            "t3:  (1, 2, 3)\n",
            "t4:  (1, 2, 3)\n",
            "t5:  ('a', 'b', ('ab', 'cd'))\n",
            "t6:  (1, 2, 'a', 'b')\n"
          ],
          "name": "stdout"
        }
      ]
    },
    {
      "cell_type": "code",
      "metadata": {
        "colab": {
          "base_uri": "https://localhost:8080/",
          "height": 186
        },
        "id": "_Z_5qfcyJ_cu",
        "outputId": "3b5872b4-fcc7-4a16-fd2f-c01336130bd2"
      },
      "source": [
        "#튜플 요소값 삭제하려 할 때 -> TypeError: 'tuple' object doesn't support item deletion\r\n",
        "\r\n",
        "t1=(1,2,'a','b')\r\n",
        "del t1[0]\r\n",
        "t1"
      ],
      "execution_count": null,
      "outputs": [
        {
          "output_type": "error",
          "ename": "TypeError",
          "evalue": "ignored",
          "traceback": [
            "\u001b[0;31m---------------------------------------------------------------------------\u001b[0m",
            "\u001b[0;31mTypeError\u001b[0m                                 Traceback (most recent call last)",
            "\u001b[0;32m<ipython-input-6-b8de262ae0c8>\u001b[0m in \u001b[0;36m<module>\u001b[0;34m()\u001b[0m\n\u001b[1;32m      1\u001b[0m \u001b[0mt1\u001b[0m\u001b[0;34m=\u001b[0m\u001b[0;34m(\u001b[0m\u001b[0;36m1\u001b[0m\u001b[0;34m,\u001b[0m\u001b[0;36m2\u001b[0m\u001b[0;34m,\u001b[0m\u001b[0;34m'a'\u001b[0m\u001b[0;34m,\u001b[0m\u001b[0;34m'b'\u001b[0m\u001b[0;34m)\u001b[0m\u001b[0;34m\u001b[0m\u001b[0;34m\u001b[0m\u001b[0m\n\u001b[0;32m----> 2\u001b[0;31m \u001b[0;32mdel\u001b[0m \u001b[0mt1\u001b[0m\u001b[0;34m[\u001b[0m\u001b[0;36m0\u001b[0m\u001b[0;34m]\u001b[0m\u001b[0;34m\u001b[0m\u001b[0;34m\u001b[0m\u001b[0m\n\u001b[0m",
            "\u001b[0;31mTypeError\u001b[0m: 'tuple' object doesn't support item deletion"
          ]
        }
      ]
    },
    {
      "cell_type": "code",
      "metadata": {
        "colab": {
          "base_uri": "https://localhost:8080/",
          "height": 221
        },
        "id": "geFhRAg0KE07",
        "outputId": "1a363f0e-9acd-49a8-8b03-abf29bcd4123"
      },
      "source": [
        "#튜플 요소 변경하려 할 때 -> TypeError: 'tuple' object does not support item assignment\r\n",
        "\r\n",
        "t1=(1,2,'a','b')\r\n",
        "t1[0]='c'\r\n",
        "t1"
      ],
      "execution_count": null,
      "outputs": [
        {
          "output_type": "error",
          "ename": "TypeError",
          "evalue": "ignored",
          "traceback": [
            "\u001b[0;31m---------------------------------------------------------------------------\u001b[0m",
            "\u001b[0;31mTypeError\u001b[0m                                 Traceback (most recent call last)",
            "\u001b[0;32m<ipython-input-7-1f72f5351b98>\u001b[0m in \u001b[0;36m<module>\u001b[0;34m()\u001b[0m\n\u001b[1;32m      2\u001b[0m \u001b[0;34m\u001b[0m\u001b[0m\n\u001b[1;32m      3\u001b[0m \u001b[0mt1\u001b[0m\u001b[0;34m=\u001b[0m\u001b[0;34m(\u001b[0m\u001b[0;36m1\u001b[0m\u001b[0;34m,\u001b[0m\u001b[0;36m2\u001b[0m\u001b[0;34m,\u001b[0m\u001b[0;34m'a'\u001b[0m\u001b[0;34m,\u001b[0m\u001b[0;34m'b'\u001b[0m\u001b[0;34m)\u001b[0m\u001b[0;34m\u001b[0m\u001b[0;34m\u001b[0m\u001b[0m\n\u001b[0;32m----> 4\u001b[0;31m \u001b[0mt1\u001b[0m\u001b[0;34m[\u001b[0m\u001b[0;36m0\u001b[0m\u001b[0;34m]\u001b[0m\u001b[0;34m=\u001b[0m\u001b[0;34m'c'\u001b[0m\u001b[0;34m\u001b[0m\u001b[0;34m\u001b[0m\u001b[0m\n\u001b[0m\u001b[1;32m      5\u001b[0m \u001b[0mt1\u001b[0m\u001b[0;34m\u001b[0m\u001b[0;34m\u001b[0m\u001b[0m\n",
            "\u001b[0;31mTypeError\u001b[0m: 'tuple' object does not support item assignment"
          ]
        }
      ]
    },
    {
      "cell_type": "markdown",
      "metadata": {
        "id": "JezzeZPeK8yE"
      },
      "source": [
        "**튜플 다루기**\r\n",
        "\r\n",
        "\r\n",
        "*   인덱싱하기\r\n",
        "*   슬라이싱하기\r\n",
        "*   튜플 더하기\r\n",
        "*   튜플 곱하기\r\n",
        "*   튜플 길이 구하기\r\n",
        "\r\n",
        "\r\n"
      ]
    },
    {
      "cell_type": "code",
      "metadata": {
        "colab": {
          "base_uri": "https://localhost:8080/"
        },
        "id": "VpCzF5bjKnm1",
        "outputId": "2a240dd7-a21d-4e1e-aa8c-7a104a138ade"
      },
      "source": [
        "t1=(1,2,'a','b')\r\n",
        "t1[0]"
      ],
      "execution_count": null,
      "outputs": [
        {
          "output_type": "execute_result",
          "data": {
            "text/plain": [
              "1"
            ]
          },
          "metadata": {
            "tags": []
          },
          "execution_count": 8
        }
      ]
    },
    {
      "cell_type": "code",
      "metadata": {
        "colab": {
          "base_uri": "https://localhost:8080/",
          "height": 34
        },
        "id": "XINf5IoGLQY0",
        "outputId": "67dbea92-d9b5-46ff-c97c-b90e130ec7e2"
      },
      "source": [
        "t1=(1,2,'a','b')\r\n",
        "t1[3]"
      ],
      "execution_count": null,
      "outputs": [
        {
          "output_type": "execute_result",
          "data": {
            "application/vnd.google.colaboratory.intrinsic+json": {
              "type": "string"
            },
            "text/plain": [
              "'b'"
            ]
          },
          "metadata": {
            "tags": []
          },
          "execution_count": 9
        }
      ]
    },
    {
      "cell_type": "code",
      "metadata": {
        "colab": {
          "base_uri": "https://localhost:8080/"
        },
        "id": "hu7KlBvGLT7c",
        "outputId": "ae337197-5b8d-4ed8-ca2b-a5630082fe02"
      },
      "source": [
        "t1=(1,2,'a','b')\r\n",
        "t1[:2]"
      ],
      "execution_count": null,
      "outputs": [
        {
          "output_type": "execute_result",
          "data": {
            "text/plain": [
              "(1, 2)"
            ]
          },
          "metadata": {
            "tags": []
          },
          "execution_count": 10
        }
      ]
    },
    {
      "cell_type": "code",
      "metadata": {
        "colab": {
          "base_uri": "https://localhost:8080/"
        },
        "id": "f1TUCxNOLaHg",
        "outputId": "0cff5e21-4532-404c-acb3-0a41225d5c25"
      },
      "source": [
        "t1=(1,2,'a','b')\r\n",
        "t1[1:]"
      ],
      "execution_count": null,
      "outputs": [
        {
          "output_type": "execute_result",
          "data": {
            "text/plain": [
              "(2, 'a', 'b')"
            ]
          },
          "metadata": {
            "tags": []
          },
          "execution_count": 12
        }
      ]
    },
    {
      "cell_type": "code",
      "metadata": {
        "colab": {
          "base_uri": "https://localhost:8080/"
        },
        "id": "DiAxKKuVLd93",
        "outputId": "e06de82f-3449-4dcd-f1ef-344a9c3f6b45"
      },
      "source": [
        "t1=(1,2,'a','b')\r\n",
        "t2=(3,4)\r\n",
        "t1+t2"
      ],
      "execution_count": null,
      "outputs": [
        {
          "output_type": "execute_result",
          "data": {
            "text/plain": [
              "(1, 2, 'a', 'b', 3, 4)"
            ]
          },
          "metadata": {
            "tags": []
          },
          "execution_count": 13
        }
      ]
    },
    {
      "cell_type": "code",
      "metadata": {
        "colab": {
          "base_uri": "https://localhost:8080/"
        },
        "id": "VN5d3nqhLkiP",
        "outputId": "2d759092-4f5d-49ac-8f8f-3b4a668a21ee"
      },
      "source": [
        "t1=(1,2,'a','b')\r\n",
        "t1*3"
      ],
      "execution_count": null,
      "outputs": [
        {
          "output_type": "execute_result",
          "data": {
            "text/plain": [
              "(1, 2, 'a', 'b', 1, 2, 'a', 'b', 1, 2, 'a', 'b')"
            ]
          },
          "metadata": {
            "tags": []
          },
          "execution_count": 14
        }
      ]
    },
    {
      "cell_type": "code",
      "metadata": {
        "colab": {
          "base_uri": "https://localhost:8080/"
        },
        "id": "fEcWvER5Logg",
        "outputId": "8acad85b-30db-4903-9ba2-7ac20b791921"
      },
      "source": [
        "t1=(1,2,'a','b')\r\n",
        "len(t1)"
      ],
      "execution_count": null,
      "outputs": [
        {
          "output_type": "execute_result",
          "data": {
            "text/plain": [
              "4"
            ]
          },
          "metadata": {
            "tags": []
          },
          "execution_count": 15
        }
      ]
    },
    {
      "cell_type": "code",
      "metadata": {
        "colab": {
          "base_uri": "https://localhost:8080/"
        },
        "id": "GG1FPu3uLsEb",
        "outputId": "cc658a1e-0a2b-427c-94ce-18e15c470890"
      },
      "source": [
        "a=(1,2,3)\r\n",
        "a+(4,)"
      ],
      "execution_count": null,
      "outputs": [
        {
          "output_type": "execute_result",
          "data": {
            "text/plain": [
              "(1, 2, 3, 4)"
            ]
          },
          "metadata": {
            "tags": []
          },
          "execution_count": 17
        }
      ]
    },
    {
      "cell_type": "code",
      "metadata": {
        "id": "fl1VfjiLLvjB"
      },
      "source": [
        ""
      ],
      "execution_count": null,
      "outputs": []
    }
  ]
}