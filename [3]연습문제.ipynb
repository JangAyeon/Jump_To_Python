{
  "nbformat": 4,
  "nbformat_minor": 0,
  "metadata": {
    "colab": {
      "name": "5-연습문제.ipynb",
      "provenance": []
    },
    "kernelspec": {
      "name": "python3",
      "display_name": "Python 3"
    },
    "accelerator": "GPU"
  },
  "cells": [
    {
      "cell_type": "code",
      "metadata": {
        "colab": {
          "base_uri": "https://localhost:8080/"
        },
        "id": "lcnX4UDZsxEi",
        "outputId": "e9ed6e2e-4f87-4992-d931-c3dd0a45d92e"
      },
      "source": [
        "#2번\r\n",
        "\r\n",
        "result=0\r\n",
        "i=1\r\n",
        "while i<=1000:\r\n",
        "  if i%3==0:\r\n",
        "    result+=i\r\n",
        "  i+=1\r\n",
        "\r\n",
        "print(result)"
      ],
      "execution_count": 4,
      "outputs": [
        {
          "output_type": "stream",
          "text": [
            "166833\n"
          ],
          "name": "stdout"
        }
      ]
    },
    {
      "cell_type": "code",
      "metadata": {
        "colab": {
          "base_uri": "https://localhost:8080/"
        },
        "id": "GjIoVh-3s-Ue",
        "outputId": "b747b63c-3972-457d-f562-1a23b5277041"
      },
      "source": [
        "#3번\r\n",
        "\r\n",
        "i=0\r\n",
        "while True:\r\n",
        "  i+=1\r\n",
        "  if i>=6: break\r\n",
        "  print(\"*\"*i)"
      ],
      "execution_count": 5,
      "outputs": [
        {
          "output_type": "stream",
          "text": [
            "*\n",
            "**\n",
            "***\n",
            "****\n",
            "*****\n"
          ],
          "name": "stdout"
        }
      ]
    },
    {
      "cell_type": "code",
      "metadata": {
        "colab": {
          "base_uri": "https://localhost:8080/"
        },
        "id": "nbfCAIf7t_OJ",
        "outputId": "2678e649-6f44-49fd-e43e-68092d600e7f"
      },
      "source": [
        "#4번\r\n",
        "\r\n",
        "for i in range(1,101):\r\n",
        "  print(i)"
      ],
      "execution_count": 6,
      "outputs": [
        {
          "output_type": "stream",
          "text": [
            "1\n",
            "2\n",
            "3\n",
            "4\n",
            "5\n",
            "6\n",
            "7\n",
            "8\n",
            "9\n",
            "10\n",
            "11\n",
            "12\n",
            "13\n",
            "14\n",
            "15\n",
            "16\n",
            "17\n",
            "18\n",
            "19\n",
            "20\n",
            "21\n",
            "22\n",
            "23\n",
            "24\n",
            "25\n",
            "26\n",
            "27\n",
            "28\n",
            "29\n",
            "30\n",
            "31\n",
            "32\n",
            "33\n",
            "34\n",
            "35\n",
            "36\n",
            "37\n",
            "38\n",
            "39\n",
            "40\n",
            "41\n",
            "42\n",
            "43\n",
            "44\n",
            "45\n",
            "46\n",
            "47\n",
            "48\n",
            "49\n",
            "50\n",
            "51\n",
            "52\n",
            "53\n",
            "54\n",
            "55\n",
            "56\n",
            "57\n",
            "58\n",
            "59\n",
            "60\n",
            "61\n",
            "62\n",
            "63\n",
            "64\n",
            "65\n",
            "66\n",
            "67\n",
            "68\n",
            "69\n",
            "70\n",
            "71\n",
            "72\n",
            "73\n",
            "74\n",
            "75\n",
            "76\n",
            "77\n",
            "78\n",
            "79\n",
            "80\n",
            "81\n",
            "82\n",
            "83\n",
            "84\n",
            "85\n",
            "86\n",
            "87\n",
            "88\n",
            "89\n",
            "90\n",
            "91\n",
            "92\n",
            "93\n",
            "94\n",
            "95\n",
            "96\n",
            "97\n",
            "98\n",
            "99\n",
            "100\n"
          ],
          "name": "stdout"
        }
      ]
    },
    {
      "cell_type": "code",
      "metadata": {
        "colab": {
          "base_uri": "https://localhost:8080/"
        },
        "id": "njXyBA_quJ5F",
        "outputId": "f757066e-0387-422e-95b4-d8e55149ccb5"
      },
      "source": [
        "#5번\r\n",
        "\r\n",
        "A=[70,60,55,75,95,90,80,80,85,100]\r\n",
        "total=0\r\n",
        "for score in A:\r\n",
        "  total+=score\r\n",
        "\r\n",
        "average=total/len(A)\r\n",
        "print(average)"
      ],
      "execution_count": 8,
      "outputs": [
        {
          "output_type": "stream",
          "text": [
            "79.0\n"
          ],
          "name": "stdout"
        }
      ]
    },
    {
      "cell_type": "code",
      "metadata": {
        "colab": {
          "base_uri": "https://localhost:8080/"
        },
        "id": "bMmX-JAPukOW",
        "outputId": "ef4bf6f7-7d8d-4e0c-8776-71078f1447fc"
      },
      "source": [
        "#6번\r\n",
        "\r\n",
        "num=[1,2,3,4,5]\r\n",
        "\r\n",
        "result=[]\r\n",
        "\r\n",
        "for x in num:\r\n",
        "  if x%2!=0:\r\n",
        "    result.append(2*x)\r\n",
        "\r\n",
        "print(result)"
      ],
      "execution_count": 9,
      "outputs": [
        {
          "output_type": "stream",
          "text": [
            "[2, 6, 10]\n"
          ],
          "name": "stdout"
        }
      ]
    },
    {
      "cell_type": "code",
      "metadata": {
        "colab": {
          "base_uri": "https://localhost:8080/"
        },
        "id": "MqwsrJM9vB3g",
        "outputId": "e6a9521c-a761-46eb-ffcd-3580a7ba829d"
      },
      "source": [
        "#6번\r\n",
        "\r\n",
        "num=[1,2,3,4,5]\r\n",
        "\r\n",
        "result=[2*n for n in num if n%2!=0]\r\n",
        "\r\n",
        "print(result)"
      ],
      "execution_count": 11,
      "outputs": [
        {
          "output_type": "stream",
          "text": [
            "[2, 6, 10]\n"
          ],
          "name": "stdout"
        }
      ]
    },
    {
      "cell_type": "code",
      "metadata": {
        "id": "v7ODEVtPvbNc"
      },
      "source": [
        ""
      ],
      "execution_count": null,
      "outputs": []
    }
  ]
}