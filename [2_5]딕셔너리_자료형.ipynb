{
  "nbformat": 4,
  "nbformat_minor": 0,
  "metadata": {
    "colab": {
      "name": "[2-5]딕셔너리 자료형.ipynb",
      "provenance": []
    },
    "kernelspec": {
      "name": "python3",
      "display_name": "Python 3"
    }
  },
  "cells": [
    {
      "cell_type": "markdown",
      "metadata": {
        "id": "X1ox0Ay7l_c9"
      },
      "source": [
        "#딕셔너리"
      ]
    },
    {
      "cell_type": "markdown",
      "metadata": {
        "id": "Jck4HNO7mCe4"
      },
      "source": [
        "\r\n",
        "\r\n",
        "> 딕셔너리 생성\r\n",
        "\r\n"
      ]
    },
    {
      "cell_type": "code",
      "metadata": {
        "id": "mSG4RuBel0hJ"
      },
      "source": [
        "diC={'name':'ayeon','phone':'101','birth':'0115'}"
      ],
      "execution_count": 1,
      "outputs": []
    },
    {
      "cell_type": "code",
      "metadata": {
        "id": "9kb35WMAmF7E"
      },
      "source": [
        "a={1:'hi'} #key값 1에 value는 문자열 'hi'"
      ],
      "execution_count": 2,
      "outputs": []
    },
    {
      "cell_type": "code",
      "metadata": {
        "id": "GDs-jgZjoAAC"
      },
      "source": [
        "a={a:[1,2,3]} #value값에 리스트 넣을 수 있음"
      ],
      "execution_count": null,
      "outputs": []
    },
    {
      "cell_type": "markdown",
      "metadata": {
        "id": "d6zAylEUmFX1"
      },
      "source": [
        "\r\n",
        "\r\n",
        "> **딕셔너리 쌍 추가**\r\n",
        "\r\n"
      ]
    },
    {
      "cell_type": "code",
      "metadata": {
        "colab": {
          "base_uri": "https://localhost:8080/"
        },
        "id": "LVrOfBmGmN-E",
        "outputId": "c94bb746-2c38-4896-abf7-d83200271266"
      },
      "source": [
        "a={1:'a'}\r\n",
        "a[2]='b' #딕셔너리 a에 key값 2와 value값 'b' 추가\r\n",
        "a"
      ],
      "execution_count": 4,
      "outputs": [
        {
          "output_type": "execute_result",
          "data": {
            "text/plain": [
              "{1: 'a', 2: 'b'}"
            ]
          },
          "metadata": {
            "tags": []
          },
          "execution_count": 4
        }
      ]
    },
    {
      "cell_type": "code",
      "metadata": {
        "colab": {
          "base_uri": "https://localhost:8080/"
        },
        "id": "KYVqJ7QCmO0K",
        "outputId": "07700fef-da71-4f18-ed0a-74d2aac22924"
      },
      "source": [
        "a={1:'a'}\r\n",
        "a[2]='b' #딕셔너리 a에 key값 '2'와 value값 'b' 추가\r\n",
        "a['name']='ayeon' #딕셔너리 a에 key값 'name'와 value값 'ayeon' 추가\r\n",
        "a[3]=[1,2,3] #딕셔너리 a에 key값 'b'와 value값 [1,2,3] 추가\r\n",
        "a"
      ],
      "execution_count": 6,
      "outputs": [
        {
          "output_type": "execute_result",
          "data": {
            "text/plain": [
              "{1: 'a', 2: 'b', 3: [1, 2, 3], 'name': 'ayeon'}"
            ]
          },
          "metadata": {
            "tags": []
          },
          "execution_count": 6
        }
      ]
    },
    {
      "cell_type": "markdown",
      "metadata": {
        "id": "fqqKUKKmo-h4"
      },
      "source": [
        "\r\n",
        "\r\n",
        "> **딕셔너리 요소 삭제**\r\n",
        "\r\n"
      ]
    },
    {
      "cell_type": "code",
      "metadata": {
        "colab": {
          "base_uri": "https://localhost:8080/"
        },
        "id": "6r1p8PxPpELV",
        "outputId": "7e7cabdb-4d34-4dc1-a83e-bb71aa911b46"
      },
      "source": [
        "del a[2] #딕셔너리 a에서 key값이 2인 key:value 쌍 삭제\r\n",
        "a"
      ],
      "execution_count": 7,
      "outputs": [
        {
          "output_type": "execute_result",
          "data": {
            "text/plain": [
              "{1: 'a', 3: [1, 2, 3], 'name': 'ayeon'}"
            ]
          },
          "metadata": {
            "tags": []
          },
          "execution_count": 7
        }
      ]
    },
    {
      "cell_type": "markdown",
      "metadata": {
        "id": "bdgWe0HdphHp"
      },
      "source": [
        "\r\n",
        "\r\n",
        "> **딕셔너리에서 key 사용해 value 얻기**<br>\r\n",
        "\r\n",
        "딕셔너리변수[key] -> key에 해당하는 value 얻음\r\n",
        "\r\n"
      ]
    },
    {
      "cell_type": "code",
      "metadata": {
        "colab": {
          "base_uri": "https://localhost:8080/"
        },
        "id": "vOUcSn1IpmXS",
        "outputId": "2726b0b2-afce-4032-e1eb-f8e661dc2576"
      },
      "source": [
        "grade={'pey':10,'cathy':100}\r\n",
        "grade['cathy'] #key가 cathy인 딕셔너리의 value값 반환"
      ],
      "execution_count": 9,
      "outputs": [
        {
          "output_type": "execute_result",
          "data": {
            "text/plain": [
              "100"
            ]
          },
          "metadata": {
            "tags": []
          },
          "execution_count": 9
        }
      ]
    },
    {
      "cell_type": "code",
      "metadata": {
        "colab": {
          "base_uri": "https://localhost:8080/",
          "height": 35
        },
        "id": "GkfGDcSdp1AD",
        "outputId": "b49ca963-171a-41c2-b1fc-74c914426e69"
      },
      "source": [
        "a={1:'a',2:'b'}\r\n",
        "a[1]  #key가 1인 딕셔너리의 value값 반환"
      ],
      "execution_count": 10,
      "outputs": [
        {
          "output_type": "execute_result",
          "data": {
            "application/vnd.google.colaboratory.intrinsic+json": {
              "type": "string"
            },
            "text/plain": [
              "'a'"
            ]
          },
          "metadata": {
            "tags": []
          },
          "execution_count": 10
        }
      ]
    },
    {
      "cell_type": "code",
      "metadata": {
        "colab": {
          "base_uri": "https://localhost:8080/",
          "height": 35
        },
        "id": "y8gHsuKgqQTW",
        "outputId": "82de06f3-784b-4509-c687-ac3de5ce901a"
      },
      "source": [
        "dic={'name':'ayeon','phone':'101','birth':'0115'}\r\n",
        "dic['name']\r\n",
        "dic['phone']\r\n",
        "dic['birth']"
      ],
      "execution_count": 11,
      "outputs": [
        {
          "output_type": "execute_result",
          "data": {
            "application/vnd.google.colaboratory.intrinsic+json": {
              "type": "string"
            },
            "text/plain": [
              "'0115'"
            ]
          },
          "metadata": {
            "tags": []
          },
          "execution_count": 11
        }
      ]
    },
    {
      "cell_type": "markdown",
      "metadata": {
        "id": "H0sC9buLmQMy"
      },
      "source": [
        "\r\n",
        "\r\n",
        "> **딕셔너리 key값 주의 사항**\r\n",
        "\r\n"
      ]
    },
    {
      "cell_type": "markdown",
      "metadata": {
        "id": "j10ONC1urMXo"
      },
      "source": [
        "\r\n",
        "\r\n",
        "*   key값은 고유한 값으로 중복 x\r\n",
        "\r\n"
      ]
    },
    {
      "cell_type": "code",
      "metadata": {
        "colab": {
          "base_uri": "https://localhost:8080/"
        },
        "id": "0qbREKUjp0LI",
        "outputId": "7b75bbb3-79e6-46bc-f44c-44692aff90c6"
      },
      "source": [
        "a={1:'a',1:'b'} #key값 1이 중복으로 사용됨\r\n",
        "a #1:'a' 쌍이 무시됨"
      ],
      "execution_count": 13,
      "outputs": [
        {
          "output_type": "execute_result",
          "data": {
            "text/plain": [
              "{1: 'b'}"
            ]
          },
          "metadata": {
            "tags": []
          },
          "execution_count": 13
        }
      ]
    },
    {
      "cell_type": "markdown",
      "metadata": {
        "id": "4X5g_ZkiriT3"
      },
      "source": [
        "\r\n",
        "\r\n",
        "*   key값은 변하지 않는 값 -> 리스트 사용 x\r\n",
        "\r\n"
      ]
    },
    {
      "cell_type": "code",
      "metadata": {
        "colab": {
          "base_uri": "https://localhost:8080/",
          "height": 188
        },
        "id": "ZqPpTq1NmUEX",
        "outputId": "06ee230c-a3f6-4cd9-f067-285913d6ca51"
      },
      "source": [
        "a={[1,2]:'hi'}\r\n",
        "a"
      ],
      "execution_count": 14,
      "outputs": [
        {
          "output_type": "error",
          "ename": "TypeError",
          "evalue": "ignored",
          "traceback": [
            "\u001b[0;31m---------------------------------------------------------------------------\u001b[0m",
            "\u001b[0;31mTypeError\u001b[0m                                 Traceback (most recent call last)",
            "\u001b[0;32m<ipython-input-14-f920c0d75662>\u001b[0m in \u001b[0;36m<module>\u001b[0;34m()\u001b[0m\n\u001b[0;32m----> 1\u001b[0;31m \u001b[0ma\u001b[0m\u001b[0;34m=\u001b[0m\u001b[0;34m{\u001b[0m\u001b[0;34m[\u001b[0m\u001b[0;36m1\u001b[0m\u001b[0;34m,\u001b[0m\u001b[0;36m2\u001b[0m\u001b[0;34m]\u001b[0m\u001b[0;34m:\u001b[0m\u001b[0;34m'hi'\u001b[0m\u001b[0;34m}\u001b[0m\u001b[0;34m\u001b[0m\u001b[0;34m\u001b[0m\u001b[0m\n\u001b[0m\u001b[1;32m      2\u001b[0m \u001b[0ma\u001b[0m\u001b[0;34m\u001b[0m\u001b[0;34m\u001b[0m\u001b[0m\n",
            "\u001b[0;31mTypeError\u001b[0m: unhashable type: 'list'"
          ]
        }
      ]
    },
    {
      "cell_type": "markdown",
      "metadata": {
        "id": "4iEL9YE2mU_8"
      },
      "source": [
        "\r\n",
        "\r\n",
        "> **딕셔너리 관련 함수**\r\n",
        "\r\n"
      ]
    },
    {
      "cell_type": "markdown",
      "metadata": {
        "id": "Jkioq6YEmkNQ"
      },
      "source": [
        "\r\n",
        "\r\n",
        "*   key 리스트 만들기\r\n",
        "\r\n"
      ]
    },
    {
      "cell_type": "code",
      "metadata": {
        "colab": {
          "base_uri": "https://localhost:8080/"
        },
        "id": "p81sCrUGmZXO",
        "outputId": "a9dd6b7b-09bc-4985-a33b-457eed498942"
      },
      "source": [
        "a={'name':'ayeon','phone':'010','birth':'0115'}\r\n",
        "a.keys() #딕셔너리 a의 key만 모아서 dict_keys객체를 반환"
      ],
      "execution_count": 16,
      "outputs": [
        {
          "output_type": "execute_result",
          "data": {
            "text/plain": [
              "dict_keys(['name', 'phone', 'birth'])"
            ]
          },
          "metadata": {
            "tags": []
          },
          "execution_count": 16
        }
      ]
    },
    {
      "cell_type": "code",
      "metadata": {
        "colab": {
          "base_uri": "https://localhost:8080/"
        },
        "id": "9XgItyW6sL4q",
        "outputId": "02d4a455-1f4d-4075-ee60-457262c7bd62"
      },
      "source": [
        "for k in a.keys():\r\n",
        "  print(k) #dict_keys객체는 리스트 사용과 다름 없지만 리스트 고유의 함수는 사용 불가능"
      ],
      "execution_count": 18,
      "outputs": [
        {
          "output_type": "stream",
          "text": [
            "name\n",
            "phone\n",
            "birth\n"
          ],
          "name": "stdout"
        }
      ]
    },
    {
      "cell_type": "code",
      "metadata": {
        "colab": {
          "base_uri": "https://localhost:8080/"
        },
        "id": "FvUUmqM7smgu",
        "outputId": "93f9e246-ea7e-47bc-e5c3-c79f3d86737e"
      },
      "source": [
        "list(a.keys()) #dict_keys객체를 리스트로 변환"
      ],
      "execution_count": 19,
      "outputs": [
        {
          "output_type": "execute_result",
          "data": {
            "text/plain": [
              "['name', 'phone', 'birth']"
            ]
          },
          "metadata": {
            "tags": []
          },
          "execution_count": 19
        }
      ]
    },
    {
      "cell_type": "markdown",
      "metadata": {
        "id": "67mxlPMqmo1Q"
      },
      "source": [
        "\r\n",
        "\r\n",
        "*   value 리스트 만들기\r\n",
        "\r\n",
        "\r\n"
      ]
    },
    {
      "cell_type": "code",
      "metadata": {
        "colab": {
          "base_uri": "https://localhost:8080/"
        },
        "id": "8XOI9jeKmtHz",
        "outputId": "2d8c50c1-afad-4519-e4da-a0fc3f50fffc"
      },
      "source": [
        "a.values()  #딕셔너리 a의 value만 모아서 dict_values객체 반환"
      ],
      "execution_count": 20,
      "outputs": [
        {
          "output_type": "execute_result",
          "data": {
            "text/plain": [
              "dict_values(['ayeon', '010', '0115'])"
            ]
          },
          "metadata": {
            "tags": []
          },
          "execution_count": 20
        }
      ]
    },
    {
      "cell_type": "markdown",
      "metadata": {
        "id": "eZVdq3cwmvU7"
      },
      "source": [
        "\r\n",
        "\r\n",
        "*   key, value 쌍 얻기 (item)\r\n",
        "\r\n"
      ]
    },
    {
      "cell_type": "code",
      "metadata": {
        "colab": {
          "base_uri": "https://localhost:8080/"
        },
        "id": "OHzTnCehm0qf",
        "outputId": "14cb9d90-5915-46a3-a55e-98ce4fcccc3f"
      },
      "source": [
        "a.items() #key와 value를 튜플로 묶은 dict_items 객체 반환"
      ],
      "execution_count": 22,
      "outputs": [
        {
          "output_type": "execute_result",
          "data": {
            "text/plain": [
              "dict_items([('name', 'ayeon'), ('phone', '010'), ('birth', '0115')])"
            ]
          },
          "metadata": {
            "tags": []
          },
          "execution_count": 22
        }
      ]
    },
    {
      "cell_type": "markdown",
      "metadata": {
        "id": "3be2QG-fm1LP"
      },
      "source": [
        "\r\n",
        "\r\n",
        "*   key : value 쌍 모두 지우기 (clear)\r\n",
        "\r\n"
      ]
    },
    {
      "cell_type": "code",
      "metadata": {
        "colab": {
          "base_uri": "https://localhost:8080/"
        },
        "id": "GSkp_bHHm7OY",
        "outputId": "f1a0e1d1-4dd2-42d4-9010-530b207e1c70"
      },
      "source": [
        "a.clear()\r\n",
        "a #빈 딕셔너리"
      ],
      "execution_count": 24,
      "outputs": [
        {
          "output_type": "execute_result",
          "data": {
            "text/plain": [
              "{}"
            ]
          },
          "metadata": {
            "tags": []
          },
          "execution_count": 24
        }
      ]
    },
    {
      "cell_type": "markdown",
      "metadata": {
        "id": "H2gME-Uvm9qF"
      },
      "source": [
        "\r\n",
        "\r\n",
        "*   key로 value얻기 (get)\r\n",
        "\r\n"
      ]
    },
    {
      "cell_type": "code",
      "metadata": {
        "colab": {
          "base_uri": "https://localhost:8080/",
          "height": 35
        },
        "id": "-glaPf8bnBOt",
        "outputId": "f56652ce-8820-40a1-f56c-67db6c7cc2a7"
      },
      "source": [
        "a={'name':'ayeon','phone':'010','birth':'0115'}\r\n",
        "a.get('name') #a['name']과 동일"
      ],
      "execution_count": 26,
      "outputs": [
        {
          "output_type": "execute_result",
          "data": {
            "application/vnd.google.colaboratory.intrinsic+json": {
              "type": "string"
            },
            "text/plain": [
              "'ayeon'"
            ]
          },
          "metadata": {
            "tags": []
          },
          "execution_count": 26
        }
      ]
    },
    {
      "cell_type": "code",
      "metadata": {
        "id": "kJRdCjldtYza"
      },
      "source": [
        "print(a.get(\"error\")) #없는 key로 value 얻고자 하는 경우 : None 반환"
      ],
      "execution_count": 28,
      "outputs": []
    },
    {
      "cell_type": "code",
      "metadata": {
        "colab": {
          "base_uri": "https://localhost:8080/",
          "height": 170
        },
        "id": "pJqSZQ07tiAQ",
        "outputId": "53c1d103-d824-46f3-f741-a45d08b8da80"
      },
      "source": [
        "print(a['error']) #error 발생"
      ],
      "execution_count": 29,
      "outputs": [
        {
          "output_type": "error",
          "ename": "KeyError",
          "evalue": "ignored",
          "traceback": [
            "\u001b[0;31m---------------------------------------------------------------------------\u001b[0m",
            "\u001b[0;31mKeyError\u001b[0m                                  Traceback (most recent call last)",
            "\u001b[0;32m<ipython-input-29-a493fdaf50f3>\u001b[0m in \u001b[0;36m<module>\u001b[0;34m()\u001b[0m\n\u001b[0;32m----> 1\u001b[0;31m \u001b[0ma\u001b[0m\u001b[0;34m[\u001b[0m\u001b[0;34m'error'\u001b[0m\u001b[0;34m]\u001b[0m\u001b[0;34m\u001b[0m\u001b[0;34m\u001b[0m\u001b[0m\n\u001b[0m",
            "\u001b[0;31mKeyError\u001b[0m: 'error'"
          ]
        }
      ]
    },
    {
      "cell_type": "markdown",
      "metadata": {
        "id": "fHQZa8R0twRP"
      },
      "source": [
        "\r\n",
        "\r\n",
        "**get(x, '디폴트값')**<br>\r\n",
        "\r\n",
        "찾으려는 key값이 없는 경우, 미리 정해 둔 디폴트 값을 대신 가져오게 하기\r\n",
        "\r\n"
      ]
    },
    {
      "cell_type": "code",
      "metadata": {
        "colab": {
          "base_uri": "https://localhost:8080/",
          "height": 35
        },
        "id": "ys4iTjY_uDdD",
        "outputId": "b82624f6-89e7-457f-b138-2880f9db9c67"
      },
      "source": [
        "a.get('error','phone')"
      ],
      "execution_count": 30,
      "outputs": [
        {
          "output_type": "execute_result",
          "data": {
            "application/vnd.google.colaboratory.intrinsic+json": {
              "type": "string"
            },
            "text/plain": [
              "'phone'"
            ]
          },
          "metadata": {
            "tags": []
          },
          "execution_count": 30
        }
      ]
    },
    {
      "cell_type": "markdown",
      "metadata": {
        "id": "dZCEq_o-nDch"
      },
      "source": [
        "\r\n",
        "\r\n",
        "*   해당 key가 딕셔너리 안에 있는지 조사 (in)\r\n",
        "\r\n"
      ]
    },
    {
      "cell_type": "code",
      "metadata": {
        "colab": {
          "base_uri": "https://localhost:8080/"
        },
        "id": "Pf_aWOqInJCn",
        "outputId": "0e5a76db-5474-47bc-bf04-35cfd5b267cb"
      },
      "source": [
        "'name' in a"
      ],
      "execution_count": 31,
      "outputs": [
        {
          "output_type": "execute_result",
          "data": {
            "text/plain": [
              "True"
            ]
          },
          "metadata": {
            "tags": []
          },
          "execution_count": 31
        }
      ]
    },
    {
      "cell_type": "code",
      "metadata": {
        "id": "fmQsaDYguOh9",
        "outputId": "d5ee1cf3-1843-4b25-dd3c-538120e4b79b",
        "colab": {
          "base_uri": "https://localhost:8080/"
        }
      },
      "source": [
        "'email' in a"
      ],
      "execution_count": 32,
      "outputs": [
        {
          "output_type": "execute_result",
          "data": {
            "text/plain": [
              "False"
            ]
          },
          "metadata": {
            "tags": []
          },
          "execution_count": 32
        }
      ]
    },
    {
      "cell_type": "code",
      "metadata": {
        "id": "xRf1eyiAuQY_"
      },
      "source": [
        ""
      ],
      "execution_count": null,
      "outputs": []
    }
  ]
}