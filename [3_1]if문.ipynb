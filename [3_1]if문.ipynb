{
  "nbformat": 4,
  "nbformat_minor": 0,
  "metadata": {
    "colab": {
      "name": "[3-1]if문.ipynb",
      "provenance": []
    },
    "kernelspec": {
      "name": "python3",
      "display_name": "Python 3"
    }
  },
  "cells": [
    {
      "cell_type": "markdown",
      "metadata": {
        "id": "RdkHhhQgFBRd"
      },
      "source": [
        "**비교연산자**"
      ]
    },
    {
      "cell_type": "code",
      "metadata": {
        "colab": {
          "base_uri": "https://localhost:8080/"
        },
        "id": "579diQSxEzVV",
        "outputId": "d45980db-5f6d-45f2-faec-c074b5c20511"
      },
      "source": [
        "x=3\r\n",
        "y=2\r\n",
        "x>y\r\n"
      ],
      "execution_count": 2,
      "outputs": [
        {
          "output_type": "execute_result",
          "data": {
            "text/plain": [
              "False"
            ]
          },
          "metadata": {
            "tags": []
          },
          "execution_count": 2
        }
      ]
    },
    {
      "cell_type": "code",
      "metadata": {
        "colab": {
          "base_uri": "https://localhost:8080/"
        },
        "id": "YhQZyvlpFwiM",
        "outputId": "50b603f9-2b0d-4fc2-f434-284b49311d01"
      },
      "source": [
        "x<y"
      ],
      "execution_count": 3,
      "outputs": [
        {
          "output_type": "execute_result",
          "data": {
            "text/plain": [
              "False"
            ]
          },
          "metadata": {
            "tags": []
          },
          "execution_count": 3
        }
      ]
    },
    {
      "cell_type": "code",
      "metadata": {
        "colab": {
          "base_uri": "https://localhost:8080/"
        },
        "id": "thr88JXWFxKP",
        "outputId": "fb69a11f-e197-4c30-e280-a61fc1c8ab41"
      },
      "source": [
        "x!=y"
      ],
      "execution_count": 4,
      "outputs": [
        {
          "output_type": "execute_result",
          "data": {
            "text/plain": [
              "True"
            ]
          },
          "metadata": {
            "tags": []
          },
          "execution_count": 4
        }
      ]
    },
    {
      "cell_type": "code",
      "metadata": {
        "colab": {
          "base_uri": "https://localhost:8080/"
        },
        "id": "_xgDSfzKF2Zr",
        "outputId": "887ef64e-bc0a-4a71-959c-47694996feed"
      },
      "source": [
        "#3000원 이상의 돈을 가지고 있으면 택시를 타고 없으면 걸어가라\r\n",
        "money=200\r\n",
        "\r\n",
        "if money>=3000:\r\n",
        "  print(\"택시 타기\")\r\n",
        "else:\r\n",
        "    print(\"걸어 가기\")"
      ],
      "execution_count": 6,
      "outputs": [
        {
          "output_type": "stream",
          "text": [
            "걸어가기\n"
          ],
          "name": "stdout"
        }
      ]
    },
    {
      "cell_type": "markdown",
      "metadata": {
        "id": "TS6uQn5lFEjj"
      },
      "source": [
        "**and,or,not**"
      ]
    },
    {
      "cell_type": "code",
      "metadata": {
        "colab": {
          "base_uri": "https://localhost:8080/"
        },
        "id": "n0leC_4wFD1G",
        "outputId": "bf8a5ba6-026a-4cc0-8b6f-c391846c6617"
      },
      "source": [
        "#돈이 3000원 이상 있거나 카드가 있다면 택시를 타고 아니면 걸어가라\r\n",
        "\r\n",
        "money=2000\r\n",
        "card=True\r\n",
        "\r\n",
        "if money>=3000 or card:\r\n",
        "  print(\"택시 타기\")\r\n",
        "else:\r\n",
        "  print(\"걸어 가기\")"
      ],
      "execution_count": 7,
      "outputs": [
        {
          "output_type": "stream",
          "text": [
            "택시 타기\n"
          ],
          "name": "stdout"
        }
      ]
    },
    {
      "cell_type": "markdown",
      "metadata": {
        "id": "VjFoR-QmFIWH"
      },
      "source": [
        "**in, not in**"
      ]
    },
    {
      "cell_type": "code",
      "metadata": {
        "colab": {
          "base_uri": "https://localhost:8080/"
        },
        "id": "vtui5ETIFLT6",
        "outputId": "df5be715-871b-4033-9efb-b692e77a9cf6"
      },
      "source": [
        "1 in [1,2,3] #리스트"
      ],
      "execution_count": 8,
      "outputs": [
        {
          "output_type": "execute_result",
          "data": {
            "text/plain": [
              "True"
            ]
          },
          "metadata": {
            "tags": []
          },
          "execution_count": 8
        }
      ]
    },
    {
      "cell_type": "code",
      "metadata": {
        "colab": {
          "base_uri": "https://localhost:8080/"
        },
        "id": "ANGJSm6rGtR9",
        "outputId": "21114960-2553-484d-9c72-b82782808c5f"
      },
      "source": [
        "1 not in [1,2,3] #리스트"
      ],
      "execution_count": 9,
      "outputs": [
        {
          "output_type": "execute_result",
          "data": {
            "text/plain": [
              "False"
            ]
          },
          "metadata": {
            "tags": []
          },
          "execution_count": 9
        }
      ]
    },
    {
      "cell_type": "code",
      "metadata": {
        "colab": {
          "base_uri": "https://localhost:8080/"
        },
        "id": "EGB5di9XGvMT",
        "outputId": "a2b06058-b4c7-4e9b-8ce3-7fe02dc9a421"
      },
      "source": [
        "'a' in ('a','b','c') #튜플"
      ],
      "execution_count": 10,
      "outputs": [
        {
          "output_type": "execute_result",
          "data": {
            "text/plain": [
              "True"
            ]
          },
          "metadata": {
            "tags": []
          },
          "execution_count": 10
        }
      ]
    },
    {
      "cell_type": "code",
      "metadata": {
        "colab": {
          "base_uri": "https://localhost:8080/"
        },
        "id": "363megb9G32x",
        "outputId": "c72e890e-afc7-4d45-d4ae-8190710a6ded"
      },
      "source": [
        "'j' not in 'python' #문자열"
      ],
      "execution_count": 12,
      "outputs": [
        {
          "output_type": "execute_result",
          "data": {
            "text/plain": [
              "True"
            ]
          },
          "metadata": {
            "tags": []
          },
          "execution_count": 12
        }
      ]
    },
    {
      "cell_type": "code",
      "metadata": {
        "colab": {
          "base_uri": "https://localhost:8080/"
        },
        "id": "aHpu7-MYHJL0",
        "outputId": "4fa977b7-754a-4b89-c247-619b7cd84fa4"
      },
      "source": [
        "#주머니에 돈이 있으면 택시를 타고 없으면 걸어가라\r\n",
        "\r\n",
        "pocket=['money','phone']\r\n",
        "if 'money' in pocket:\r\n",
        "  print(\"택시 타기\")\r\n",
        "else:\r\n",
        "  print(\"걸어 가기\")"
      ],
      "execution_count": 14,
      "outputs": [
        {
          "output_type": "stream",
          "text": [
            "택시 타기\n"
          ],
          "name": "stdout"
        }
      ]
    },
    {
      "cell_type": "code",
      "metadata": {
        "colab": {
          "base_uri": "https://localhost:8080/"
        },
        "id": "at1OIJX0HaBT",
        "outputId": "d018c2ac-71cb-4b67-f969-dc741dc74be8"
      },
      "source": [
        "#주머니에 카드가 없다면 걸어가고, 있다면 버스를 타라\r\n",
        "\r\n",
        "pocket=['money','phone']\r\n",
        "if 'card' not in pocket:\r\n",
        "  print(\"걸어 가기\")\r\n",
        "else:\r\n",
        "  print(\"버스 타기\")"
      ],
      "execution_count": 16,
      "outputs": [
        {
          "output_type": "stream",
          "text": [
            "걸어 가기\n"
          ],
          "name": "stdout"
        }
      ]
    },
    {
      "cell_type": "markdown",
      "metadata": {
        "id": "mm59YbcrHydY"
      },
      "source": [
        "**조건문에서 아무 것도 하지 않기 : pass**"
      ]
    },
    {
      "cell_type": "code",
      "metadata": {
        "id": "HUHbtHxqH2H6"
      },
      "source": [
        "#주머니에 돈이 있으면 가만히 있고 주머니에 돈이 없으면 카드를 꺼내라\r\n",
        "\r\n",
        "pocket=['money','card','phone']\r\n",
        "\r\n",
        "if 'money' in pocket:\r\n",
        "  pass\r\n",
        "else:\r\n",
        "  print(\"카드를 꺼내라\")"
      ],
      "execution_count": 17,
      "outputs": []
    },
    {
      "cell_type": "markdown",
      "metadata": {
        "id": "L4f7DEVqFPFh"
      },
      "source": [
        "**elif**"
      ]
    },
    {
      "cell_type": "code",
      "metadata": {
        "colab": {
          "base_uri": "https://localhost:8080/"
        },
        "id": "oV4GGOWlFQaZ",
        "outputId": "1ec08154-4611-4c90-9dcf-3db7ec094e35"
      },
      "source": [
        "#주머니에 돈이 있으면 택시를 타고, 주머니에 돈은 없지만 카드가 있으면 택시를 타고, 돈도 없고 카드도 없으면 걸어가라\r\n",
        "\r\n",
        "pocket=['phone']\r\n",
        "card=True\r\n",
        "\r\n",
        "if 'money' in pocket:\r\n",
        "  print(\"택시 타기\")\r\n",
        "else: \r\n",
        "  if card:\r\n",
        "    print(\"버스 타기\")\r\n",
        "  else:\r\n",
        "    print(\"걸어가라\")"
      ],
      "execution_count": 21,
      "outputs": [
        {
          "output_type": "stream",
          "text": [
            "버스 타기\n"
          ],
          "name": "stdout"
        }
      ]
    },
    {
      "cell_type": "code",
      "metadata": {
        "colab": {
          "base_uri": "https://localhost:8080/"
        },
        "id": "AHuEkw_8KAHC",
        "outputId": "0622f371-56fd-485a-bb90-83cd60a59aac"
      },
      "source": [
        "pocket=['phone']\r\n",
        "card=False\r\n",
        "\r\n",
        "if 'money' in pocket:\r\n",
        "  print(\"택시 타기\")\r\n",
        "elif card:\r\n",
        "  print(\"버스 타기\")\r\n",
        "else:\r\n",
        "  print(\"걸어 가기\")"
      ],
      "execution_count": 22,
      "outputs": [
        {
          "output_type": "stream",
          "text": [
            "걸어 가기\n"
          ],
          "name": "stdout"
        }
      ]
    },
    {
      "cell_type": "markdown",
      "metadata": {
        "id": "lR_1piYPKYuy"
      },
      "source": [
        "**if문 한 줄로 작성** : \r\n",
        "수행할 문장이 한 개인 경우 편리"
      ]
    },
    {
      "cell_type": "code",
      "metadata": {
        "colab": {
          "base_uri": "https://localhost:8080/"
        },
        "id": "2ZDNlZXFKiHG",
        "outputId": "4249546f-d2c8-4fd7-de5a-e99576388ffd"
      },
      "source": [
        "pocket=[\"money\",\"phone\"]\r\n",
        "if \"money\" in pocket: print(\"택시 타기\")\r\n",
        "else: print(\"걸어 가기\")"
      ],
      "execution_count": 23,
      "outputs": [
        {
          "output_type": "stream",
          "text": [
            "택시 타기\n"
          ],
          "name": "stdout"
        }
      ]
    },
    {
      "cell_type": "markdown",
      "metadata": {
        "id": "VTs6ZuoSFQ7V"
      },
      "source": [
        "**조건부 표현식**\r\n"
      ]
    },
    {
      "cell_type": "code",
      "metadata": {
        "colab": {
          "base_uri": "https://localhost:8080/",
          "height": 34
        },
        "id": "7fvF7Vq_FUOH",
        "outputId": "932b94d4-3586-4234-be41-ebe0c7750772"
      },
      "source": [
        "score=50\r\n",
        "\r\n",
        "if score >=60:\r\n",
        "  message = \"성공\"\r\n",
        "else:\r\n",
        "  message=\"실패\"\r\n",
        "\r\n",
        "message"
      ],
      "execution_count": 27,
      "outputs": [
        {
          "output_type": "execute_result",
          "data": {
            "application/vnd.google.colaboratory.intrinsic+json": {
              "type": "string"
            },
            "text/plain": [
              "'실패'"
            ]
          },
          "metadata": {
            "tags": []
          },
          "execution_count": 27
        }
      ]
    },
    {
      "cell_type": "code",
      "metadata": {
        "colab": {
          "base_uri": "https://localhost:8080/",
          "height": 34
        },
        "id": "RNvCy-WrLCL-",
        "outputId": "7be795ca-e6e5-4ec8-a901-ecf9af550237"
      },
      "source": [
        "score=60\r\n",
        "\r\n",
        "message=\"성공\" if score >=60 else \"실패\"\r\n",
        "\r\n",
        "message"
      ],
      "execution_count": 28,
      "outputs": [
        {
          "output_type": "execute_result",
          "data": {
            "application/vnd.google.colaboratory.intrinsic+json": {
              "type": "string"
            },
            "text/plain": [
              "'성공'"
            ]
          },
          "metadata": {
            "tags": []
          },
          "execution_count": 28
        }
      ]
    },
    {
      "cell_type": "code",
      "metadata": {
        "id": "31nQMO_dLKTc"
      },
      "source": [
        ""
      ],
      "execution_count": null,
      "outputs": []
    }
  ]
}