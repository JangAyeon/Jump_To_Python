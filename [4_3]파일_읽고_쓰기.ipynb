{
  "nbformat": 4,
  "nbformat_minor": 0,
  "metadata": {
    "colab": {
      "name": "[4-3]파일 읽고 쓰기.ipynb",
      "provenance": []
    },
    "kernelspec": {
      "name": "python3",
      "display_name": "Python 3"
    }
  },
  "cells": [
    {
      "cell_type": "markdown",
      "metadata": {
        "id": "1lLf1HQzgxz4"
      },
      "source": [
        "**파일 생성하기**<br>\r\n",
        "파일 객체 = open(파일 이름, 파일 결기 모드)<br>\r\n",
        "r : 읽기 모드 : 파일을 읽기만 할 때 사용<br>\r\n",
        "w : 쓰기 모드 : 파일에 내용을 쓸 때 사용<br>\r\n",
        "a : 추가 모드 : 파일의 마지막에 새로운 내용을 추가할 때 사용"
      ]
    },
    {
      "cell_type": "code",
      "metadata": {
        "id": "kC6x3Wq0fllX"
      },
      "source": [
        "f=open(\"./practice.txt\",'w')\r\n",
        "f.close()"
      ],
      "execution_count": 1,
      "outputs": []
    },
    {
      "cell_type": "markdown",
      "metadata": {
        "id": "XhX1Al89iUd8"
      },
      "source": [
        "**파일을 쓰기 모드로 열러 출력값 적기**"
      ]
    },
    {
      "cell_type": "code",
      "metadata": {
        "id": "nMBhUYeeiPZf"
      },
      "source": [
        "f=open(\"practice.txt\",'w')\r\n",
        "for i in range(1,11):\r\n",
        "  data=\"%d번째 줄입니다.\\n\" %i\r\n",
        "  f.write(data)\r\n",
        "f.close()\r\n",
        "\r\n",
        "#f.write를 사용해 data값을 모니터 화면 대신 파일에 결과값을 적는 방법"
      ],
      "execution_count": 2,
      "outputs": []
    },
    {
      "cell_type": "code",
      "metadata": {
        "colab": {
          "base_uri": "https://localhost:8080/"
        },
        "id": "JDD4rpp7iubl",
        "outputId": "b53f4246-ddf7-479b-db0e-14c6fa08b5f1"
      },
      "source": [
        "for i in range(1,11):\r\n",
        "  data=\"%d번째 줄 입니다.\\n\"%i\r\n",
        "  print(data)\r\n",
        "#data값을 모니터 화면에 출력하는 방법"
      ],
      "execution_count": 3,
      "outputs": [
        {
          "output_type": "stream",
          "text": [
            "1번째 줄 입니다.\n",
            "\n",
            "2번째 줄 입니다.\n",
            "\n",
            "3번째 줄 입니다.\n",
            "\n",
            "4번째 줄 입니다.\n",
            "\n",
            "5번째 줄 입니다.\n",
            "\n",
            "6번째 줄 입니다.\n",
            "\n",
            "7번째 줄 입니다.\n",
            "\n",
            "8번째 줄 입니다.\n",
            "\n",
            "9번째 줄 입니다.\n",
            "\n",
            "10번째 줄 입니다.\n",
            "\n"
          ],
          "name": "stdout"
        }
      ]
    },
    {
      "cell_type": "markdown",
      "metadata": {
        "id": "BJA4bguMlfld"
      },
      "source": [
        "**외부에 저장된 파일 읽는 여러가지 방법**"
      ]
    },
    {
      "cell_type": "markdown",
      "metadata": {
        "id": "f5Yf4Mbvlnuu"
      },
      "source": [
        "\r\n",
        "\r\n",
        "> readline 함수\r\n",
        "\r\n"
      ]
    },
    {
      "cell_type": "code",
      "metadata": {
        "colab": {
          "base_uri": "https://localhost:8080/"
        },
        "id": "Cb2YpVx6jof7",
        "outputId": "a6ceda94-272c-42bd-8039-43e62c691ffc"
      },
      "source": [
        "f=open(\"practice.txt\",'r') #파일을 사용한 입력방식\r\n",
        "line=f.readline()\r\n",
        "print(line) #파일의 가장 첫 줄이 출력됨\r\n",
        "f.close"
      ],
      "execution_count": 4,
      "outputs": [
        {
          "output_type": "stream",
          "text": [
            "1번째 줄입니다.\n",
            "\n"
          ],
          "name": "stdout"
        },
        {
          "output_type": "execute_result",
          "data": {
            "text/plain": [
              "<function TextIOWrapper.close>"
            ]
          },
          "metadata": {
            "tags": []
          },
          "execution_count": 4
        }
      ]
    },
    {
      "cell_type": "code",
      "metadata": {
        "colab": {
          "base_uri": "https://localhost:8080/"
        },
        "id": "Nb26oyq6l1Yj",
        "outputId": "10b68bfd-a4f2-4211-91a4-a3e28ee80265"
      },
      "source": [
        "f=open(\"practice.txt\",'r')\r\n",
        "while True:  #무한 루프 안에서 f.readline을 이용해 계속 한 줄씩 읽어들임\r\n",
        "  line=f.readline()\r\n",
        "  if not line: #더이상 읽을 줄이 없으면 break\r\n",
        "    break\r\n",
        "  print(line)\r\n",
        "f.close()"
      ],
      "execution_count": 5,
      "outputs": [
        {
          "output_type": "stream",
          "text": [
            "1번째 줄입니다.\n",
            "\n",
            "2번째 줄입니다.\n",
            "\n",
            "3번째 줄입니다.\n",
            "\n",
            "4번째 줄입니다.\n",
            "\n",
            "5번째 줄입니다.\n",
            "\n",
            "6번째 줄입니다.\n",
            "\n",
            "7번째 줄입니다.\n",
            "\n",
            "8번째 줄입니다.\n",
            "\n",
            "9번째 줄입니다.\n",
            "\n",
            "10번째 줄입니다.\n",
            "\n"
          ],
          "name": "stdout"
        }
      ]
    },
    {
      "cell_type": "code",
      "metadata": {
        "colab": {
          "base_uri": "https://localhost:8080/"
        },
        "id": "NnxASCX4mNW2",
        "outputId": "f2f62383-9e94-4c14-a6df-7875b43e4c14"
      },
      "source": [
        "while 1:\r\n",
        "  data=input() #키보드를 사용한 입력 방식\r\n",
        "  if not data:\r\n",
        "    break\r\n",
        "  print(data)"
      ],
      "execution_count": 6,
      "outputs": [
        {
          "output_type": "stream",
          "text": [
            "1\n",
            "1\n",
            "2\n",
            "2\n",
            "\n"
          ],
          "name": "stdout"
        }
      ]
    },
    {
      "cell_type": "markdown",
      "metadata": {
        "id": "yC27IQJVm5OL"
      },
      "source": [
        "\r\n",
        "\r\n",
        "> readlines 함수\r\n",
        "\r\n"
      ]
    },
    {
      "cell_type": "code",
      "metadata": {
        "colab": {
          "base_uri": "https://localhost:8080/"
        },
        "id": "6eFs99zxmjpJ",
        "outputId": "c564fd20-e3e2-484a-e3b1-41ab6bd22e0f"
      },
      "source": [
        "f=open(\"practice.txt\",'r')\r\n",
        "lines=f.readlines() #모든 줄을 읽어서 각 줄을 요소로 갖는 리스트 반환\r\n",
        "for line in lines: \r\n",
        "  print(line)\r\n",
        "f.close\r\n"
      ],
      "execution_count": 7,
      "outputs": [
        {
          "output_type": "stream",
          "text": [
            "1번째 줄입니다.\n",
            "\n",
            "2번째 줄입니다.\n",
            "\n",
            "3번째 줄입니다.\n",
            "\n",
            "4번째 줄입니다.\n",
            "\n",
            "5번째 줄입니다.\n",
            "\n",
            "6번째 줄입니다.\n",
            "\n",
            "7번째 줄입니다.\n",
            "\n",
            "8번째 줄입니다.\n",
            "\n",
            "9번째 줄입니다.\n",
            "\n",
            "10번째 줄입니다.\n",
            "\n"
          ],
          "name": "stdout"
        },
        {
          "output_type": "execute_result",
          "data": {
            "text/plain": [
              "<function TextIOWrapper.close>"
            ]
          },
          "metadata": {
            "tags": []
          },
          "execution_count": 7
        }
      ]
    },
    {
      "cell_type": "markdown",
      "metadata": {
        "id": "r_gRlvjfnQ2q"
      },
      "source": [
        "\r\n",
        "\r\n",
        "> read 함수\r\n",
        "\r\n"
      ]
    },
    {
      "cell_type": "code",
      "metadata": {
        "colab": {
          "base_uri": "https://localhost:8080/"
        },
        "id": "ZHA55fHXnHUR",
        "outputId": "d272d373-99c3-46a2-eaf2-6ec5af5c9f07"
      },
      "source": [
        "f=open(\"practice.txt\",'r')\r\n",
        "data=f.read() #파일의 내용 전체를 문자열로 반환\r\n",
        "print(data)\r\n",
        "f.close()"
      ],
      "execution_count": 8,
      "outputs": [
        {
          "output_type": "stream",
          "text": [
            "1번째 줄입니다.\n",
            "2번째 줄입니다.\n",
            "3번째 줄입니다.\n",
            "4번째 줄입니다.\n",
            "5번째 줄입니다.\n",
            "6번째 줄입니다.\n",
            "7번째 줄입니다.\n",
            "8번째 줄입니다.\n",
            "9번째 줄입니다.\n",
            "10번째 줄입니다.\n",
            "\n"
          ],
          "name": "stdout"
        }
      ]
    },
    {
      "cell_type": "markdown",
      "metadata": {
        "id": "yure5uPfn2Vt"
      },
      "source": [
        "**파일에 새로운 내용 추가**<br>\r\n",
        "w : 쓰기 모드 : 이미 존재한 파일의 경우, 그 파일의 내용이 모두 사라짐<br>\r\n",
        "a : 추가 모드 : 원래 있떤 값을 유지하면서 새로운 값 추가"
      ]
    },
    {
      "cell_type": "code",
      "metadata": {
        "id": "gxpxeMVVnaI7"
      },
      "source": [
        "f=open(\"practice.txt\",'a')\r\n",
        "for i in range(11,20):\r\n",
        "  data=\"%d번째 줄입니다.\\n\"%i\r\n",
        "  f.write(data)\r\n",
        "\r\n",
        "f.close()"
      ],
      "execution_count": 9,
      "outputs": []
    },
    {
      "cell_type": "code",
      "metadata": {
        "id": "TkxUxDaronIt"
      },
      "source": [
        "f=open(\"./foo.txt\",'w')\r\n",
        "f.write(\"life is too short, you need python\")\r\n",
        "f.close()"
      ],
      "execution_count": 12,
      "outputs": []
    },
    {
      "cell_type": "code",
      "metadata": {
        "id": "yd9X6NjxpNWo"
      },
      "source": [
        "with open(\"foo.txt\",'w') as f: #with문 블록 벗어나는 순간 열린 파일의 객체가 자동으로  close\r\n",
        "  f.write(\"Life is too short, toy need python\")"
      ],
      "execution_count": 14,
      "outputs": []
    },
    {
      "cell_type": "markdown",
      "metadata": {
        "id": "ohaYAce7q-b4"
      },
      "source": [
        " -> 더 공부하기"
      ]
    },
    {
      "cell_type": "code",
      "metadata": {
        "colab": {
          "base_uri": "https://localhost:8080/"
        },
        "id": "ijNL6k81pu1N",
        "outputId": "a7e7f682-886f-482f-f15f-7225baaeb042"
      },
      "source": [
        "import sys\r\n",
        "\r\n",
        "args=sys.argv[1:]\r\n",
        "for i in args:\r\n",
        "  print(i)"
      ],
      "execution_count": 16,
      "outputs": [
        {
          "output_type": "stream",
          "text": [
            "-f\n",
            "/root/.local/share/jupyter/runtime/kernel-4476b8da-c4bb-4840-8861-340a6f7bc844.json\n"
          ],
          "name": "stdout"
        }
      ]
    },
    {
      "cell_type": "code",
      "metadata": {
        "colab": {
          "base_uri": "https://localhost:8080/"
        },
        "id": "q3027HNOrVIA",
        "outputId": "28cb6c1d-413f-402f-c4f8-bb0041bfe85f"
      },
      "source": [
        "import sys\r\n",
        "\r\n",
        "args=sys.argv[1:]\r\n",
        "for i in args:\r\n",
        "  print(i.upper(),end=\"\")"
      ],
      "execution_count": 17,
      "outputs": [
        {
          "output_type": "stream",
          "text": [
            "-F/ROOT/.LOCAL/SHARE/JUPYTER/RUNTIME/KERNEL-4476B8DA-C4BB-4840-8861-340A6F7BC844.JSON"
          ],
          "name": "stdout"
        }
      ]
    },
    {
      "cell_type": "code",
      "metadata": {
        "id": "f5t8kztAsdnY"
      },
      "source": [
        ""
      ],
      "execution_count": null,
      "outputs": []
    }
  ]
}